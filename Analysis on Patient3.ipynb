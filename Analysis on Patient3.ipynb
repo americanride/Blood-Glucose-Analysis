{
 "cells": [
  {
   "cell_type": "code",
   "execution_count": 1,
   "metadata": {},
   "outputs": [],
   "source": [
    "import pandas as pd \n",
    "import numpy as np\n",
    "import matplotlib.pyplot as plt\n",
    "import seaborn as sns\n",
    "import matplotlib\n",
    "import warnings\n",
    "warnings.filterwarnings('ignore')\n",
    "from datetime import datetime"
   ]
  },
  {
   "cell_type": "code",
   "execution_count": 53,
   "metadata": {},
   "outputs": [
    {
     "data": {
      "text/html": [
       "<div>\n",
       "<style scoped>\n",
       "    .dataframe tbody tr th:only-of-type {\n",
       "        vertical-align: middle;\n",
       "    }\n",
       "\n",
       "    .dataframe tbody tr th {\n",
       "        vertical-align: top;\n",
       "    }\n",
       "\n",
       "    .dataframe thead th {\n",
       "        text-align: right;\n",
       "    }\n",
       "</style>\n",
       "<table border=\"1\" class=\"dataframe\">\n",
       "  <thead>\n",
       "    <tr style=\"text-align: right;\">\n",
       "      <th></th>\n",
       "      <th>id</th>\n",
       "      <th>user_id</th>\n",
       "      <th>record_type</th>\n",
       "      <th>description</th>\n",
       "      <th>timestamp_start</th>\n",
       "      <th>timestamp_end</th>\n",
       "      <th>payload</th>\n",
       "      <th>created</th>\n",
       "      <th>last_modified</th>\n",
       "    </tr>\n",
       "  </thead>\n",
       "  <tbody>\n",
       "    <tr>\n",
       "      <th>0</th>\n",
       "      <td>cccccccc-cccc-cccc-cccc-cccccccccc00</td>\n",
       "      <td>cccccccc-cccc-cccc-cccc-cccccccccccc</td>\n",
       "      <td>MEAL_BREAKFAST</td>\n",
       "      <td>3 Vollkorntoast, 75g Schmelzk�se, 35g Butter, ...</td>\n",
       "      <td>2021-02-17T06:00:00+01:00</td>\n",
       "      <td>NaN</td>\n",
       "      <td>NaN</td>\n",
       "      <td>NaN</td>\n",
       "      <td>NaN</td>\n",
       "    </tr>\n",
       "    <tr>\n",
       "      <th>1</th>\n",
       "      <td>cccccccc-cccc-cccc-cccc-cccccccccc01</td>\n",
       "      <td>cccccccc-cccc-cccc-cccc-cccccccccccc</td>\n",
       "      <td>MEAL_LUNCH</td>\n",
       "      <td>350g Spinat,250g Kartoffeln, 2 Spiegeleier, 40...</td>\n",
       "      <td>2021-02-17T13:45:00+01:00</td>\n",
       "      <td>NaN</td>\n",
       "      <td>NaN</td>\n",
       "      <td>NaN</td>\n",
       "      <td>NaN</td>\n",
       "    </tr>\n",
       "    <tr>\n",
       "      <th>2</th>\n",
       "      <td>cccccccc-cccc-cccc-cccc-cccccccccc02</td>\n",
       "      <td>cccccccc-cccc-cccc-cccc-cccccccccccc</td>\n",
       "      <td>MEAL_DINNER</td>\n",
       "      <td>1 Vollkornbrot, 25g Butter, 65g Romadur, 20g E...</td>\n",
       "      <td>2021-02-17T19:45:00+01:00</td>\n",
       "      <td>NaN</td>\n",
       "      <td>NaN</td>\n",
       "      <td>NaN</td>\n",
       "      <td>NaN</td>\n",
       "    </tr>\n",
       "    <tr>\n",
       "      <th>3</th>\n",
       "      <td>cccccccc-cccc-cccc-cccc-cccccccccc03</td>\n",
       "      <td>cccccccc-cccc-cccc-cccc-cccccccccccc</td>\n",
       "      <td>MEAL_LUNCH</td>\n",
       "      <td>140g gebackener Leberk�se, 150g Erbsen-M�hren,...</td>\n",
       "      <td>2021-02-19T11:45:00+01:00</td>\n",
       "      <td>NaN</td>\n",
       "      <td>NaN</td>\n",
       "      <td>NaN</td>\n",
       "      <td>NaN</td>\n",
       "    </tr>\n",
       "    <tr>\n",
       "      <th>4</th>\n",
       "      <td>cccccccc-cccc-cccc-cccc-cccccccccc04</td>\n",
       "      <td>cccccccc-cccc-cccc-cccc-cccccccccccc</td>\n",
       "      <td>MEAL_DINNER</td>\n",
       "      <td>1 Vollkornbr�tchen, 70g Leberk�se, 100g Mixed ...</td>\n",
       "      <td>2021-02-19T18:30:00+01:00</td>\n",
       "      <td>NaN</td>\n",
       "      <td>NaN</td>\n",
       "      <td>NaN</td>\n",
       "      <td>NaN</td>\n",
       "    </tr>\n",
       "    <tr>\n",
       "      <th>5</th>\n",
       "      <td>cccccccc-cccc-cccc-cccc-cccccccccc05</td>\n",
       "      <td>cccccccc-cccc-cccc-cccc-cccccccccccc</td>\n",
       "      <td>MEAL_LUNCH</td>\n",
       "      <td>H�hnchenschenkel, 100g Kartoffelsalat, 50g Kop...</td>\n",
       "      <td>2021-02-21T12:45:00+01:00</td>\n",
       "      <td>NaN</td>\n",
       "      <td>NaN</td>\n",
       "      <td>NaN</td>\n",
       "      <td>NaN</td>\n",
       "    </tr>\n",
       "    <tr>\n",
       "      <th>6</th>\n",
       "      <td>cccccccc-cccc-cccc-cccc-cccccccccc06</td>\n",
       "      <td>cccccccc-cccc-cccc-cccc-cccccccccccc</td>\n",
       "      <td>MEAL_DINNER</td>\n",
       "      <td>1 Schb. Vollkorndinkelbrot, 30g Butter, 100g K...</td>\n",
       "      <td>2021-02-21T18:00:00+01:00</td>\n",
       "      <td>NaN</td>\n",
       "      <td>NaN</td>\n",
       "      <td>NaN</td>\n",
       "      <td>NaN</td>\n",
       "    </tr>\n",
       "  </tbody>\n",
       "</table>\n",
       "</div>"
      ],
      "text/plain": [
       "                                     id                               user_id  \\\n",
       "0  cccccccc-cccc-cccc-cccc-cccccccccc00  cccccccc-cccc-cccc-cccc-cccccccccccc   \n",
       "1  cccccccc-cccc-cccc-cccc-cccccccccc01  cccccccc-cccc-cccc-cccc-cccccccccccc   \n",
       "2  cccccccc-cccc-cccc-cccc-cccccccccc02  cccccccc-cccc-cccc-cccc-cccccccccccc   \n",
       "3  cccccccc-cccc-cccc-cccc-cccccccccc03  cccccccc-cccc-cccc-cccc-cccccccccccc   \n",
       "4  cccccccc-cccc-cccc-cccc-cccccccccc04  cccccccc-cccc-cccc-cccc-cccccccccccc   \n",
       "5  cccccccc-cccc-cccc-cccc-cccccccccc05  cccccccc-cccc-cccc-cccc-cccccccccccc   \n",
       "6  cccccccc-cccc-cccc-cccc-cccccccccc06  cccccccc-cccc-cccc-cccc-cccccccccccc   \n",
       "\n",
       "      record_type                                        description  \\\n",
       "0  MEAL_BREAKFAST  3 Vollkorntoast, 75g Schmelzk�se, 35g Butter, ...   \n",
       "1      MEAL_LUNCH  350g Spinat,250g Kartoffeln, 2 Spiegeleier, 40...   \n",
       "2     MEAL_DINNER  1 Vollkornbrot, 25g Butter, 65g Romadur, 20g E...   \n",
       "3      MEAL_LUNCH  140g gebackener Leberk�se, 150g Erbsen-M�hren,...   \n",
       "4     MEAL_DINNER  1 Vollkornbr�tchen, 70g Leberk�se, 100g Mixed ...   \n",
       "5      MEAL_LUNCH  H�hnchenschenkel, 100g Kartoffelsalat, 50g Kop...   \n",
       "6     MEAL_DINNER  1 Schb. Vollkorndinkelbrot, 30g Butter, 100g K...   \n",
       "\n",
       "             timestamp_start  timestamp_end  payload  created  last_modified  \n",
       "0  2021-02-17T06:00:00+01:00            NaN      NaN      NaN            NaN  \n",
       "1  2021-02-17T13:45:00+01:00            NaN      NaN      NaN            NaN  \n",
       "2  2021-02-17T19:45:00+01:00            NaN      NaN      NaN            NaN  \n",
       "3  2021-02-19T11:45:00+01:00            NaN      NaN      NaN            NaN  \n",
       "4  2021-02-19T18:30:00+01:00            NaN      NaN      NaN            NaN  \n",
       "5  2021-02-21T12:45:00+01:00            NaN      NaN      NaN            NaN  \n",
       "6  2021-02-21T18:00:00+01:00            NaN      NaN      NaN            NaN  "
      ]
     },
     "execution_count": 53,
     "metadata": {},
     "output_type": "execute_result"
    }
   ],
   "source": [
    "#reading the activities\n",
    "df2 = pd.read_csv('/Users/ganiyuopeyemi/desktop/Una Health/c/activities_all3.csv')\n",
    "df2.head(7)"
   ]
  },
  {
   "cell_type": "code",
   "execution_count": 3,
   "metadata": {},
   "outputs": [
    {
     "data": {
      "text/plain": [
       "(7, 9)"
      ]
     },
     "execution_count": 3,
     "metadata": {},
     "output_type": "execute_result"
    }
   ],
   "source": [
    "df2.shape"
   ]
  },
  {
   "cell_type": "code",
   "execution_count": 4,
   "metadata": {},
   "outputs": [
    {
     "name": "stdout",
     "output_type": "stream",
     "text": [
      "<class 'pandas.core.frame.DataFrame'>\n",
      "RangeIndex: 7 entries, 0 to 6\n",
      "Data columns (total 9 columns):\n",
      " #   Column           Non-Null Count  Dtype  \n",
      "---  ------           --------------  -----  \n",
      " 0   id               7 non-null      object \n",
      " 1   user_id          7 non-null      object \n",
      " 2   record_type      7 non-null      object \n",
      " 3   description      7 non-null      object \n",
      " 4   timestamp_start  7 non-null      object \n",
      " 5   timestamp_end    0 non-null      float64\n",
      " 6   payload          0 non-null      float64\n",
      " 7   created          0 non-null      float64\n",
      " 8   last_modified    0 non-null      float64\n",
      "dtypes: float64(4), object(5)\n",
      "memory usage: 632.0+ bytes\n"
     ]
    }
   ],
   "source": [
    "df2.info()"
   ]
  },
  {
   "cell_type": "code",
   "execution_count": 5,
   "metadata": {},
   "outputs": [
    {
     "data": {
      "text/plain": [
       "id                  object\n",
       "user_id             object\n",
       "record_type         object\n",
       "description         object\n",
       "timestamp_start     object\n",
       "timestamp_end      float64\n",
       "payload            float64\n",
       "created            float64\n",
       "last_modified      float64\n",
       "dtype: object"
      ]
     },
     "execution_count": 5,
     "metadata": {},
     "output_type": "execute_result"
    }
   ],
   "source": [
    "df2.dtypes"
   ]
  },
  {
   "cell_type": "code",
   "execution_count": 6,
   "metadata": {},
   "outputs": [],
   "source": [
    "#Analysis on the levels_all"
   ]
  },
  {
   "cell_type": "code",
   "execution_count": 7,
   "metadata": {},
   "outputs": [
    {
     "data": {
      "text/html": [
       "<div>\n",
       "<style scoped>\n",
       "    .dataframe tbody tr th:only-of-type {\n",
       "        vertical-align: middle;\n",
       "    }\n",
       "\n",
       "    .dataframe tbody tr th {\n",
       "        vertical-align: top;\n",
       "    }\n",
       "\n",
       "    .dataframe thead th {\n",
       "        text-align: right;\n",
       "    }\n",
       "</style>\n",
       "<table border=\"1\" class=\"dataframe\">\n",
       "  <thead>\n",
       "    <tr style=\"text-align: right;\">\n",
       "      <th></th>\n",
       "      <th></th>\n",
       "      <th></th>\n",
       "      <th></th>\n",
       "      <th></th>\n",
       "      <th></th>\n",
       "      <th></th>\n",
       "      <th></th>\n",
       "      <th></th>\n",
       "      <th></th>\n",
       "      <th></th>\n",
       "      <th></th>\n",
       "      <th></th>\n",
       "      <th></th>\n",
       "      <th>Glukose-Werte</th>\n",
       "      <th>Erstellt am</th>\n",
       "      <th>25-02-2021 09:55 UTC</th>\n",
       "      <th>Erstellt von</th>\n",
       "      <th>ccc</th>\n",
       "    </tr>\n",
       "  </thead>\n",
       "  <tbody>\n",
       "    <tr>\n",
       "      <th>Gerät</th>\n",
       "      <th>Seriennummer</th>\n",
       "      <th>Gerätezeitstempel</th>\n",
       "      <th>Aufzeichnungstyp</th>\n",
       "      <th>Glukosewert-Verlauf mg/dL</th>\n",
       "      <th>Glukose-Scan mg/dL</th>\n",
       "      <th>Nicht numerisches schnellwirkendes Insulin</th>\n",
       "      <th>Schnellwirkendes Insulin (Einheiten)</th>\n",
       "      <th>Nicht numerische Nahrungsdaten</th>\n",
       "      <th>Kohlenhydrate (Gramm)</th>\n",
       "      <th>Kohlenhydrate (Portionen)</th>\n",
       "      <th>Nicht numerisches Depotinsulin</th>\n",
       "      <th>Depotinsulin (Einheiten)</th>\n",
       "      <th>Notizen</th>\n",
       "      <td>Glukose-Teststreifen mg/dL</td>\n",
       "      <td>Keton mmol/L</td>\n",
       "      <td>Mahlzeiteninsulin (Einheiten)</td>\n",
       "      <td>Korrekturinsulin (Einheiten)</td>\n",
       "      <td>Insulin-Änderung durch Anwender (Einheiten)</td>\n",
       "    </tr>\n",
       "    <tr>\n",
       "      <th rowspan=\"4\" valign=\"top\">FreeStyle LibreLink</th>\n",
       "      <th rowspan=\"4\" valign=\"top\">e09bb0f0-018b-429b-94c7-62bb306a0136</th>\n",
       "      <th>10-02-2021 09:08</th>\n",
       "      <th>0</th>\n",
       "      <th>138</th>\n",
       "      <th>NaN</th>\n",
       "      <th>NaN</th>\n",
       "      <th>NaN</th>\n",
       "      <th>NaN</th>\n",
       "      <th>NaN</th>\n",
       "      <th>NaN</th>\n",
       "      <th>NaN</th>\n",
       "      <th>NaN</th>\n",
       "      <th>NaN</th>\n",
       "      <td>NaN</td>\n",
       "      <td>NaN</td>\n",
       "      <td>NaN</td>\n",
       "      <td>NaN</td>\n",
       "      <td>NaN</td>\n",
       "    </tr>\n",
       "    <tr>\n",
       "      <th>10-02-2021 09:25</th>\n",
       "      <th>0</th>\n",
       "      <th>139</th>\n",
       "      <th>NaN</th>\n",
       "      <th>NaN</th>\n",
       "      <th>NaN</th>\n",
       "      <th>NaN</th>\n",
       "      <th>NaN</th>\n",
       "      <th>NaN</th>\n",
       "      <th>NaN</th>\n",
       "      <th>NaN</th>\n",
       "      <th>NaN</th>\n",
       "      <td>NaN</td>\n",
       "      <td>NaN</td>\n",
       "      <td>NaN</td>\n",
       "      <td>NaN</td>\n",
       "      <td>NaN</td>\n",
       "    </tr>\n",
       "    <tr>\n",
       "      <th>10-02-2021 09:40</th>\n",
       "      <th>0</th>\n",
       "      <th>139</th>\n",
       "      <th>NaN</th>\n",
       "      <th>NaN</th>\n",
       "      <th>NaN</th>\n",
       "      <th>NaN</th>\n",
       "      <th>NaN</th>\n",
       "      <th>NaN</th>\n",
       "      <th>NaN</th>\n",
       "      <th>NaN</th>\n",
       "      <th>NaN</th>\n",
       "      <td>NaN</td>\n",
       "      <td>NaN</td>\n",
       "      <td>NaN</td>\n",
       "      <td>NaN</td>\n",
       "      <td>NaN</td>\n",
       "    </tr>\n",
       "    <tr>\n",
       "      <th>10-02-2021 09:55</th>\n",
       "      <th>0</th>\n",
       "      <th>138</th>\n",
       "      <th>NaN</th>\n",
       "      <th>NaN</th>\n",
       "      <th>NaN</th>\n",
       "      <th>NaN</th>\n",
       "      <th>NaN</th>\n",
       "      <th>NaN</th>\n",
       "      <th>NaN</th>\n",
       "      <th>NaN</th>\n",
       "      <th>NaN</th>\n",
       "      <td>NaN</td>\n",
       "      <td>NaN</td>\n",
       "      <td>NaN</td>\n",
       "      <td>NaN</td>\n",
       "      <td>NaN</td>\n",
       "    </tr>\n",
       "  </tbody>\n",
       "</table>\n",
       "</div>"
      ],
      "text/plain": [
       "                                                                                                                                                                                                                                                                                                                                                                                      Glukose-Werte  \\\n",
       "Gerät               Seriennummer                         Gerätezeitstempel Aufzeichnungstyp Glukosewert-Verlauf mg/dL Glukose-Scan mg/dL Nicht numerisches schnellwirkendes Insulin Schnellwirkendes Insulin (Einheiten) Nicht numerische Nahrungsdaten Kohlenhydrate (Gramm) Kohlenhydrate (Portionen) Nicht numerisches Depotinsulin Depotinsulin (Einheiten) Notizen  Glukose-Teststreifen mg/dL   \n",
       "FreeStyle LibreLink e09bb0f0-018b-429b-94c7-62bb306a0136 10-02-2021 09:08  0                138                       NaN                NaN                                        NaN                                  NaN                            NaN                   NaN                       NaN                            NaN                      NaN                             NaN   \n",
       "                                                         10-02-2021 09:25  0                139                       NaN                NaN                                        NaN                                  NaN                            NaN                   NaN                       NaN                            NaN                      NaN                             NaN   \n",
       "                                                         10-02-2021 09:40  0                139                       NaN                NaN                                        NaN                                  NaN                            NaN                   NaN                       NaN                            NaN                      NaN                             NaN   \n",
       "                                                         10-02-2021 09:55  0                138                       NaN                NaN                                        NaN                                  NaN                            NaN                   NaN                       NaN                            NaN                      NaN                             NaN   \n",
       "\n",
       "                                                                                                                                                                                                                                                                                                                                                                          Erstellt am  \\\n",
       "Gerät               Seriennummer                         Gerätezeitstempel Aufzeichnungstyp Glukosewert-Verlauf mg/dL Glukose-Scan mg/dL Nicht numerisches schnellwirkendes Insulin Schnellwirkendes Insulin (Einheiten) Nicht numerische Nahrungsdaten Kohlenhydrate (Gramm) Kohlenhydrate (Portionen) Nicht numerisches Depotinsulin Depotinsulin (Einheiten) Notizen  Keton mmol/L   \n",
       "FreeStyle LibreLink e09bb0f0-018b-429b-94c7-62bb306a0136 10-02-2021 09:08  0                138                       NaN                NaN                                        NaN                                  NaN                            NaN                   NaN                       NaN                            NaN                      NaN               NaN   \n",
       "                                                         10-02-2021 09:25  0                139                       NaN                NaN                                        NaN                                  NaN                            NaN                   NaN                       NaN                            NaN                      NaN               NaN   \n",
       "                                                         10-02-2021 09:40  0                139                       NaN                NaN                                        NaN                                  NaN                            NaN                   NaN                       NaN                            NaN                      NaN               NaN   \n",
       "                                                         10-02-2021 09:55  0                138                       NaN                NaN                                        NaN                                  NaN                            NaN                   NaN                       NaN                            NaN                      NaN               NaN   \n",
       "\n",
       "                                                                                                                                                                                                                                                                                                                                                                                  25-02-2021 09:55 UTC  \\\n",
       "Gerät               Seriennummer                         Gerätezeitstempel Aufzeichnungstyp Glukosewert-Verlauf mg/dL Glukose-Scan mg/dL Nicht numerisches schnellwirkendes Insulin Schnellwirkendes Insulin (Einheiten) Nicht numerische Nahrungsdaten Kohlenhydrate (Gramm) Kohlenhydrate (Portionen) Nicht numerisches Depotinsulin Depotinsulin (Einheiten) Notizen  Mahlzeiteninsulin (Einheiten)   \n",
       "FreeStyle LibreLink e09bb0f0-018b-429b-94c7-62bb306a0136 10-02-2021 09:08  0                138                       NaN                NaN                                        NaN                                  NaN                            NaN                   NaN                       NaN                            NaN                      NaN                                NaN   \n",
       "                                                         10-02-2021 09:25  0                139                       NaN                NaN                                        NaN                                  NaN                            NaN                   NaN                       NaN                            NaN                      NaN                                NaN   \n",
       "                                                         10-02-2021 09:40  0                139                       NaN                NaN                                        NaN                                  NaN                            NaN                   NaN                       NaN                            NaN                      NaN                                NaN   \n",
       "                                                         10-02-2021 09:55  0                138                       NaN                NaN                                        NaN                                  NaN                            NaN                   NaN                       NaN                            NaN                      NaN                                NaN   \n",
       "\n",
       "                                                                                                                                                                                                                                                                                                                                                                                         Erstellt von  \\\n",
       "Gerät               Seriennummer                         Gerätezeitstempel Aufzeichnungstyp Glukosewert-Verlauf mg/dL Glukose-Scan mg/dL Nicht numerisches schnellwirkendes Insulin Schnellwirkendes Insulin (Einheiten) Nicht numerische Nahrungsdaten Kohlenhydrate (Gramm) Kohlenhydrate (Portionen) Nicht numerisches Depotinsulin Depotinsulin (Einheiten) Notizen  Korrekturinsulin (Einheiten)   \n",
       "FreeStyle LibreLink e09bb0f0-018b-429b-94c7-62bb306a0136 10-02-2021 09:08  0                138                       NaN                NaN                                        NaN                                  NaN                            NaN                   NaN                       NaN                            NaN                      NaN                               NaN   \n",
       "                                                         10-02-2021 09:25  0                139                       NaN                NaN                                        NaN                                  NaN                            NaN                   NaN                       NaN                            NaN                      NaN                               NaN   \n",
       "                                                         10-02-2021 09:40  0                139                       NaN                NaN                                        NaN                                  NaN                            NaN                   NaN                       NaN                            NaN                      NaN                               NaN   \n",
       "                                                         10-02-2021 09:55  0                138                       NaN                NaN                                        NaN                                  NaN                            NaN                   NaN                       NaN                            NaN                      NaN                               NaN   \n",
       "\n",
       "                                                                                                                                                                                                                                                                                                                                                                                                                 ccc  \n",
       "Gerät               Seriennummer                         Gerätezeitstempel Aufzeichnungstyp Glukosewert-Verlauf mg/dL Glukose-Scan mg/dL Nicht numerisches schnellwirkendes Insulin Schnellwirkendes Insulin (Einheiten) Nicht numerische Nahrungsdaten Kohlenhydrate (Gramm) Kohlenhydrate (Portionen) Nicht numerisches Depotinsulin Depotinsulin (Einheiten) Notizen  Insulin-Änderung durch Anwender (Einheiten)  \n",
       "FreeStyle LibreLink e09bb0f0-018b-429b-94c7-62bb306a0136 10-02-2021 09:08  0                138                       NaN                NaN                                        NaN                                  NaN                            NaN                   NaN                       NaN                            NaN                      NaN                                              NaN  \n",
       "                                                         10-02-2021 09:25  0                139                       NaN                NaN                                        NaN                                  NaN                            NaN                   NaN                       NaN                            NaN                      NaN                                              NaN  \n",
       "                                                         10-02-2021 09:40  0                139                       NaN                NaN                                        NaN                                  NaN                            NaN                   NaN                       NaN                            NaN                      NaN                                              NaN  \n",
       "                                                         10-02-2021 09:55  0                138                       NaN                NaN                                        NaN                                  NaN                            NaN                   NaN                       NaN                            NaN                      NaN                                              NaN  "
      ]
     },
     "execution_count": 7,
     "metadata": {},
     "output_type": "execute_result"
    }
   ],
   "source": [
    "#read levels_all\n",
    "df1 = pd.read_csv('/Users/ganiyuopeyemi/desktop/Una Health/c/levels_all3.csv')\n",
    "df1.head()"
   ]
  },
  {
   "cell_type": "code",
   "execution_count": 8,
   "metadata": {},
   "outputs": [],
   "source": [
    "#change multiindex to single index pandas"
   ]
  },
  {
   "cell_type": "code",
   "execution_count": 9,
   "metadata": {},
   "outputs": [],
   "source": [
    "df_1 = df1.reset_index()"
   ]
  },
  {
   "cell_type": "code",
   "execution_count": 10,
   "metadata": {},
   "outputs": [
    {
     "data": {
      "text/html": [
       "<div>\n",
       "<style scoped>\n",
       "    .dataframe tbody tr th:only-of-type {\n",
       "        vertical-align: middle;\n",
       "    }\n",
       "\n",
       "    .dataframe tbody tr th {\n",
       "        vertical-align: top;\n",
       "    }\n",
       "\n",
       "    .dataframe thead th {\n",
       "        text-align: right;\n",
       "    }\n",
       "</style>\n",
       "<table border=\"1\" class=\"dataframe\">\n",
       "  <thead>\n",
       "    <tr style=\"text-align: right;\">\n",
       "      <th></th>\n",
       "      <th>level_0</th>\n",
       "      <th>level_1</th>\n",
       "      <th>level_2</th>\n",
       "      <th>level_3</th>\n",
       "      <th>level_4</th>\n",
       "      <th>level_5</th>\n",
       "      <th>level_6</th>\n",
       "      <th>level_7</th>\n",
       "      <th>level_8</th>\n",
       "      <th>level_9</th>\n",
       "      <th>level_10</th>\n",
       "      <th>level_11</th>\n",
       "      <th>level_12</th>\n",
       "      <th>level_13</th>\n",
       "      <th>Glukose-Werte</th>\n",
       "      <th>Erstellt am</th>\n",
       "      <th>25-02-2021 09:55 UTC</th>\n",
       "      <th>Erstellt von</th>\n",
       "      <th>ccc</th>\n",
       "    </tr>\n",
       "  </thead>\n",
       "  <tbody>\n",
       "    <tr>\n",
       "      <th>0</th>\n",
       "      <td>Gerät</td>\n",
       "      <td>Seriennummer</td>\n",
       "      <td>Gerätezeitstempel</td>\n",
       "      <td>Aufzeichnungstyp</td>\n",
       "      <td>Glukosewert-Verlauf mg/dL</td>\n",
       "      <td>Glukose-Scan mg/dL</td>\n",
       "      <td>Nicht numerisches schnellwirkendes Insulin</td>\n",
       "      <td>Schnellwirkendes Insulin (Einheiten)</td>\n",
       "      <td>Nicht numerische Nahrungsdaten</td>\n",
       "      <td>Kohlenhydrate (Gramm)</td>\n",
       "      <td>Kohlenhydrate (Portionen)</td>\n",
       "      <td>Nicht numerisches Depotinsulin</td>\n",
       "      <td>Depotinsulin (Einheiten)</td>\n",
       "      <td>Notizen</td>\n",
       "      <td>Glukose-Teststreifen mg/dL</td>\n",
       "      <td>Keton mmol/L</td>\n",
       "      <td>Mahlzeiteninsulin (Einheiten)</td>\n",
       "      <td>Korrekturinsulin (Einheiten)</td>\n",
       "      <td>Insulin-Änderung durch Anwender (Einheiten)</td>\n",
       "    </tr>\n",
       "    <tr>\n",
       "      <th>1</th>\n",
       "      <td>FreeStyle LibreLink</td>\n",
       "      <td>e09bb0f0-018b-429b-94c7-62bb306a0136</td>\n",
       "      <td>10-02-2021 09:08</td>\n",
       "      <td>0</td>\n",
       "      <td>138</td>\n",
       "      <td>NaN</td>\n",
       "      <td>NaN</td>\n",
       "      <td>NaN</td>\n",
       "      <td>NaN</td>\n",
       "      <td>NaN</td>\n",
       "      <td>NaN</td>\n",
       "      <td>NaN</td>\n",
       "      <td>NaN</td>\n",
       "      <td>NaN</td>\n",
       "      <td>NaN</td>\n",
       "      <td>NaN</td>\n",
       "      <td>NaN</td>\n",
       "      <td>NaN</td>\n",
       "      <td>NaN</td>\n",
       "    </tr>\n",
       "    <tr>\n",
       "      <th>2</th>\n",
       "      <td>FreeStyle LibreLink</td>\n",
       "      <td>e09bb0f0-018b-429b-94c7-62bb306a0136</td>\n",
       "      <td>10-02-2021 09:25</td>\n",
       "      <td>0</td>\n",
       "      <td>139</td>\n",
       "      <td>NaN</td>\n",
       "      <td>NaN</td>\n",
       "      <td>NaN</td>\n",
       "      <td>NaN</td>\n",
       "      <td>NaN</td>\n",
       "      <td>NaN</td>\n",
       "      <td>NaN</td>\n",
       "      <td>NaN</td>\n",
       "      <td>NaN</td>\n",
       "      <td>NaN</td>\n",
       "      <td>NaN</td>\n",
       "      <td>NaN</td>\n",
       "      <td>NaN</td>\n",
       "      <td>NaN</td>\n",
       "    </tr>\n",
       "    <tr>\n",
       "      <th>3</th>\n",
       "      <td>FreeStyle LibreLink</td>\n",
       "      <td>e09bb0f0-018b-429b-94c7-62bb306a0136</td>\n",
       "      <td>10-02-2021 09:40</td>\n",
       "      <td>0</td>\n",
       "      <td>139</td>\n",
       "      <td>NaN</td>\n",
       "      <td>NaN</td>\n",
       "      <td>NaN</td>\n",
       "      <td>NaN</td>\n",
       "      <td>NaN</td>\n",
       "      <td>NaN</td>\n",
       "      <td>NaN</td>\n",
       "      <td>NaN</td>\n",
       "      <td>NaN</td>\n",
       "      <td>NaN</td>\n",
       "      <td>NaN</td>\n",
       "      <td>NaN</td>\n",
       "      <td>NaN</td>\n",
       "      <td>NaN</td>\n",
       "    </tr>\n",
       "    <tr>\n",
       "      <th>4</th>\n",
       "      <td>FreeStyle LibreLink</td>\n",
       "      <td>e09bb0f0-018b-429b-94c7-62bb306a0136</td>\n",
       "      <td>10-02-2021 09:55</td>\n",
       "      <td>0</td>\n",
       "      <td>138</td>\n",
       "      <td>NaN</td>\n",
       "      <td>NaN</td>\n",
       "      <td>NaN</td>\n",
       "      <td>NaN</td>\n",
       "      <td>NaN</td>\n",
       "      <td>NaN</td>\n",
       "      <td>NaN</td>\n",
       "      <td>NaN</td>\n",
       "      <td>NaN</td>\n",
       "      <td>NaN</td>\n",
       "      <td>NaN</td>\n",
       "      <td>NaN</td>\n",
       "      <td>NaN</td>\n",
       "      <td>NaN</td>\n",
       "    </tr>\n",
       "  </tbody>\n",
       "</table>\n",
       "</div>"
      ],
      "text/plain": [
       "               level_0                               level_1  \\\n",
       "0                Gerät                          Seriennummer   \n",
       "1  FreeStyle LibreLink  e09bb0f0-018b-429b-94c7-62bb306a0136   \n",
       "2  FreeStyle LibreLink  e09bb0f0-018b-429b-94c7-62bb306a0136   \n",
       "3  FreeStyle LibreLink  e09bb0f0-018b-429b-94c7-62bb306a0136   \n",
       "4  FreeStyle LibreLink  e09bb0f0-018b-429b-94c7-62bb306a0136   \n",
       "\n",
       "             level_2           level_3                    level_4  \\\n",
       "0  Gerätezeitstempel  Aufzeichnungstyp  Glukosewert-Verlauf mg/dL   \n",
       "1   10-02-2021 09:08                 0                        138   \n",
       "2   10-02-2021 09:25                 0                        139   \n",
       "3   10-02-2021 09:40                 0                        139   \n",
       "4   10-02-2021 09:55                 0                        138   \n",
       "\n",
       "              level_5                                     level_6  \\\n",
       "0  Glukose-Scan mg/dL  Nicht numerisches schnellwirkendes Insulin   \n",
       "1                 NaN                                         NaN   \n",
       "2                 NaN                                         NaN   \n",
       "3                 NaN                                         NaN   \n",
       "4                 NaN                                         NaN   \n",
       "\n",
       "                                level_7                         level_8  \\\n",
       "0  Schnellwirkendes Insulin (Einheiten)  Nicht numerische Nahrungsdaten   \n",
       "1                                   NaN                             NaN   \n",
       "2                                   NaN                             NaN   \n",
       "3                                   NaN                             NaN   \n",
       "4                                   NaN                             NaN   \n",
       "\n",
       "                 level_9                   level_10  \\\n",
       "0  Kohlenhydrate (Gramm)  Kohlenhydrate (Portionen)   \n",
       "1                    NaN                        NaN   \n",
       "2                    NaN                        NaN   \n",
       "3                    NaN                        NaN   \n",
       "4                    NaN                        NaN   \n",
       "\n",
       "                         level_11                  level_12 level_13  \\\n",
       "0  Nicht numerisches Depotinsulin  Depotinsulin (Einheiten)  Notizen   \n",
       "1                             NaN                       NaN      NaN   \n",
       "2                             NaN                       NaN      NaN   \n",
       "3                             NaN                       NaN      NaN   \n",
       "4                             NaN                       NaN      NaN   \n",
       "\n",
       "                Glukose-Werte   Erstellt am           25-02-2021 09:55 UTC  \\\n",
       "0  Glukose-Teststreifen mg/dL  Keton mmol/L  Mahlzeiteninsulin (Einheiten)   \n",
       "1                         NaN           NaN                            NaN   \n",
       "2                         NaN           NaN                            NaN   \n",
       "3                         NaN           NaN                            NaN   \n",
       "4                         NaN           NaN                            NaN   \n",
       "\n",
       "                   Erstellt von                                          ccc  \n",
       "0  Korrekturinsulin (Einheiten)  Insulin-Änderung durch Anwender (Einheiten)  \n",
       "1                           NaN                                          NaN  \n",
       "2                           NaN                                          NaN  \n",
       "3                           NaN                                          NaN  \n",
       "4                           NaN                                          NaN  "
      ]
     },
     "execution_count": 10,
     "metadata": {},
     "output_type": "execute_result"
    }
   ],
   "source": [
    "df_1.head()"
   ]
  },
  {
   "cell_type": "code",
   "execution_count": 11,
   "metadata": {},
   "outputs": [],
   "source": [
    "header = df_1.iloc[0] \n",
    "df_1 = df_1[1:] \n",
    "df_1.columns = header"
   ]
  },
  {
   "cell_type": "code",
   "execution_count": 12,
   "metadata": {},
   "outputs": [
    {
     "data": {
      "text/html": [
       "<div>\n",
       "<style scoped>\n",
       "    .dataframe tbody tr th:only-of-type {\n",
       "        vertical-align: middle;\n",
       "    }\n",
       "\n",
       "    .dataframe tbody tr th {\n",
       "        vertical-align: top;\n",
       "    }\n",
       "\n",
       "    .dataframe thead th {\n",
       "        text-align: right;\n",
       "    }\n",
       "</style>\n",
       "<table border=\"1\" class=\"dataframe\">\n",
       "  <thead>\n",
       "    <tr style=\"text-align: right;\">\n",
       "      <th></th>\n",
       "      <th>Gerät</th>\n",
       "      <th>Seriennummer</th>\n",
       "      <th>Gerätezeitstempel</th>\n",
       "      <th>Aufzeichnungstyp</th>\n",
       "      <th>Glukosewert-Verlauf mg/dL</th>\n",
       "      <th>Glukose-Scan mg/dL</th>\n",
       "      <th>Nicht numerisches schnellwirkendes Insulin</th>\n",
       "      <th>Schnellwirkendes Insulin (Einheiten)</th>\n",
       "      <th>Nicht numerische Nahrungsdaten</th>\n",
       "      <th>Kohlenhydrate (Gramm)</th>\n",
       "      <th>Kohlenhydrate (Portionen)</th>\n",
       "      <th>Nicht numerisches Depotinsulin</th>\n",
       "      <th>Depotinsulin (Einheiten)</th>\n",
       "      <th>Notizen</th>\n",
       "      <th>Glukose-Teststreifen mg/dL</th>\n",
       "      <th>Keton mmol/L</th>\n",
       "      <th>Mahlzeiteninsulin (Einheiten)</th>\n",
       "      <th>Korrekturinsulin (Einheiten)</th>\n",
       "      <th>Insulin-Änderung durch Anwender (Einheiten)</th>\n",
       "    </tr>\n",
       "  </thead>\n",
       "  <tbody>\n",
       "    <tr>\n",
       "      <th>1</th>\n",
       "      <td>FreeStyle LibreLink</td>\n",
       "      <td>e09bb0f0-018b-429b-94c7-62bb306a0136</td>\n",
       "      <td>10-02-2021 09:08</td>\n",
       "      <td>0</td>\n",
       "      <td>138</td>\n",
       "      <td>NaN</td>\n",
       "      <td>NaN</td>\n",
       "      <td>NaN</td>\n",
       "      <td>NaN</td>\n",
       "      <td>NaN</td>\n",
       "      <td>NaN</td>\n",
       "      <td>NaN</td>\n",
       "      <td>NaN</td>\n",
       "      <td>NaN</td>\n",
       "      <td>NaN</td>\n",
       "      <td>NaN</td>\n",
       "      <td>NaN</td>\n",
       "      <td>NaN</td>\n",
       "      <td>NaN</td>\n",
       "    </tr>\n",
       "    <tr>\n",
       "      <th>2</th>\n",
       "      <td>FreeStyle LibreLink</td>\n",
       "      <td>e09bb0f0-018b-429b-94c7-62bb306a0136</td>\n",
       "      <td>10-02-2021 09:25</td>\n",
       "      <td>0</td>\n",
       "      <td>139</td>\n",
       "      <td>NaN</td>\n",
       "      <td>NaN</td>\n",
       "      <td>NaN</td>\n",
       "      <td>NaN</td>\n",
       "      <td>NaN</td>\n",
       "      <td>NaN</td>\n",
       "      <td>NaN</td>\n",
       "      <td>NaN</td>\n",
       "      <td>NaN</td>\n",
       "      <td>NaN</td>\n",
       "      <td>NaN</td>\n",
       "      <td>NaN</td>\n",
       "      <td>NaN</td>\n",
       "      <td>NaN</td>\n",
       "    </tr>\n",
       "    <tr>\n",
       "      <th>3</th>\n",
       "      <td>FreeStyle LibreLink</td>\n",
       "      <td>e09bb0f0-018b-429b-94c7-62bb306a0136</td>\n",
       "      <td>10-02-2021 09:40</td>\n",
       "      <td>0</td>\n",
       "      <td>139</td>\n",
       "      <td>NaN</td>\n",
       "      <td>NaN</td>\n",
       "      <td>NaN</td>\n",
       "      <td>NaN</td>\n",
       "      <td>NaN</td>\n",
       "      <td>NaN</td>\n",
       "      <td>NaN</td>\n",
       "      <td>NaN</td>\n",
       "      <td>NaN</td>\n",
       "      <td>NaN</td>\n",
       "      <td>NaN</td>\n",
       "      <td>NaN</td>\n",
       "      <td>NaN</td>\n",
       "      <td>NaN</td>\n",
       "    </tr>\n",
       "    <tr>\n",
       "      <th>4</th>\n",
       "      <td>FreeStyle LibreLink</td>\n",
       "      <td>e09bb0f0-018b-429b-94c7-62bb306a0136</td>\n",
       "      <td>10-02-2021 09:55</td>\n",
       "      <td>0</td>\n",
       "      <td>138</td>\n",
       "      <td>NaN</td>\n",
       "      <td>NaN</td>\n",
       "      <td>NaN</td>\n",
       "      <td>NaN</td>\n",
       "      <td>NaN</td>\n",
       "      <td>NaN</td>\n",
       "      <td>NaN</td>\n",
       "      <td>NaN</td>\n",
       "      <td>NaN</td>\n",
       "      <td>NaN</td>\n",
       "      <td>NaN</td>\n",
       "      <td>NaN</td>\n",
       "      <td>NaN</td>\n",
       "      <td>NaN</td>\n",
       "    </tr>\n",
       "    <tr>\n",
       "      <th>5</th>\n",
       "      <td>FreeStyle LibreLink</td>\n",
       "      <td>e09bb0f0-018b-429b-94c7-62bb306a0136</td>\n",
       "      <td>10-02-2021 10:10</td>\n",
       "      <td>0</td>\n",
       "      <td>140</td>\n",
       "      <td>NaN</td>\n",
       "      <td>NaN</td>\n",
       "      <td>NaN</td>\n",
       "      <td>NaN</td>\n",
       "      <td>NaN</td>\n",
       "      <td>NaN</td>\n",
       "      <td>NaN</td>\n",
       "      <td>NaN</td>\n",
       "      <td>NaN</td>\n",
       "      <td>NaN</td>\n",
       "      <td>NaN</td>\n",
       "      <td>NaN</td>\n",
       "      <td>NaN</td>\n",
       "      <td>NaN</td>\n",
       "    </tr>\n",
       "  </tbody>\n",
       "</table>\n",
       "</div>"
      ],
      "text/plain": [
       "0                Gerät                          Seriennummer  \\\n",
       "1  FreeStyle LibreLink  e09bb0f0-018b-429b-94c7-62bb306a0136   \n",
       "2  FreeStyle LibreLink  e09bb0f0-018b-429b-94c7-62bb306a0136   \n",
       "3  FreeStyle LibreLink  e09bb0f0-018b-429b-94c7-62bb306a0136   \n",
       "4  FreeStyle LibreLink  e09bb0f0-018b-429b-94c7-62bb306a0136   \n",
       "5  FreeStyle LibreLink  e09bb0f0-018b-429b-94c7-62bb306a0136   \n",
       "\n",
       "0 Gerätezeitstempel Aufzeichnungstyp Glukosewert-Verlauf mg/dL  \\\n",
       "1  10-02-2021 09:08                0                       138   \n",
       "2  10-02-2021 09:25                0                       139   \n",
       "3  10-02-2021 09:40                0                       139   \n",
       "4  10-02-2021 09:55                0                       138   \n",
       "5  10-02-2021 10:10                0                       140   \n",
       "\n",
       "0 Glukose-Scan mg/dL Nicht numerisches schnellwirkendes Insulin  \\\n",
       "1                NaN                                        NaN   \n",
       "2                NaN                                        NaN   \n",
       "3                NaN                                        NaN   \n",
       "4                NaN                                        NaN   \n",
       "5                NaN                                        NaN   \n",
       "\n",
       "0 Schnellwirkendes Insulin (Einheiten) Nicht numerische Nahrungsdaten  \\\n",
       "1                                  NaN                            NaN   \n",
       "2                                  NaN                            NaN   \n",
       "3                                  NaN                            NaN   \n",
       "4                                  NaN                            NaN   \n",
       "5                                  NaN                            NaN   \n",
       "\n",
       "0 Kohlenhydrate (Gramm) Kohlenhydrate (Portionen)  \\\n",
       "1                   NaN                       NaN   \n",
       "2                   NaN                       NaN   \n",
       "3                   NaN                       NaN   \n",
       "4                   NaN                       NaN   \n",
       "5                   NaN                       NaN   \n",
       "\n",
       "0 Nicht numerisches Depotinsulin Depotinsulin (Einheiten) Notizen  \\\n",
       "1                            NaN                      NaN     NaN   \n",
       "2                            NaN                      NaN     NaN   \n",
       "3                            NaN                      NaN     NaN   \n",
       "4                            NaN                      NaN     NaN   \n",
       "5                            NaN                      NaN     NaN   \n",
       "\n",
       "0 Glukose-Teststreifen mg/dL Keton mmol/L Mahlzeiteninsulin (Einheiten)  \\\n",
       "1                        NaN          NaN                           NaN   \n",
       "2                        NaN          NaN                           NaN   \n",
       "3                        NaN          NaN                           NaN   \n",
       "4                        NaN          NaN                           NaN   \n",
       "5                        NaN          NaN                           NaN   \n",
       "\n",
       "0 Korrekturinsulin (Einheiten) Insulin-Änderung durch Anwender (Einheiten)  \n",
       "1                          NaN                                         NaN  \n",
       "2                          NaN                                         NaN  \n",
       "3                          NaN                                         NaN  \n",
       "4                          NaN                                         NaN  \n",
       "5                          NaN                                         NaN  "
      ]
     },
     "execution_count": 12,
     "metadata": {},
     "output_type": "execute_result"
    }
   ],
   "source": [
    "df_1.head()"
   ]
  },
  {
   "cell_type": "code",
   "execution_count": 13,
   "metadata": {},
   "outputs": [
    {
     "data": {
      "text/plain": [
       "array(['e09bb0f0-018b-429b-94c7-62bb306a0136'], dtype=object)"
      ]
     },
     "execution_count": 13,
     "metadata": {},
     "output_type": "execute_result"
    }
   ],
   "source": [
    "df_1[\"Seriennummer\"].unique()"
   ]
  },
  {
   "cell_type": "code",
   "execution_count": 14,
   "metadata": {},
   "outputs": [
    {
     "data": {
      "text/plain": [
       "(1423, 19)"
      ]
     },
     "execution_count": 14,
     "metadata": {},
     "output_type": "execute_result"
    }
   ],
   "source": [
    "df_1.shape"
   ]
  },
  {
   "cell_type": "code",
   "execution_count": 15,
   "metadata": {},
   "outputs": [
    {
     "name": "stdout",
     "output_type": "stream",
     "text": [
      "<class 'pandas.core.frame.DataFrame'>\n",
      "RangeIndex: 1423 entries, 1 to 1423\n",
      "Data columns (total 19 columns):\n",
      " #   Column                                       Non-Null Count  Dtype \n",
      "---  ------                                       --------------  ----- \n",
      " 0   Gerät                                        1423 non-null   object\n",
      " 1   Seriennummer                                 1423 non-null   object\n",
      " 2   Gerätezeitstempel                            1423 non-null   object\n",
      " 3   Aufzeichnungstyp                             1423 non-null   object\n",
      " 4   Glukosewert-Verlauf mg/dL                    1302 non-null   object\n",
      " 5   Glukose-Scan mg/dL                           110 non-null    object\n",
      " 6   Nicht numerisches schnellwirkendes Insulin   0 non-null      object\n",
      " 7   Schnellwirkendes Insulin (Einheiten)         0 non-null      object\n",
      " 8   Nicht numerische Nahrungsdaten               0 non-null      object\n",
      " 9   Kohlenhydrate (Gramm)                        0 non-null      object\n",
      " 10  Kohlenhydrate (Portionen)                    0 non-null      object\n",
      " 11  Nicht numerisches Depotinsulin               0 non-null      object\n",
      " 12  Depotinsulin (Einheiten)                     0 non-null      object\n",
      " 13  Notizen                                      0 non-null      object\n",
      " 14  Glukose-Teststreifen mg/dL                   0 non-null      object\n",
      " 15  Keton mmol/L                                 0 non-null      object\n",
      " 16  Mahlzeiteninsulin (Einheiten)                0 non-null      object\n",
      " 17  Korrekturinsulin (Einheiten)                 0 non-null      object\n",
      " 18  Insulin-Änderung durch Anwender (Einheiten)  0 non-null      object\n",
      "dtypes: object(19)\n",
      "memory usage: 211.4+ KB\n"
     ]
    }
   ],
   "source": [
    "df_1.info()"
   ]
  },
  {
   "cell_type": "code",
   "execution_count": 16,
   "metadata": {},
   "outputs": [
    {
     "data": {
      "text/plain": [
       "0\n",
       "Gerät                                             0\n",
       "Seriennummer                                      0\n",
       "Gerätezeitstempel                                 0\n",
       "Aufzeichnungstyp                                  0\n",
       "Glukosewert-Verlauf mg/dL                       121\n",
       "Glukose-Scan mg/dL                             1313\n",
       "Nicht numerisches schnellwirkendes Insulin     1423\n",
       "Schnellwirkendes Insulin (Einheiten)           1423\n",
       "Nicht numerische Nahrungsdaten                 1423\n",
       "Kohlenhydrate (Gramm)                          1423\n",
       "Kohlenhydrate (Portionen)                      1423\n",
       "Nicht numerisches Depotinsulin                 1423\n",
       "Depotinsulin (Einheiten)                       1423\n",
       "Notizen                                        1423\n",
       "Glukose-Teststreifen mg/dL                     1423\n",
       "Keton mmol/L                                   1423\n",
       "Mahlzeiteninsulin (Einheiten)                  1423\n",
       "Korrekturinsulin (Einheiten)                   1423\n",
       "Insulin-Änderung durch Anwender (Einheiten)    1423\n",
       "dtype: int64"
      ]
     },
     "execution_count": 16,
     "metadata": {},
     "output_type": "execute_result"
    }
   ],
   "source": [
    "df_1.isna().sum()"
   ]
  },
  {
   "cell_type": "code",
   "execution_count": 17,
   "metadata": {},
   "outputs": [
    {
     "data": {
      "text/plain": [
       "Index(['Gerät', 'Seriennummer', 'Gerätezeitstempel', 'Aufzeichnungstyp',\n",
       "       'Glukosewert-Verlauf mg/dL', 'Glukose-Scan mg/dL',\n",
       "       'Nicht numerisches schnellwirkendes Insulin',\n",
       "       'Schnellwirkendes Insulin (Einheiten)',\n",
       "       'Nicht numerische Nahrungsdaten', 'Kohlenhydrate (Gramm)',\n",
       "       'Kohlenhydrate (Portionen)', 'Nicht numerisches Depotinsulin',\n",
       "       'Depotinsulin (Einheiten)', 'Notizen', 'Glukose-Teststreifen mg/dL',\n",
       "       'Keton mmol/L', 'Mahlzeiteninsulin (Einheiten)',\n",
       "       'Korrekturinsulin (Einheiten)',\n",
       "       'Insulin-Änderung durch Anwender (Einheiten)'],\n",
       "      dtype='object', name=0)"
      ]
     },
     "execution_count": 17,
     "metadata": {},
     "output_type": "execute_result"
    }
   ],
   "source": [
    "df_1.columns"
   ]
  },
  {
   "cell_type": "code",
   "execution_count": 18,
   "metadata": {},
   "outputs": [],
   "source": [
    "#creatinf a new dataframe from df_1"
   ]
  },
  {
   "cell_type": "code",
   "execution_count": 19,
   "metadata": {},
   "outputs": [],
   "source": [
    "df_11 = df_1[[\"Gerätezeitstempel\",\"Aufzeichnungstyp\",\"Glukosewert-Verlauf mg/dL\"]]"
   ]
  },
  {
   "cell_type": "code",
   "execution_count": 20,
   "metadata": {},
   "outputs": [
    {
     "data": {
      "text/html": [
       "<div>\n",
       "<style scoped>\n",
       "    .dataframe tbody tr th:only-of-type {\n",
       "        vertical-align: middle;\n",
       "    }\n",
       "\n",
       "    .dataframe tbody tr th {\n",
       "        vertical-align: top;\n",
       "    }\n",
       "\n",
       "    .dataframe thead th {\n",
       "        text-align: right;\n",
       "    }\n",
       "</style>\n",
       "<table border=\"1\" class=\"dataframe\">\n",
       "  <thead>\n",
       "    <tr style=\"text-align: right;\">\n",
       "      <th></th>\n",
       "      <th>Gerätezeitstempel</th>\n",
       "      <th>Aufzeichnungstyp</th>\n",
       "      <th>Glukosewert-Verlauf mg/dL</th>\n",
       "    </tr>\n",
       "  </thead>\n",
       "  <tbody>\n",
       "    <tr>\n",
       "      <th>1</th>\n",
       "      <td>10-02-2021 09:08</td>\n",
       "      <td>0</td>\n",
       "      <td>138</td>\n",
       "    </tr>\n",
       "    <tr>\n",
       "      <th>2</th>\n",
       "      <td>10-02-2021 09:25</td>\n",
       "      <td>0</td>\n",
       "      <td>139</td>\n",
       "    </tr>\n",
       "    <tr>\n",
       "      <th>3</th>\n",
       "      <td>10-02-2021 09:40</td>\n",
       "      <td>0</td>\n",
       "      <td>139</td>\n",
       "    </tr>\n",
       "    <tr>\n",
       "      <th>4</th>\n",
       "      <td>10-02-2021 09:55</td>\n",
       "      <td>0</td>\n",
       "      <td>138</td>\n",
       "    </tr>\n",
       "    <tr>\n",
       "      <th>5</th>\n",
       "      <td>10-02-2021 10:10</td>\n",
       "      <td>0</td>\n",
       "      <td>140</td>\n",
       "    </tr>\n",
       "  </tbody>\n",
       "</table>\n",
       "</div>"
      ],
      "text/plain": [
       "0 Gerätezeitstempel Aufzeichnungstyp Glukosewert-Verlauf mg/dL\n",
       "1  10-02-2021 09:08                0                       138\n",
       "2  10-02-2021 09:25                0                       139\n",
       "3  10-02-2021 09:40                0                       139\n",
       "4  10-02-2021 09:55                0                       138\n",
       "5  10-02-2021 10:10                0                       140"
      ]
     },
     "execution_count": 20,
     "metadata": {},
     "output_type": "execute_result"
    }
   ],
   "source": [
    "df_11.head()"
   ]
  },
  {
   "cell_type": "code",
   "execution_count": 21,
   "metadata": {},
   "outputs": [
    {
     "data": {
      "text/plain": [
       "array(['0', '1', '6'], dtype=object)"
      ]
     },
     "execution_count": 21,
     "metadata": {},
     "output_type": "execute_result"
    }
   ],
   "source": [
    "df_11.Aufzeichnungstyp.unique()"
   ]
  },
  {
   "cell_type": "code",
   "execution_count": 22,
   "metadata": {},
   "outputs": [
    {
     "data": {
      "text/plain": [
       "0\n",
       "Gerätezeitstempel            object\n",
       "Aufzeichnungstyp             object\n",
       "Glukosewert-Verlauf mg/dL    object\n",
       "dtype: object"
      ]
     },
     "execution_count": 22,
     "metadata": {},
     "output_type": "execute_result"
    }
   ],
   "source": [
    "df_11.dtypes"
   ]
  },
  {
   "cell_type": "code",
   "execution_count": 23,
   "metadata": {},
   "outputs": [],
   "source": [
    "#converting datatype"
   ]
  },
  {
   "cell_type": "code",
   "execution_count": 24,
   "metadata": {},
   "outputs": [],
   "source": [
    "df_11['Aufzeichnungstyp'] = df_11['Aufzeichnungstyp'].astype(int)\n",
    "df_11['Glukosewert-Verlauf mg/dL'] = df_11['Glukosewert-Verlauf mg/dL'].astype(float)\n",
    "df_11['Gerätezeitstempel'] = pd.DatetimeIndex(df_11['Gerätezeitstempel']) "
   ]
  },
  {
   "cell_type": "code",
   "execution_count": 25,
   "metadata": {},
   "outputs": [
    {
     "data": {
      "text/plain": [
       "0\n",
       "Gerätezeitstempel            datetime64[ns]\n",
       "Aufzeichnungstyp                      int64\n",
       "Glukosewert-Verlauf mg/dL           float64\n",
       "dtype: object"
      ]
     },
     "execution_count": 25,
     "metadata": {},
     "output_type": "execute_result"
    }
   ],
   "source": [
    "df_11.dtypes"
   ]
  },
  {
   "cell_type": "code",
   "execution_count": 26,
   "metadata": {},
   "outputs": [],
   "source": [
    "#Statistical Analysis"
   ]
  },
  {
   "cell_type": "code",
   "execution_count": 27,
   "metadata": {},
   "outputs": [
    {
     "data": {
      "text/html": [
       "<div>\n",
       "<style scoped>\n",
       "    .dataframe tbody tr th:only-of-type {\n",
       "        vertical-align: middle;\n",
       "    }\n",
       "\n",
       "    .dataframe tbody tr th {\n",
       "        vertical-align: top;\n",
       "    }\n",
       "\n",
       "    .dataframe thead th {\n",
       "        text-align: right;\n",
       "    }\n",
       "</style>\n",
       "<table border=\"1\" class=\"dataframe\">\n",
       "  <thead>\n",
       "    <tr style=\"text-align: right;\">\n",
       "      <th></th>\n",
       "      <th>Aufzeichnungstyp</th>\n",
       "      <th>Glukosewert-Verlauf mg/dL</th>\n",
       "    </tr>\n",
       "  </thead>\n",
       "  <tbody>\n",
       "    <tr>\n",
       "      <th>count</th>\n",
       "      <td>1423.000000</td>\n",
       "      <td>1302.000000</td>\n",
       "    </tr>\n",
       "    <tr>\n",
       "      <th>mean</th>\n",
       "      <td>0.123682</td>\n",
       "      <td>119.794163</td>\n",
       "    </tr>\n",
       "    <tr>\n",
       "      <th>std</th>\n",
       "      <td>0.583548</td>\n",
       "      <td>23.482684</td>\n",
       "    </tr>\n",
       "    <tr>\n",
       "      <th>min</th>\n",
       "      <td>0.000000</td>\n",
       "      <td>71.000000</td>\n",
       "    </tr>\n",
       "    <tr>\n",
       "      <th>25%</th>\n",
       "      <td>0.000000</td>\n",
       "      <td>102.250000</td>\n",
       "    </tr>\n",
       "    <tr>\n",
       "      <th>50%</th>\n",
       "      <td>0.000000</td>\n",
       "      <td>114.000000</td>\n",
       "    </tr>\n",
       "    <tr>\n",
       "      <th>75%</th>\n",
       "      <td>0.000000</td>\n",
       "      <td>136.000000</td>\n",
       "    </tr>\n",
       "    <tr>\n",
       "      <th>max</th>\n",
       "      <td>6.000000</td>\n",
       "      <td>224.000000</td>\n",
       "    </tr>\n",
       "  </tbody>\n",
       "</table>\n",
       "</div>"
      ],
      "text/plain": [
       "0      Aufzeichnungstyp  Glukosewert-Verlauf mg/dL\n",
       "count       1423.000000                1302.000000\n",
       "mean           0.123682                 119.794163\n",
       "std            0.583548                  23.482684\n",
       "min            0.000000                  71.000000\n",
       "25%            0.000000                 102.250000\n",
       "50%            0.000000                 114.000000\n",
       "75%            0.000000                 136.000000\n",
       "max            6.000000                 224.000000"
      ]
     },
     "execution_count": 27,
     "metadata": {},
     "output_type": "execute_result"
    }
   ],
   "source": [
    "df_11.describe()"
   ]
  },
  {
   "cell_type": "code",
   "execution_count": 28,
   "metadata": {},
   "outputs": [
    {
     "data": {
      "text/plain": [
       "0    1302\n",
       "1     110\n",
       "6      11\n",
       "Name: Aufzeichnungstyp, dtype: int64"
      ]
     },
     "execution_count": 28,
     "metadata": {},
     "output_type": "execute_result"
    }
   ],
   "source": [
    "df_11.Aufzeichnungstyp.value_counts()"
   ]
  },
  {
   "cell_type": "code",
   "execution_count": 29,
   "metadata": {},
   "outputs": [
    {
     "data": {
      "text/plain": [
       "<matplotlib.axes._subplots.AxesSubplot at 0x7ffea2abc220>"
      ]
     },
     "execution_count": 29,
     "metadata": {},
     "output_type": "execute_result"
    },
    {
     "data": {
      "image/png": "[encoded data removed]",
      "text/plain": [
       "<Figure size 432x288 with 1 Axes>"
      ]
     },
     "metadata": {
      "needs_background": "light"
     },
     "output_type": "display_data"
    }
   ],
   "source": [
    "df_11.Aufzeichnungstyp.value_counts().plot.bar()"
   ]
  },
  {
   "cell_type": "code",
   "execution_count": null,
   "metadata": {},
   "outputs": [],
   "source": [
    "#removing the value of 5 and 6 from 'Aufzeichnungstyp'"
   ]
  },
  {
   "cell_type": "code",
   "execution_count": 30,
   "metadata": {},
   "outputs": [],
   "source": [
    "df_11.drop(df_11[df_11['Aufzeichnungstyp']==6].index, inplace = True)"
   ]
  },
  {
   "cell_type": "code",
   "execution_count": 31,
   "metadata": {},
   "outputs": [
    {
     "data": {
      "image/png": "[encoded data removed]",
      "text/plain": [
       "<Figure size 432x288 with 1 Axes>"
      ]
     },
     "metadata": {
      "needs_background": "light"
     },
     "output_type": "display_data"
    }
   ],
   "source": [
    "sns.countplot(\"Aufzeichnungstyp\", data=df_11)\n",
    "plt.show()"
   ]
  },
  {
   "cell_type": "code",
   "execution_count": null,
   "metadata": {},
   "outputs": [],
   "source": [
    "#filling the mising \"Glukosewert-Verlauf mg/dL\" with median"
   ]
  },
  {
   "cell_type": "code",
   "execution_count": 32,
   "metadata": {},
   "outputs": [],
   "source": [
    "df_11[\"Glukosewert-Verlauf mg/dL\"] =df_11[\"Glukosewert-Verlauf mg/dL\"].fillna(df_11[\"Glukosewert-Verlauf mg/dL\"].median())"
   ]
  },
  {
   "cell_type": "code",
   "execution_count": 33,
   "metadata": {},
   "outputs": [],
   "source": [
    "df_11 = df_11.sort_values(by='Gerätezeitstempel', ascending=True)"
   ]
  },
  {
   "cell_type": "code",
   "execution_count": 34,
   "metadata": {},
   "outputs": [
    {
     "data": {
      "text/html": [
       "<div>\n",
       "<style scoped>\n",
       "    .dataframe tbody tr th:only-of-type {\n",
       "        vertical-align: middle;\n",
       "    }\n",
       "\n",
       "    .dataframe tbody tr th {\n",
       "        vertical-align: top;\n",
       "    }\n",
       "\n",
       "    .dataframe thead th {\n",
       "        text-align: right;\n",
       "    }\n",
       "</style>\n",
       "<table border=\"1\" class=\"dataframe\">\n",
       "  <thead>\n",
       "    <tr style=\"text-align: right;\">\n",
       "      <th></th>\n",
       "      <th>Aufzeichnungstyp</th>\n",
       "      <th>Glukosewert-Verlauf mg/dL</th>\n",
       "    </tr>\n",
       "    <tr>\n",
       "      <th>Gerätezeitstempel</th>\n",
       "      <th></th>\n",
       "      <th></th>\n",
       "    </tr>\n",
       "  </thead>\n",
       "  <tbody>\n",
       "    <tr>\n",
       "      <th>2021-02-13 00:06:00</th>\n",
       "      <td>0</td>\n",
       "      <td>125.0</td>\n",
       "    </tr>\n",
       "    <tr>\n",
       "      <th>2021-02-13 00:21:00</th>\n",
       "      <td>0</td>\n",
       "      <td>130.0</td>\n",
       "    </tr>\n",
       "    <tr>\n",
       "      <th>2021-02-13 00:36:00</th>\n",
       "      <td>0</td>\n",
       "      <td>130.0</td>\n",
       "    </tr>\n",
       "    <tr>\n",
       "      <th>2021-02-13 00:51:00</th>\n",
       "      <td>0</td>\n",
       "      <td>125.0</td>\n",
       "    </tr>\n",
       "    <tr>\n",
       "      <th>2021-02-13 01:06:00</th>\n",
       "      <td>0</td>\n",
       "      <td>122.0</td>\n",
       "    </tr>\n",
       "  </tbody>\n",
       "</table>\n",
       "</div>"
      ],
      "text/plain": [
       "0                    Aufzeichnungstyp  Glukosewert-Verlauf mg/dL\n",
       "Gerätezeitstempel                                               \n",
       "2021-02-13 00:06:00                 0                      125.0\n",
       "2021-02-13 00:21:00                 0                      130.0\n",
       "2021-02-13 00:36:00                 0                      130.0\n",
       "2021-02-13 00:51:00                 0                      125.0\n",
       "2021-02-13 01:06:00                 0                      122.0"
      ]
     },
     "execution_count": 34,
     "metadata": {},
     "output_type": "execute_result"
    }
   ],
   "source": [
    "df_11 = df_11.set_index('Gerätezeitstempel')\n",
    "df_11.head()"
   ]
  },
  {
   "cell_type": "code",
   "execution_count": null,
   "metadata": {},
   "outputs": [],
   "source": [
    "#Time series analysis to see when the date that blood glucose level increase\n",
    "#with further breakdown "
   ]
  },
  {
   "cell_type": "code",
   "execution_count": 35,
   "metadata": {},
   "outputs": [
    {
     "data": {
      "text/plain": [
       "<matplotlib.axes._subplots.AxesSubplot at 0x7ffea2bf9550>"
      ]
     },
     "execution_count": 35,
     "metadata": {},
     "output_type": "execute_result"
    },
    {
     "data": {
      "image/png": "[encoded data removed]",
      "text/plain": [
       "<Figure size 1080x720 with 1 Axes>"
      ]
     },
     "metadata": {
      "needs_background": "light"
     },
     "output_type": "display_data"
    }
   ],
   "source": [
    "matplotlib.rcParams['figure.figsize'] = [15.0,10.0]\n",
    "df_11.plot(grid=True)"
   ]
  },
  {
   "cell_type": "code",
   "execution_count": null,
   "metadata": {},
   "outputs": [],
   "source": [
    "#checking the blood glucose level for the date between 2021-02-13 and 2021-3-30"
   ]
  },
  {
   "cell_type": "code",
   "execution_count": 36,
   "metadata": {},
   "outputs": [
    {
     "data": {
      "text/plain": [
       "<matplotlib.axes._subplots.AxesSubplot at 0x7ffea305acd0>"
      ]
     },
     "execution_count": 36,
     "metadata": {},
     "output_type": "execute_result"
    },
    {
     "data": {
      "image/png": "[encoded data removed]",
      "text/plain": [
       "<Figure size 864x576 with 1 Axes>"
      ]
     },
     "metadata": {
      "needs_background": "light"
     },
     "output_type": "display_data"
    }
   ],
   "source": [
    "matplotlib.rcParams['figure.figsize'] = [12.0,8.0]\n",
    "from datetime import datetime\n",
    "start_date = datetime(2021,2,13)\n",
    "end_date = datetime(2021,3,30)\n",
    "df_11[(start_date <=df_11.index) & (df_11.index <= end_date)].plot(grid=True)"
   ]
  },
  {
   "cell_type": "code",
   "execution_count": null,
   "metadata": {},
   "outputs": [],
   "source": [
    "#checking the blood glucose level for the date between 2021-10-01 and 2021-01-30"
   ]
  },
  {
   "cell_type": "code",
   "execution_count": 37,
   "metadata": {},
   "outputs": [
    {
     "data": {
      "text/plain": [
       "<matplotlib.axes._subplots.AxesSubplot at 0x7ffea3396a60>"
      ]
     },
     "execution_count": 37,
     "metadata": {},
     "output_type": "execute_result"
    },
    {
     "data": {
      "image/png": "[encoded data removed]",
      "text/plain": [
       "<Figure size 864x576 with 1 Axes>"
      ]
     },
     "metadata": {
      "needs_background": "light"
     },
     "output_type": "display_data"
    }
   ],
   "source": [
    "matplotlib.rcParams['figure.figsize'] = [12.0,8.0]\n",
    "from datetime import datetime\n",
    "start_date = datetime(2021,10,1)\n",
    "end_date = datetime(2022,1,30)\n",
    "df_11[(start_date <=df_11.index) & (df_11.index <= end_date)].plot(grid=True)"
   ]
  },
  {
   "cell_type": "code",
   "execution_count": null,
   "metadata": {},
   "outputs": [],
   "source": [
    "#checking the blood glucose level for the date between 2021-10-1 and 2021-10-8"
   ]
  },
  {
   "cell_type": "code",
   "execution_count": 38,
   "metadata": {},
   "outputs": [
    {
     "data": {
      "text/plain": [
       "<matplotlib.axes._subplots.AxesSubplot at 0x7ffea347e760>"
      ]
     },
     "execution_count": 38,
     "metadata": {},
     "output_type": "execute_result"
    },
    {
     "data": {
      "image/png": "[encoded data removed]",
      "text/plain": [
       "<Figure size 864x576 with 1 Axes>"
      ]
     },
     "metadata": {
      "needs_background": "light"
     },
     "output_type": "display_data"
    }
   ],
   "source": [
    "matplotlib.rcParams['figure.figsize'] = [12.0,8.0]\n",
    "from datetime import datetime\n",
    "start_date = datetime(2021,10,1)\n",
    "end_date = datetime(2021,10,8)\n",
    "df_11[(start_date <=df_11.index) & (df_11.index <= end_date)].plot(grid=True)"
   ]
  },
  {
   "cell_type": "code",
   "execution_count": null,
   "metadata": {},
   "outputs": [],
   "source": [
    "#checking the blood glucose level for the date between 2021-11-1 and 2021-11-8"
   ]
  },
  {
   "cell_type": "code",
   "execution_count": 39,
   "metadata": {},
   "outputs": [
    {
     "data": {
      "text/plain": [
       "<matplotlib.axes._subplots.AxesSubplot at 0x7ffea3509eb0>"
      ]
     },
     "execution_count": 39,
     "metadata": {},
     "output_type": "execute_result"
    },
    {
     "data": {
      "image/png": "[encoded data removed]",
      "text/plain": [
       "<Figure size 864x576 with 1 Axes>"
      ]
     },
     "metadata": {
      "needs_background": "light"
     },
     "output_type": "display_data"
    }
   ],
   "source": [
    "matplotlib.rcParams['figure.figsize'] = [12.0,8.0]\n",
    "from datetime import datetime\n",
    "start_date = datetime(2021,11,1)\n",
    "end_date = datetime(2021,11,8)\n",
    "df_11[(start_date <=df_11.index) & (df_11.index <= end_date)].plot(grid=True)"
   ]
  },
  {
   "cell_type": "code",
   "execution_count": null,
   "metadata": {},
   "outputs": [],
   "source": [
    "#checking the blood glucose level for the date between 2021-12-1 and 2021-01-30"
   ]
  },
  {
   "cell_type": "code",
   "execution_count": 40,
   "metadata": {},
   "outputs": [
    {
     "data": {
      "text/plain": [
       "<matplotlib.axes._subplots.AxesSubplot at 0x7ffea3568760>"
      ]
     },
     "execution_count": 40,
     "metadata": {},
     "output_type": "execute_result"
    },
    {
     "data": {
      "image/png": "[encoded data removed]",
      "text/plain": [
       "<Figure size 864x576 with 1 Axes>"
      ]
     },
     "metadata": {
      "needs_background": "light"
     },
     "output_type": "display_data"
    }
   ],
   "source": [
    "matplotlib.rcParams['figure.figsize'] = [12.0,8.0]\n",
    "from datetime import datetime\n",
    "start_date = datetime(2021,12,1)\n",
    "end_date = datetime(2022,1,30)\n",
    "df_11[(start_date <=df_11.index) & (df_11.index <= end_date)].plot(grid=True)"
   ]
  },
  {
   "cell_type": "code",
   "execution_count": 41,
   "metadata": {},
   "outputs": [],
   "source": [
    "df_2 = df_1[[\"Gerätezeitstempel\",\"Aufzeichnungstyp\",\"Glukosewert-Verlauf mg/dL\"]]"
   ]
  },
  {
   "cell_type": "code",
   "execution_count": 42,
   "metadata": {},
   "outputs": [
    {
     "data": {
      "text/plain": [
       "(1423, 3)"
      ]
     },
     "execution_count": 42,
     "metadata": {},
     "output_type": "execute_result"
    }
   ],
   "source": [
    "df_2.shape"
   ]
  },
  {
   "cell_type": "code",
   "execution_count": 43,
   "metadata": {},
   "outputs": [
    {
     "data": {
      "text/plain": [
       "0\n",
       "Gerätezeitstempel              0\n",
       "Aufzeichnungstyp               0\n",
       "Glukosewert-Verlauf mg/dL    121\n",
       "dtype: int64"
      ]
     },
     "execution_count": 43,
     "metadata": {},
     "output_type": "execute_result"
    }
   ],
   "source": [
    "df_2.isna().sum()"
   ]
  },
  {
   "cell_type": "code",
   "execution_count": null,
   "metadata": {},
   "outputs": [],
   "source": [
    "#creating a cluster based on the time of meal of the patient for the day"
   ]
  },
  {
   "cell_type": "code",
   "execution_count": 44,
   "metadata": {},
   "outputs": [],
   "source": [
    "df_2[\"Aufzeichnungstyp\"] = pd.to_numeric(df_2[\"Aufzeichnungstyp\"])\n",
    "df_2[\"Glukosewert-Verlauf mg/dL\"] = pd.to_numeric(df_2[\"Glukosewert-Verlauf mg/dL\"])\n",
    "df_2[\"Gerätezeitstempel\"] = pd.to_datetime(df_2[\"Gerätezeitstempel\"])"
   ]
  },
  {
   "cell_type": "code",
   "execution_count": 45,
   "metadata": {},
   "outputs": [],
   "source": [
    "df_2.drop(df_2[df_2['Aufzeichnungstyp']==6].index, inplace = True)"
   ]
  },
  {
   "cell_type": "code",
   "execution_count": 46,
   "metadata": {},
   "outputs": [],
   "source": [
    "df_2['nmae'] = pd.cut(pd.to_datetime(df_2.Gerätezeitstempel).dt.hour,\n",
    "       bins=[0, 6, 12, 18, 24],\n",
    "       labels=['night', 'morning', 'afternoon', 'evening'],\n",
    "       right=False,\n",
    "       include_lowest=True)"
   ]
  },
  {
   "cell_type": "code",
   "execution_count": 47,
   "metadata": {},
   "outputs": [
    {
     "data": {
      "text/html": [
       "<div>\n",
       "<style scoped>\n",
       "    .dataframe tbody tr th:only-of-type {\n",
       "        vertical-align: middle;\n",
       "    }\n",
       "\n",
       "    .dataframe tbody tr th {\n",
       "        vertical-align: top;\n",
       "    }\n",
       "\n",
       "    .dataframe thead th {\n",
       "        text-align: right;\n",
       "    }\n",
       "</style>\n",
       "<table border=\"1\" class=\"dataframe\">\n",
       "  <thead>\n",
       "    <tr style=\"text-align: right;\">\n",
       "      <th></th>\n",
       "      <th>Gerätezeitstempel</th>\n",
       "      <th>Aufzeichnungstyp</th>\n",
       "      <th>Glukosewert-Verlauf mg/dL</th>\n",
       "      <th>nmae</th>\n",
       "    </tr>\n",
       "  </thead>\n",
       "  <tbody>\n",
       "    <tr>\n",
       "      <th>1</th>\n",
       "      <td>2021-10-02 09:08:00</td>\n",
       "      <td>0</td>\n",
       "      <td>138.0</td>\n",
       "      <td>morning</td>\n",
       "    </tr>\n",
       "    <tr>\n",
       "      <th>2</th>\n",
       "      <td>2021-10-02 09:25:00</td>\n",
       "      <td>0</td>\n",
       "      <td>139.0</td>\n",
       "      <td>morning</td>\n",
       "    </tr>\n",
       "    <tr>\n",
       "      <th>3</th>\n",
       "      <td>2021-10-02 09:40:00</td>\n",
       "      <td>0</td>\n",
       "      <td>139.0</td>\n",
       "      <td>morning</td>\n",
       "    </tr>\n",
       "    <tr>\n",
       "      <th>4</th>\n",
       "      <td>2021-10-02 09:55:00</td>\n",
       "      <td>0</td>\n",
       "      <td>138.0</td>\n",
       "      <td>morning</td>\n",
       "    </tr>\n",
       "    <tr>\n",
       "      <th>5</th>\n",
       "      <td>2021-10-02 10:10:00</td>\n",
       "      <td>0</td>\n",
       "      <td>140.0</td>\n",
       "      <td>morning</td>\n",
       "    </tr>\n",
       "  </tbody>\n",
       "</table>\n",
       "</div>"
      ],
      "text/plain": [
       "0   Gerätezeitstempel  Aufzeichnungstyp  Glukosewert-Verlauf mg/dL     nmae\n",
       "1 2021-10-02 09:08:00                 0                      138.0  morning\n",
       "2 2021-10-02 09:25:00                 0                      139.0  morning\n",
       "3 2021-10-02 09:40:00                 0                      139.0  morning\n",
       "4 2021-10-02 09:55:00                 0                      138.0  morning\n",
       "5 2021-10-02 10:10:00                 0                      140.0  morning"
      ]
     },
     "execution_count": 47,
     "metadata": {},
     "output_type": "execute_result"
    }
   ],
   "source": [
    "df_2.head()"
   ]
  },
  {
   "cell_type": "code",
   "execution_count": null,
   "metadata": {},
   "outputs": [],
   "source": [
    "#comparing the nmae with the Aufzeichnungstyp"
   ]
  },
  {
   "cell_type": "code",
   "execution_count": 48,
   "metadata": {},
   "outputs": [
    {
     "data": {
      "text/html": [
       "<div>\n",
       "<style scoped>\n",
       "    .dataframe tbody tr th:only-of-type {\n",
       "        vertical-align: middle;\n",
       "    }\n",
       "\n",
       "    .dataframe tbody tr th {\n",
       "        vertical-align: top;\n",
       "    }\n",
       "\n",
       "    .dataframe thead th {\n",
       "        text-align: right;\n",
       "    }\n",
       "</style>\n",
       "<table border=\"1\" class=\"dataframe\">\n",
       "  <thead>\n",
       "    <tr style=\"text-align: right;\">\n",
       "      <th>Aufzeichnungstyp</th>\n",
       "      <th>0</th>\n",
       "      <th>1</th>\n",
       "    </tr>\n",
       "    <tr>\n",
       "      <th>nmae</th>\n",
       "      <th></th>\n",
       "      <th></th>\n",
       "    </tr>\n",
       "  </thead>\n",
       "  <tbody>\n",
       "    <tr>\n",
       "      <th>night</th>\n",
       "      <td>328</td>\n",
       "      <td>11</td>\n",
       "    </tr>\n",
       "    <tr>\n",
       "      <th>morning</th>\n",
       "      <td>328</td>\n",
       "      <td>33</td>\n",
       "    </tr>\n",
       "    <tr>\n",
       "      <th>afternoon</th>\n",
       "      <td>333</td>\n",
       "      <td>31</td>\n",
       "    </tr>\n",
       "    <tr>\n",
       "      <th>evening</th>\n",
       "      <td>313</td>\n",
       "      <td>35</td>\n",
       "    </tr>\n",
       "  </tbody>\n",
       "</table>\n",
       "</div>"
      ],
      "text/plain": [
       "Aufzeichnungstyp    0   1\n",
       "nmae                     \n",
       "night             328  11\n",
       "morning           328  33\n",
       "afternoon         333  31\n",
       "evening           313  35"
      ]
     },
     "execution_count": 48,
     "metadata": {},
     "output_type": "execute_result"
    }
   ],
   "source": [
    "pd.crosstab(df_2.nmae,df_2.Aufzeichnungstyp)"
   ]
  },
  {
   "cell_type": "code",
   "execution_count": 49,
   "metadata": {},
   "outputs": [
    {
     "data": {
      "text/plain": [
       "<matplotlib.axes._subplots.AxesSubplot at 0x7ffea360a9d0>"
      ]
     },
     "execution_count": 49,
     "metadata": {},
     "output_type": "execute_result"
    },
    {
     "data": {
      "image/png": "[encoded data removed]",
      "text/plain": [
       "<Figure size 864x576 with 1 Axes>"
      ]
     },
     "metadata": {
      "needs_background": "light"
     },
     "output_type": "display_data"
    }
   ],
   "source": [
    "pd.crosstab(df_2.nmae,df_2.Aufzeichnungstyp).plot.bar()"
   ]
  },
  {
   "cell_type": "code",
   "execution_count": null,
   "metadata": {},
   "outputs": [],
   "source": [
    "#comparing the Glukosewert-Verlauf mg/dL with the Aufzeichnungstyp"
   ]
  },
  {
   "cell_type": "code",
   "execution_count": 51,
   "metadata": {},
   "outputs": [
    {
     "data": {
      "text/html": [
       "<div>\n",
       "<style scoped>\n",
       "    .dataframe tbody tr th:only-of-type {\n",
       "        vertical-align: middle;\n",
       "    }\n",
       "\n",
       "    .dataframe tbody tr th {\n",
       "        vertical-align: top;\n",
       "    }\n",
       "\n",
       "    .dataframe thead th {\n",
       "        text-align: right;\n",
       "    }\n",
       "</style>\n",
       "<table border=\"1\" class=\"dataframe\">\n",
       "  <thead>\n",
       "    <tr style=\"text-align: right;\">\n",
       "      <th>Aufzeichnungstyp</th>\n",
       "      <th>0</th>\n",
       "    </tr>\n",
       "    <tr>\n",
       "      <th>Glukosewert-Verlauf mg/dL</th>\n",
       "      <th></th>\n",
       "    </tr>\n",
       "  </thead>\n",
       "  <tbody>\n",
       "    <tr>\n",
       "      <th>71.0</th>\n",
       "      <td>1</td>\n",
       "    </tr>\n",
       "    <tr>\n",
       "      <th>72.0</th>\n",
       "      <td>1</td>\n",
       "    </tr>\n",
       "    <tr>\n",
       "      <th>74.0</th>\n",
       "      <td>2</td>\n",
       "    </tr>\n",
       "    <tr>\n",
       "      <th>75.0</th>\n",
       "      <td>1</td>\n",
       "    </tr>\n",
       "    <tr>\n",
       "      <th>76.0</th>\n",
       "      <td>2</td>\n",
       "    </tr>\n",
       "    <tr>\n",
       "      <th>...</th>\n",
       "      <td>...</td>\n",
       "    </tr>\n",
       "    <tr>\n",
       "      <th>198.0</th>\n",
       "      <td>1</td>\n",
       "    </tr>\n",
       "    <tr>\n",
       "      <th>202.0</th>\n",
       "      <td>1</td>\n",
       "    </tr>\n",
       "    <tr>\n",
       "      <th>209.0</th>\n",
       "      <td>1</td>\n",
       "    </tr>\n",
       "    <tr>\n",
       "      <th>212.0</th>\n",
       "      <td>1</td>\n",
       "    </tr>\n",
       "    <tr>\n",
       "      <th>224.0</th>\n",
       "      <td>1</td>\n",
       "    </tr>\n",
       "  </tbody>\n",
       "</table>\n",
       "<p>116 rows × 1 columns</p>\n",
       "</div>"
      ],
      "text/plain": [
       "Aufzeichnungstyp           0\n",
       "Glukosewert-Verlauf mg/dL   \n",
       "71.0                       1\n",
       "72.0                       1\n",
       "74.0                       2\n",
       "75.0                       1\n",
       "76.0                       2\n",
       "...                       ..\n",
       "198.0                      1\n",
       "202.0                      1\n",
       "209.0                      1\n",
       "212.0                      1\n",
       "224.0                      1\n",
       "\n",
       "[116 rows x 1 columns]"
      ]
     },
     "execution_count": 51,
     "metadata": {},
     "output_type": "execute_result"
    }
   ],
   "source": [
    "pd.crosstab(df_2[\"Glukosewert-Verlauf mg/dL\"],df_2.Aufzeichnungstyp)"
   ]
  },
  {
   "cell_type": "code",
   "execution_count": 52,
   "metadata": {},
   "outputs": [
    {
     "data": {
      "text/plain": [
       "<matplotlib.axes._subplots.AxesSubplot at 0x7ffea2b09bb0>"
      ]
     },
     "execution_count": 52,
     "metadata": {},
     "output_type": "execute_result"
    },
    {
     "data": {
      "image/png": "[encoded data removed]",
      "text/plain": [
       "<Figure size 864x576 with 1 Axes>"
      ]
     },
     "metadata": {
      "needs_background": "light"
     },
     "output_type": "display_data"
    }
   ],
   "source": [
    "pd.crosstab(df_2[\"Glukosewert-Verlauf mg/dL\"],df_2.Aufzeichnungstyp).plot()"
   ]
  },
  {
   "cell_type": "code",
   "execution_count": 50,
   "metadata": {},
   "outputs": [
    {
     "data": {
      "text/plain": [
       "<seaborn.axisgrid.FacetGrid at 0x7ffea35e3310>"
      ]
     },
     "execution_count": 50,
     "metadata": {},
     "output_type": "execute_result"
    },
    {
     "data": {
      "image/png": "[encoded data removed]",
      "text/plain": [
       "<Figure size 360x360 with 1 Axes>"
      ]
     },
     "metadata": {
      "needs_background": "light"
     },
     "output_type": "display_data"
    }
   ],
   "source": [
    "sns.relplot(x= 'nmae', y = 'Glukosewert-Verlauf mg/dL', data=df_2, kind='scatter',sizes=(20, 100))"
   ]
  },
  {
   "cell_type": "markdown",
   "metadata": {},
   "source": [
    "The morning and evening meal such as \n",
    "3 Vollkorntoast, 75g Schmelzkse, 35g Butter,\n",
    "\n",
    "1 Vollkornbrot, 25g Butter, 65g Romadur, 20g E.\n",
    "\n",
    "1 Schb. Vollkorndinkelbrot, 30g Butter, 100g K. some among them are the cause of the increase in the blood glucose sugar level."
   ]
  },
  {
   "cell_type": "code",
   "execution_count": null,
   "metadata": {},
   "outputs": [],
   "source": []
  }
 ],
 "metadata": {
  "kernelspec": {
   "display_name": "Python 3",
   "language": "python",
   "name": "python3"
  },
  "language_info": {
   "codemirror_mode": {
    "name": "ipython",
    "version": 3
   },
   "file_extension": ".py",
   "mimetype": "text/x-python",
   "name": "python",
   "nbconvert_exporter": "python",
   "pygments_lexer": "ipython3",
   "version": "3.8.3"
  }
 },
 "nbformat": 4,
 "nbformat_minor": 4
}
