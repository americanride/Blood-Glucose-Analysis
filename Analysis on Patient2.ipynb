{
 "cells": [
  {
   "cell_type": "code",
   "execution_count": 1,
   "metadata": {},
   "outputs": [],
   "source": [
    "import pandas as pd \n",
    "import numpy as np\n",
    "import matplotlib.pyplot as plt\n",
    "import seaborn as sns\n",
    "import matplotlib\n",
    "import warnings\n",
    "warnings.filterwarnings('ignore')\n",
    "from datetime import datetime"
   ]
  },
  {
   "cell_type": "code",
   "execution_count": 2,
   "metadata": {},
   "outputs": [
    {
     "data": {
      "text/html": [
       "<div>\n",
       "<style scoped>\n",
       "    .dataframe tbody tr th:only-of-type {\n",
       "        vertical-align: middle;\n",
       "    }\n",
       "\n",
       "    .dataframe tbody tr th {\n",
       "        vertical-align: top;\n",
       "    }\n",
       "\n",
       "    .dataframe thead th {\n",
       "        text-align: right;\n",
       "    }\n",
       "</style>\n",
       "<table border=\"1\" class=\"dataframe\">\n",
       "  <thead>\n",
       "    <tr style=\"text-align: right;\">\n",
       "      <th></th>\n",
       "      <th>id</th>\n",
       "      <th>user_id</th>\n",
       "      <th>record_type</th>\n",
       "      <th>description</th>\n",
       "      <th>timestamp_start</th>\n",
       "      <th>timestamp_end</th>\n",
       "      <th>payload</th>\n",
       "      <th>created</th>\n",
       "      <th>last_modified</th>\n",
       "    </tr>\n",
       "  </thead>\n",
       "  <tbody>\n",
       "    <tr>\n",
       "      <th>0</th>\n",
       "      <td>bbbbbbbb-bbbb-bbbb-bbbb-bbbbbbbbbb00</td>\n",
       "      <td>bbbbbbbb-bbbb-bbbb-bbbb-bbbbbbbbbbbb</td>\n",
       "      <td>MEAL_BREAKFAST</td>\n",
       "      <td>2 Pott Kaffe +Zucker</td>\n",
       "      <td>2021-02-19T06:30:00+01:00</td>\n",
       "      <td>NaN</td>\n",
       "      <td>NaN</td>\n",
       "      <td>NaN</td>\n",
       "      <td>NaN</td>\n",
       "    </tr>\n",
       "    <tr>\n",
       "      <th>1</th>\n",
       "      <td>bbbbbbbb-bbbb-bbbb-bbbb-bbbbbbbbbb01</td>\n",
       "      <td>bbbbbbbb-bbbb-bbbb-bbbb-bbbbbbbbbbbb</td>\n",
       "      <td>MEAL_BREAKFAST</td>\n",
       "      <td>Gem�sesuppe instant</td>\n",
       "      <td>2021-02-19T07:30:00+01:00</td>\n",
       "      <td>NaN</td>\n",
       "      <td>NaN</td>\n",
       "      <td>NaN</td>\n",
       "      <td>NaN</td>\n",
       "    </tr>\n",
       "    <tr>\n",
       "      <th>2</th>\n",
       "      <td>bbbbbbbb-bbbb-bbbb-bbbb-bbbbbbbbbb02</td>\n",
       "      <td>bbbbbbbb-bbbb-bbbb-bbbb-bbbbbbbbbbbb</td>\n",
       "      <td>MEAL_SNACK</td>\n",
       "      <td>Gem�sesuppe instant + Gr�ner Tee ohne alles</td>\n",
       "      <td>2021-02-19T09:00:00+01:00</td>\n",
       "      <td>NaN</td>\n",
       "      <td>NaN</td>\n",
       "      <td>NaN</td>\n",
       "      <td>NaN</td>\n",
       "    </tr>\n",
       "    <tr>\n",
       "      <th>3</th>\n",
       "      <td>bbbbbbbb-bbbb-bbbb-bbbb-bbbbbbbbbb03</td>\n",
       "      <td>bbbbbbbb-bbbb-bbbb-bbbb-bbbbbbbbbbbb</td>\n",
       "      <td>DRINK</td>\n",
       "      <td>Kaffee ohne alles</td>\n",
       "      <td>2021-02-19T10:00:00+01:00</td>\n",
       "      <td>NaN</td>\n",
       "      <td>NaN</td>\n",
       "      <td>NaN</td>\n",
       "      <td>NaN</td>\n",
       "    </tr>\n",
       "    <tr>\n",
       "      <th>4</th>\n",
       "      <td>bbbbbbbb-bbbb-bbbb-bbbb-bbbbbbbbbb04</td>\n",
       "      <td>bbbbbbbb-bbbb-bbbb-bbbb-bbbbbbbbbbbb</td>\n",
       "      <td>MEAL_LUNCH</td>\n",
       "      <td>Kartoffeln (150 g), Quark 250 g, Bohnen 250g ,...</td>\n",
       "      <td>2021-02-19T12:45:00+01:00</td>\n",
       "      <td>NaN</td>\n",
       "      <td>NaN</td>\n",
       "      <td>NaN</td>\n",
       "      <td>NaN</td>\n",
       "    </tr>\n",
       "    <tr>\n",
       "      <th>5</th>\n",
       "      <td>bbbbbbbb-bbbb-bbbb-bbbb-bbbbbbbbbb05</td>\n",
       "      <td>bbbbbbbb-bbbb-bbbb-bbbb-bbbbbbbbbbbb</td>\n",
       "      <td>MEAL_SNACK</td>\n",
       "      <td>kaffee und etwas zucker, scheibe Brot mit L�tt...</td>\n",
       "      <td>2021-02-19T15:30:00+01:00</td>\n",
       "      <td>NaN</td>\n",
       "      <td>NaN</td>\n",
       "      <td>NaN</td>\n",
       "      <td>NaN</td>\n",
       "    </tr>\n",
       "    <tr>\n",
       "      <th>6</th>\n",
       "      <td>bbbbbbbb-bbbb-bbbb-bbbb-bbbbbbbbbb06</td>\n",
       "      <td>bbbbbbbb-bbbb-bbbb-bbbb-bbbbbbbbbbbb</td>\n",
       "      <td>MEAL_DINNER</td>\n",
       "      <td>currywurst und 2 scheiben Brot</td>\n",
       "      <td>2021-02-19T19:30:00+01:00</td>\n",
       "      <td>NaN</td>\n",
       "      <td>NaN</td>\n",
       "      <td>NaN</td>\n",
       "      <td>NaN</td>\n",
       "    </tr>\n",
       "    <tr>\n",
       "      <th>7</th>\n",
       "      <td>bbbbbbbb-bbbb-bbbb-bbbb-bbbbbbbbbb07</td>\n",
       "      <td>bbbbbbbb-bbbb-bbbb-bbbb-bbbbbbbbbbbb</td>\n",
       "      <td>MEAL_SNACK</td>\n",
       "      <td>Brot mit L�tta, Salami, 2 Kekse Prinzenrolle</td>\n",
       "      <td>2021-02-19T23:00:00+01:00</td>\n",
       "      <td>NaN</td>\n",
       "      <td>NaN</td>\n",
       "      <td>NaN</td>\n",
       "      <td>NaN</td>\n",
       "    </tr>\n",
       "    <tr>\n",
       "      <th>8</th>\n",
       "      <td>bbbbbbbb-bbbb-bbbb-bbbb-bbbbbbbbbb08</td>\n",
       "      <td>bbbbbbbb-bbbb-bbbb-bbbb-bbbbbbbbbbbb</td>\n",
       "      <td>MEAL_BREAKFAST</td>\n",
       "      <td>2 Kaffee mit etwas Zucker</td>\n",
       "      <td>2021-02-21T06:00:00+01:00</td>\n",
       "      <td>NaN</td>\n",
       "      <td>NaN</td>\n",
       "      <td>NaN</td>\n",
       "      <td>NaN</td>\n",
       "    </tr>\n",
       "    <tr>\n",
       "      <th>9</th>\n",
       "      <td>bbbbbbbb-bbbb-bbbb-bbbb-bbbbbbbbbb09</td>\n",
       "      <td>bbbbbbbb-bbbb-bbbb-bbbb-bbbbbbbbbbbb</td>\n",
       "      <td>MEAL_LUNCH</td>\n",
       "      <td>1/4 Ente 250 g, etw. Rotkohl 200g, 50 mlOrange...</td>\n",
       "      <td>2021-02-21T12:45:00+01:00</td>\n",
       "      <td>NaN</td>\n",
       "      <td>NaN</td>\n",
       "      <td>NaN</td>\n",
       "      <td>NaN</td>\n",
       "    </tr>\n",
       "    <tr>\n",
       "      <th>10</th>\n",
       "      <td>bbbbbbbb-bbbb-bbbb-bbbb-bbbbbbbbbb10</td>\n",
       "      <td>bbbbbbbb-bbbb-bbbb-bbbb-bbbbbbbbbbbb</td>\n",
       "      <td>MEAL_SNACK</td>\n",
       "      <td>2 scheiben Brot100 g, 20g L�tta,50g Braunschwe...</td>\n",
       "      <td>2021-02-21T18:15:00+01:00</td>\n",
       "      <td>NaN</td>\n",
       "      <td>NaN</td>\n",
       "      <td>NaN</td>\n",
       "      <td>NaN</td>\n",
       "    </tr>\n",
       "    <tr>\n",
       "      <th>11</th>\n",
       "      <td>bbbbbbbb-bbbb-bbbb-bbbb-bbbbbbbbbb11</td>\n",
       "      <td>bbbbbbbb-bbbb-bbbb-bbbb-bbbbbbbbbbbb</td>\n",
       "      <td>MEAL_DINNER</td>\n",
       "      <td>80 g asiatisches Gefl�gelfleisch, 1 scheibe Br...</td>\n",
       "      <td>2021-02-21T22:00:00+01:00</td>\n",
       "      <td>NaN</td>\n",
       "      <td>NaN</td>\n",
       "      <td>NaN</td>\n",
       "      <td>NaN</td>\n",
       "    </tr>\n",
       "    <tr>\n",
       "      <th>12</th>\n",
       "      <td>bbbbbbbb-bbbb-bbbb-bbbb-bbbbbbbbbb12</td>\n",
       "      <td>bbbbbbbb-bbbb-bbbb-bbbb-bbbbbbbbbbbb</td>\n",
       "      <td>MEAL_BREAKFAST</td>\n",
       "      <td>Pott Kaffee mit wenig zucker, Gem�sesuppe instant</td>\n",
       "      <td>2021-02-23T07:00:00+01:00</td>\n",
       "      <td>NaN</td>\n",
       "      <td>NaN</td>\n",
       "      <td>NaN</td>\n",
       "      <td>NaN</td>\n",
       "    </tr>\n",
       "    <tr>\n",
       "      <th>13</th>\n",
       "      <td>bbbbbbbb-bbbb-bbbb-bbbb-bbbbbbbbbb13</td>\n",
       "      <td>bbbbbbbb-bbbb-bbbb-bbbb-bbbbbbbbbbbb</td>\n",
       "      <td>MEAL_LUNCH</td>\n",
       "      <td>kleine rinderroulade 150 g, Kartoffeln 200g, R...</td>\n",
       "      <td>2021-02-23T12:30:00+01:00</td>\n",
       "      <td>NaN</td>\n",
       "      <td>NaN</td>\n",
       "      <td>NaN</td>\n",
       "      <td>NaN</td>\n",
       "    </tr>\n",
       "    <tr>\n",
       "      <th>14</th>\n",
       "      <td>bbbbbbbb-bbbb-bbbb-bbbb-bbbbbbbbbb14</td>\n",
       "      <td>bbbbbbbb-bbbb-bbbb-bbbb-bbbbbbbbbbbb</td>\n",
       "      <td>MEAL_SNACK</td>\n",
       "      <td>2 st�cke kuchen salted caramel, 1 pott Kaffee,...</td>\n",
       "      <td>2021-02-23T15:15:00+01:00</td>\n",
       "      <td>NaN</td>\n",
       "      <td>NaN</td>\n",
       "      <td>NaN</td>\n",
       "      <td>NaN</td>\n",
       "    </tr>\n",
       "    <tr>\n",
       "      <th>15</th>\n",
       "      <td>bbbbbbbb-bbbb-bbbb-bbbb-bbbbbbbbbb15</td>\n",
       "      <td>bbbbbbbb-bbbb-bbbb-bbbb-bbbbbbbbbbbb</td>\n",
       "      <td>MEAL_DINNER</td>\n",
       "      <td>2 Scheiben Brot (100g) , L�tta 20g?, Salami 50...</td>\n",
       "      <td>2021-02-23T18:30:00+01:00</td>\n",
       "      <td>NaN</td>\n",
       "      <td>NaN</td>\n",
       "      <td>NaN</td>\n",
       "      <td>NaN</td>\n",
       "    </tr>\n",
       "    <tr>\n",
       "      <th>16</th>\n",
       "      <td>bbbbbbbb-bbbb-bbbb-bbbb-bbbbbbbbbb16</td>\n",
       "      <td>bbbbbbbb-bbbb-bbbb-bbbb-bbbbbbbbbbbb</td>\n",
       "      <td>MEAL_SNACK</td>\n",
       "      <td>Vanilleeins mit Schokoglasur, 200ml coke zero</td>\n",
       "      <td>2021-02-23T22:15:00+01:00</td>\n",
       "      <td>NaN</td>\n",
       "      <td>NaN</td>\n",
       "      <td>NaN</td>\n",
       "      <td>NaN</td>\n",
       "    </tr>\n",
       "  </tbody>\n",
       "</table>\n",
       "</div>"
      ],
      "text/plain": [
       "                                      id  \\\n",
       "0   bbbbbbbb-bbbb-bbbb-bbbb-bbbbbbbbbb00   \n",
       "1   bbbbbbbb-bbbb-bbbb-bbbb-bbbbbbbbbb01   \n",
       "2   bbbbbbbb-bbbb-bbbb-bbbb-bbbbbbbbbb02   \n",
       "3   bbbbbbbb-bbbb-bbbb-bbbb-bbbbbbbbbb03   \n",
       "4   bbbbbbbb-bbbb-bbbb-bbbb-bbbbbbbbbb04   \n",
       "5   bbbbbbbb-bbbb-bbbb-bbbb-bbbbbbbbbb05   \n",
       "6   bbbbbbbb-bbbb-bbbb-bbbb-bbbbbbbbbb06   \n",
       "7   bbbbbbbb-bbbb-bbbb-bbbb-bbbbbbbbbb07   \n",
       "8   bbbbbbbb-bbbb-bbbb-bbbb-bbbbbbbbbb08   \n",
       "9   bbbbbbbb-bbbb-bbbb-bbbb-bbbbbbbbbb09   \n",
       "10  bbbbbbbb-bbbb-bbbb-bbbb-bbbbbbbbbb10   \n",
       "11  bbbbbbbb-bbbb-bbbb-bbbb-bbbbbbbbbb11   \n",
       "12  bbbbbbbb-bbbb-bbbb-bbbb-bbbbbbbbbb12   \n",
       "13  bbbbbbbb-bbbb-bbbb-bbbb-bbbbbbbbbb13   \n",
       "14  bbbbbbbb-bbbb-bbbb-bbbb-bbbbbbbbbb14   \n",
       "15  bbbbbbbb-bbbb-bbbb-bbbb-bbbbbbbbbb15   \n",
       "16  bbbbbbbb-bbbb-bbbb-bbbb-bbbbbbbbbb16   \n",
       "\n",
       "                                 user_id     record_type  \\\n",
       "0   bbbbbbbb-bbbb-bbbb-bbbb-bbbbbbbbbbbb  MEAL_BREAKFAST   \n",
       "1   bbbbbbbb-bbbb-bbbb-bbbb-bbbbbbbbbbbb  MEAL_BREAKFAST   \n",
       "2   bbbbbbbb-bbbb-bbbb-bbbb-bbbbbbbbbbbb      MEAL_SNACK   \n",
       "3   bbbbbbbb-bbbb-bbbb-bbbb-bbbbbbbbbbbb           DRINK   \n",
       "4   bbbbbbbb-bbbb-bbbb-bbbb-bbbbbbbbbbbb      MEAL_LUNCH   \n",
       "5   bbbbbbbb-bbbb-bbbb-bbbb-bbbbbbbbbbbb      MEAL_SNACK   \n",
       "6   bbbbbbbb-bbbb-bbbb-bbbb-bbbbbbbbbbbb     MEAL_DINNER   \n",
       "7   bbbbbbbb-bbbb-bbbb-bbbb-bbbbbbbbbbbb      MEAL_SNACK   \n",
       "8   bbbbbbbb-bbbb-bbbb-bbbb-bbbbbbbbbbbb  MEAL_BREAKFAST   \n",
       "9   bbbbbbbb-bbbb-bbbb-bbbb-bbbbbbbbbbbb      MEAL_LUNCH   \n",
       "10  bbbbbbbb-bbbb-bbbb-bbbb-bbbbbbbbbbbb      MEAL_SNACK   \n",
       "11  bbbbbbbb-bbbb-bbbb-bbbb-bbbbbbbbbbbb     MEAL_DINNER   \n",
       "12  bbbbbbbb-bbbb-bbbb-bbbb-bbbbbbbbbbbb  MEAL_BREAKFAST   \n",
       "13  bbbbbbbb-bbbb-bbbb-bbbb-bbbbbbbbbbbb      MEAL_LUNCH   \n",
       "14  bbbbbbbb-bbbb-bbbb-bbbb-bbbbbbbbbbbb      MEAL_SNACK   \n",
       "15  bbbbbbbb-bbbb-bbbb-bbbb-bbbbbbbbbbbb     MEAL_DINNER   \n",
       "16  bbbbbbbb-bbbb-bbbb-bbbb-bbbbbbbbbbbb      MEAL_SNACK   \n",
       "\n",
       "                                          description  \\\n",
       "0                                2 Pott Kaffe +Zucker   \n",
       "1                                 Gem�sesuppe instant   \n",
       "2         Gem�sesuppe instant + Gr�ner Tee ohne alles   \n",
       "3                                   Kaffee ohne alles   \n",
       "4   Kartoffeln (150 g), Quark 250 g, Bohnen 250g ,...   \n",
       "5   kaffee und etwas zucker, scheibe Brot mit L�tt...   \n",
       "6                      currywurst und 2 scheiben Brot   \n",
       "7        Brot mit L�tta, Salami, 2 Kekse Prinzenrolle   \n",
       "8                           2 Kaffee mit etwas Zucker   \n",
       "9   1/4 Ente 250 g, etw. Rotkohl 200g, 50 mlOrange...   \n",
       "10  2 scheiben Brot100 g, 20g L�tta,50g Braunschwe...   \n",
       "11  80 g asiatisches Gefl�gelfleisch, 1 scheibe Br...   \n",
       "12  Pott Kaffee mit wenig zucker, Gem�sesuppe instant   \n",
       "13  kleine rinderroulade 150 g, Kartoffeln 200g, R...   \n",
       "14  2 st�cke kuchen salted caramel, 1 pott Kaffee,...   \n",
       "15  2 Scheiben Brot (100g) , L�tta 20g?, Salami 50...   \n",
       "16      Vanilleeins mit Schokoglasur, 200ml coke zero   \n",
       "\n",
       "              timestamp_start  timestamp_end  payload  created  last_modified  \n",
       "0   2021-02-19T06:30:00+01:00            NaN      NaN      NaN            NaN  \n",
       "1   2021-02-19T07:30:00+01:00            NaN      NaN      NaN            NaN  \n",
       "2   2021-02-19T09:00:00+01:00            NaN      NaN      NaN            NaN  \n",
       "3   2021-02-19T10:00:00+01:00            NaN      NaN      NaN            NaN  \n",
       "4   2021-02-19T12:45:00+01:00            NaN      NaN      NaN            NaN  \n",
       "5   2021-02-19T15:30:00+01:00            NaN      NaN      NaN            NaN  \n",
       "6   2021-02-19T19:30:00+01:00            NaN      NaN      NaN            NaN  \n",
       "7   2021-02-19T23:00:00+01:00            NaN      NaN      NaN            NaN  \n",
       "8   2021-02-21T06:00:00+01:00            NaN      NaN      NaN            NaN  \n",
       "9   2021-02-21T12:45:00+01:00            NaN      NaN      NaN            NaN  \n",
       "10  2021-02-21T18:15:00+01:00            NaN      NaN      NaN            NaN  \n",
       "11  2021-02-21T22:00:00+01:00            NaN      NaN      NaN            NaN  \n",
       "12  2021-02-23T07:00:00+01:00            NaN      NaN      NaN            NaN  \n",
       "13  2021-02-23T12:30:00+01:00            NaN      NaN      NaN            NaN  \n",
       "14  2021-02-23T15:15:00+01:00            NaN      NaN      NaN            NaN  \n",
       "15  2021-02-23T18:30:00+01:00            NaN      NaN      NaN            NaN  \n",
       "16  2021-02-23T22:15:00+01:00            NaN      NaN      NaN            NaN  "
      ]
     },
     "execution_count": 2,
     "metadata": {},
     "output_type": "execute_result"
    }
   ],
   "source": [
    "#reading the activities\n",
    "df2 = pd.read_csv('/Users/ganiyuopeyemi/desktop/Una Health/b/activities_all2.csv')\n",
    "df2.head(17)"
   ]
  },
  {
   "cell_type": "code",
   "execution_count": 3,
   "metadata": {},
   "outputs": [
    {
     "data": {
      "text/plain": [
       "(17, 9)"
      ]
     },
     "execution_count": 3,
     "metadata": {},
     "output_type": "execute_result"
    }
   ],
   "source": [
    "df2.shape"
   ]
  },
  {
   "cell_type": "code",
   "execution_count": 4,
   "metadata": {},
   "outputs": [
    {
     "name": "stdout",
     "output_type": "stream",
     "text": [
      "<class 'pandas.core.frame.DataFrame'>\n",
      "RangeIndex: 17 entries, 0 to 16\n",
      "Data columns (total 9 columns):\n",
      " #   Column           Non-Null Count  Dtype  \n",
      "---  ------           --------------  -----  \n",
      " 0   id               17 non-null     object \n",
      " 1   user_id          17 non-null     object \n",
      " 2   record_type      17 non-null     object \n",
      " 3   description      17 non-null     object \n",
      " 4   timestamp_start  17 non-null     object \n",
      " 5   timestamp_end    0 non-null      float64\n",
      " 6   payload          0 non-null      float64\n",
      " 7   created          0 non-null      float64\n",
      " 8   last_modified    0 non-null      float64\n",
      "dtypes: float64(4), object(5)\n",
      "memory usage: 1.3+ KB\n"
     ]
    }
   ],
   "source": [
    "df2.info()"
   ]
  },
  {
   "cell_type": "code",
   "execution_count": 5,
   "metadata": {},
   "outputs": [
    {
     "data": {
      "text/plain": [
       "id                  object\n",
       "user_id             object\n",
       "record_type         object\n",
       "description         object\n",
       "timestamp_start     object\n",
       "timestamp_end      float64\n",
       "payload            float64\n",
       "created            float64\n",
       "last_modified      float64\n",
       "dtype: object"
      ]
     },
     "execution_count": 5,
     "metadata": {},
     "output_type": "execute_result"
    }
   ],
   "source": [
    "df2.dtypes"
   ]
  },
  {
   "cell_type": "code",
   "execution_count": 6,
   "metadata": {},
   "outputs": [],
   "source": [
    "#Analysis on the levels_all"
   ]
  },
  {
   "cell_type": "code",
   "execution_count": 7,
   "metadata": {},
   "outputs": [
    {
     "data": {
      "text/html": [
       "<div>\n",
       "<style scoped>\n",
       "    .dataframe tbody tr th:only-of-type {\n",
       "        vertical-align: middle;\n",
       "    }\n",
       "\n",
       "    .dataframe tbody tr th {\n",
       "        vertical-align: top;\n",
       "    }\n",
       "\n",
       "    .dataframe thead th {\n",
       "        text-align: right;\n",
       "    }\n",
       "</style>\n",
       "<table border=\"1\" class=\"dataframe\">\n",
       "  <thead>\n",
       "    <tr style=\"text-align: right;\">\n",
       "      <th></th>\n",
       "      <th></th>\n",
       "      <th></th>\n",
       "      <th></th>\n",
       "      <th></th>\n",
       "      <th></th>\n",
       "      <th></th>\n",
       "      <th></th>\n",
       "      <th></th>\n",
       "      <th></th>\n",
       "      <th></th>\n",
       "      <th></th>\n",
       "      <th></th>\n",
       "      <th></th>\n",
       "      <th>Glukose-Werte</th>\n",
       "      <th>Erstellt am</th>\n",
       "      <th>24-02-2021 12:12 UTC</th>\n",
       "      <th>Erstellt von</th>\n",
       "      <th>bbb</th>\n",
       "    </tr>\n",
       "  </thead>\n",
       "  <tbody>\n",
       "    <tr>\n",
       "      <th>Gerät</th>\n",
       "      <th>Seriennummer</th>\n",
       "      <th>Gerätezeitstempel</th>\n",
       "      <th>Aufzeichnungstyp</th>\n",
       "      <th>Glukosewert-Verlauf mg/dL</th>\n",
       "      <th>Glukose-Scan mg/dL</th>\n",
       "      <th>Nicht numerisches schnellwirkendes Insulin</th>\n",
       "      <th>Schnellwirkendes Insulin (Einheiten)</th>\n",
       "      <th>Nicht numerische Nahrungsdaten</th>\n",
       "      <th>Kohlenhydrate (Gramm)</th>\n",
       "      <th>Kohlenhydrate (Portionen)</th>\n",
       "      <th>Nicht numerisches Depotinsulin</th>\n",
       "      <th>Depotinsulin (Einheiten)</th>\n",
       "      <th>Notizen</th>\n",
       "      <td>Glukose-Teststreifen mg/dL</td>\n",
       "      <td>Keton mmol/L</td>\n",
       "      <td>Mahlzeiteninsulin (Einheiten)</td>\n",
       "      <td>Korrekturinsulin (Einheiten)</td>\n",
       "      <td>Insulin-Änderung durch Anwender (Einheiten)</td>\n",
       "    </tr>\n",
       "    <tr>\n",
       "      <th rowspan=\"4\" valign=\"top\">FreeStyle LibreLink</th>\n",
       "      <th rowspan=\"4\" valign=\"top\">006A3043-6E08-4C19-B3F1-B0D95C5737CA</th>\n",
       "      <th>18-02-2021 11:19</th>\n",
       "      <th>0</th>\n",
       "      <th>97</th>\n",
       "      <th>NaN</th>\n",
       "      <th>NaN</th>\n",
       "      <th>NaN</th>\n",
       "      <th>NaN</th>\n",
       "      <th>NaN</th>\n",
       "      <th>NaN</th>\n",
       "      <th>NaN</th>\n",
       "      <th>NaN</th>\n",
       "      <th>NaN</th>\n",
       "      <td>NaN</td>\n",
       "      <td>NaN</td>\n",
       "      <td>NaN</td>\n",
       "      <td>NaN</td>\n",
       "      <td>NaN</td>\n",
       "    </tr>\n",
       "    <tr>\n",
       "      <th>18-02-2021 11:34</th>\n",
       "      <th>0</th>\n",
       "      <th>96</th>\n",
       "      <th>NaN</th>\n",
       "      <th>NaN</th>\n",
       "      <th>NaN</th>\n",
       "      <th>NaN</th>\n",
       "      <th>NaN</th>\n",
       "      <th>NaN</th>\n",
       "      <th>NaN</th>\n",
       "      <th>NaN</th>\n",
       "      <th>NaN</th>\n",
       "      <td>NaN</td>\n",
       "      <td>NaN</td>\n",
       "      <td>NaN</td>\n",
       "      <td>NaN</td>\n",
       "      <td>NaN</td>\n",
       "    </tr>\n",
       "    <tr>\n",
       "      <th>18-02-2021 11:49</th>\n",
       "      <th>0</th>\n",
       "      <th>96</th>\n",
       "      <th>NaN</th>\n",
       "      <th>NaN</th>\n",
       "      <th>NaN</th>\n",
       "      <th>NaN</th>\n",
       "      <th>NaN</th>\n",
       "      <th>NaN</th>\n",
       "      <th>NaN</th>\n",
       "      <th>NaN</th>\n",
       "      <th>NaN</th>\n",
       "      <td>NaN</td>\n",
       "      <td>NaN</td>\n",
       "      <td>NaN</td>\n",
       "      <td>NaN</td>\n",
       "      <td>NaN</td>\n",
       "    </tr>\n",
       "    <tr>\n",
       "      <th>18-02-2021 12:04</th>\n",
       "      <th>0</th>\n",
       "      <th>94</th>\n",
       "      <th>NaN</th>\n",
       "      <th>NaN</th>\n",
       "      <th>NaN</th>\n",
       "      <th>NaN</th>\n",
       "      <th>NaN</th>\n",
       "      <th>NaN</th>\n",
       "      <th>NaN</th>\n",
       "      <th>NaN</th>\n",
       "      <th>NaN</th>\n",
       "      <td>NaN</td>\n",
       "      <td>NaN</td>\n",
       "      <td>NaN</td>\n",
       "      <td>NaN</td>\n",
       "      <td>NaN</td>\n",
       "    </tr>\n",
       "  </tbody>\n",
       "</table>\n",
       "</div>"
      ],
      "text/plain": [
       "                                                                                                                                                                                                                                                                                                                                                                                      Glukose-Werte  \\\n",
       "Gerät               Seriennummer                         Gerätezeitstempel Aufzeichnungstyp Glukosewert-Verlauf mg/dL Glukose-Scan mg/dL Nicht numerisches schnellwirkendes Insulin Schnellwirkendes Insulin (Einheiten) Nicht numerische Nahrungsdaten Kohlenhydrate (Gramm) Kohlenhydrate (Portionen) Nicht numerisches Depotinsulin Depotinsulin (Einheiten) Notizen  Glukose-Teststreifen mg/dL   \n",
       "FreeStyle LibreLink 006A3043-6E08-4C19-B3F1-B0D95C5737CA 18-02-2021 11:19  0                97                        NaN                NaN                                        NaN                                  NaN                            NaN                   NaN                       NaN                            NaN                      NaN                             NaN   \n",
       "                                                         18-02-2021 11:34  0                96                        NaN                NaN                                        NaN                                  NaN                            NaN                   NaN                       NaN                            NaN                      NaN                             NaN   \n",
       "                                                         18-02-2021 11:49  0                96                        NaN                NaN                                        NaN                                  NaN                            NaN                   NaN                       NaN                            NaN                      NaN                             NaN   \n",
       "                                                         18-02-2021 12:04  0                94                        NaN                NaN                                        NaN                                  NaN                            NaN                   NaN                       NaN                            NaN                      NaN                             NaN   \n",
       "\n",
       "                                                                                                                                                                                                                                                                                                                                                                          Erstellt am  \\\n",
       "Gerät               Seriennummer                         Gerätezeitstempel Aufzeichnungstyp Glukosewert-Verlauf mg/dL Glukose-Scan mg/dL Nicht numerisches schnellwirkendes Insulin Schnellwirkendes Insulin (Einheiten) Nicht numerische Nahrungsdaten Kohlenhydrate (Gramm) Kohlenhydrate (Portionen) Nicht numerisches Depotinsulin Depotinsulin (Einheiten) Notizen  Keton mmol/L   \n",
       "FreeStyle LibreLink 006A3043-6E08-4C19-B3F1-B0D95C5737CA 18-02-2021 11:19  0                97                        NaN                NaN                                        NaN                                  NaN                            NaN                   NaN                       NaN                            NaN                      NaN               NaN   \n",
       "                                                         18-02-2021 11:34  0                96                        NaN                NaN                                        NaN                                  NaN                            NaN                   NaN                       NaN                            NaN                      NaN               NaN   \n",
       "                                                         18-02-2021 11:49  0                96                        NaN                NaN                                        NaN                                  NaN                            NaN                   NaN                       NaN                            NaN                      NaN               NaN   \n",
       "                                                         18-02-2021 12:04  0                94                        NaN                NaN                                        NaN                                  NaN                            NaN                   NaN                       NaN                            NaN                      NaN               NaN   \n",
       "\n",
       "                                                                                                                                                                                                                                                                                                                                                                                  24-02-2021 12:12 UTC  \\\n",
       "Gerät               Seriennummer                         Gerätezeitstempel Aufzeichnungstyp Glukosewert-Verlauf mg/dL Glukose-Scan mg/dL Nicht numerisches schnellwirkendes Insulin Schnellwirkendes Insulin (Einheiten) Nicht numerische Nahrungsdaten Kohlenhydrate (Gramm) Kohlenhydrate (Portionen) Nicht numerisches Depotinsulin Depotinsulin (Einheiten) Notizen  Mahlzeiteninsulin (Einheiten)   \n",
       "FreeStyle LibreLink 006A3043-6E08-4C19-B3F1-B0D95C5737CA 18-02-2021 11:19  0                97                        NaN                NaN                                        NaN                                  NaN                            NaN                   NaN                       NaN                            NaN                      NaN                                NaN   \n",
       "                                                         18-02-2021 11:34  0                96                        NaN                NaN                                        NaN                                  NaN                            NaN                   NaN                       NaN                            NaN                      NaN                                NaN   \n",
       "                                                         18-02-2021 11:49  0                96                        NaN                NaN                                        NaN                                  NaN                            NaN                   NaN                       NaN                            NaN                      NaN                                NaN   \n",
       "                                                         18-02-2021 12:04  0                94                        NaN                NaN                                        NaN                                  NaN                            NaN                   NaN                       NaN                            NaN                      NaN                                NaN   \n",
       "\n",
       "                                                                                                                                                                                                                                                                                                                                                                                         Erstellt von  \\\n",
       "Gerät               Seriennummer                         Gerätezeitstempel Aufzeichnungstyp Glukosewert-Verlauf mg/dL Glukose-Scan mg/dL Nicht numerisches schnellwirkendes Insulin Schnellwirkendes Insulin (Einheiten) Nicht numerische Nahrungsdaten Kohlenhydrate (Gramm) Kohlenhydrate (Portionen) Nicht numerisches Depotinsulin Depotinsulin (Einheiten) Notizen  Korrekturinsulin (Einheiten)   \n",
       "FreeStyle LibreLink 006A3043-6E08-4C19-B3F1-B0D95C5737CA 18-02-2021 11:19  0                97                        NaN                NaN                                        NaN                                  NaN                            NaN                   NaN                       NaN                            NaN                      NaN                               NaN   \n",
       "                                                         18-02-2021 11:34  0                96                        NaN                NaN                                        NaN                                  NaN                            NaN                   NaN                       NaN                            NaN                      NaN                               NaN   \n",
       "                                                         18-02-2021 11:49  0                96                        NaN                NaN                                        NaN                                  NaN                            NaN                   NaN                       NaN                            NaN                      NaN                               NaN   \n",
       "                                                         18-02-2021 12:04  0                94                        NaN                NaN                                        NaN                                  NaN                            NaN                   NaN                       NaN                            NaN                      NaN                               NaN   \n",
       "\n",
       "                                                                                                                                                                                                                                                                                                                                                                                                                 bbb  \n",
       "Gerät               Seriennummer                         Gerätezeitstempel Aufzeichnungstyp Glukosewert-Verlauf mg/dL Glukose-Scan mg/dL Nicht numerisches schnellwirkendes Insulin Schnellwirkendes Insulin (Einheiten) Nicht numerische Nahrungsdaten Kohlenhydrate (Gramm) Kohlenhydrate (Portionen) Nicht numerisches Depotinsulin Depotinsulin (Einheiten) Notizen  Insulin-Änderung durch Anwender (Einheiten)  \n",
       "FreeStyle LibreLink 006A3043-6E08-4C19-B3F1-B0D95C5737CA 18-02-2021 11:19  0                97                        NaN                NaN                                        NaN                                  NaN                            NaN                   NaN                       NaN                            NaN                      NaN                                              NaN  \n",
       "                                                         18-02-2021 11:34  0                96                        NaN                NaN                                        NaN                                  NaN                            NaN                   NaN                       NaN                            NaN                      NaN                                              NaN  \n",
       "                                                         18-02-2021 11:49  0                96                        NaN                NaN                                        NaN                                  NaN                            NaN                   NaN                       NaN                            NaN                      NaN                                              NaN  \n",
       "                                                         18-02-2021 12:04  0                94                        NaN                NaN                                        NaN                                  NaN                            NaN                   NaN                       NaN                            NaN                      NaN                                              NaN  "
      ]
     },
     "execution_count": 7,
     "metadata": {},
     "output_type": "execute_result"
    }
   ],
   "source": [
    "#read levels_all\n",
    "df1 = pd.read_csv('/Users/ganiyuopeyemi/desktop/Una Health/b/levels_all2.csv')\n",
    "df1.head()"
   ]
  },
  {
   "cell_type": "code",
   "execution_count": 8,
   "metadata": {},
   "outputs": [],
   "source": [
    "#change multiindex to single index pandas"
   ]
  },
  {
   "cell_type": "code",
   "execution_count": 9,
   "metadata": {},
   "outputs": [],
   "source": [
    "df_1 = df1.reset_index()"
   ]
  },
  {
   "cell_type": "code",
   "execution_count": 10,
   "metadata": {},
   "outputs": [
    {
     "data": {
      "text/html": [
       "<div>\n",
       "<style scoped>\n",
       "    .dataframe tbody tr th:only-of-type {\n",
       "        vertical-align: middle;\n",
       "    }\n",
       "\n",
       "    .dataframe tbody tr th {\n",
       "        vertical-align: top;\n",
       "    }\n",
       "\n",
       "    .dataframe thead th {\n",
       "        text-align: right;\n",
       "    }\n",
       "</style>\n",
       "<table border=\"1\" class=\"dataframe\">\n",
       "  <thead>\n",
       "    <tr style=\"text-align: right;\">\n",
       "      <th></th>\n",
       "      <th>level_0</th>\n",
       "      <th>level_1</th>\n",
       "      <th>level_2</th>\n",
       "      <th>level_3</th>\n",
       "      <th>level_4</th>\n",
       "      <th>level_5</th>\n",
       "      <th>level_6</th>\n",
       "      <th>level_7</th>\n",
       "      <th>level_8</th>\n",
       "      <th>level_9</th>\n",
       "      <th>level_10</th>\n",
       "      <th>level_11</th>\n",
       "      <th>level_12</th>\n",
       "      <th>level_13</th>\n",
       "      <th>Glukose-Werte</th>\n",
       "      <th>Erstellt am</th>\n",
       "      <th>24-02-2021 12:12 UTC</th>\n",
       "      <th>Erstellt von</th>\n",
       "      <th>bbb</th>\n",
       "    </tr>\n",
       "  </thead>\n",
       "  <tbody>\n",
       "    <tr>\n",
       "      <th>0</th>\n",
       "      <td>Gerät</td>\n",
       "      <td>Seriennummer</td>\n",
       "      <td>Gerätezeitstempel</td>\n",
       "      <td>Aufzeichnungstyp</td>\n",
       "      <td>Glukosewert-Verlauf mg/dL</td>\n",
       "      <td>Glukose-Scan mg/dL</td>\n",
       "      <td>Nicht numerisches schnellwirkendes Insulin</td>\n",
       "      <td>Schnellwirkendes Insulin (Einheiten)</td>\n",
       "      <td>Nicht numerische Nahrungsdaten</td>\n",
       "      <td>Kohlenhydrate (Gramm)</td>\n",
       "      <td>Kohlenhydrate (Portionen)</td>\n",
       "      <td>Nicht numerisches Depotinsulin</td>\n",
       "      <td>Depotinsulin (Einheiten)</td>\n",
       "      <td>Notizen</td>\n",
       "      <td>Glukose-Teststreifen mg/dL</td>\n",
       "      <td>Keton mmol/L</td>\n",
       "      <td>Mahlzeiteninsulin (Einheiten)</td>\n",
       "      <td>Korrekturinsulin (Einheiten)</td>\n",
       "      <td>Insulin-Änderung durch Anwender (Einheiten)</td>\n",
       "    </tr>\n",
       "    <tr>\n",
       "      <th>1</th>\n",
       "      <td>FreeStyle LibreLink</td>\n",
       "      <td>006A3043-6E08-4C19-B3F1-B0D95C5737CA</td>\n",
       "      <td>18-02-2021 11:19</td>\n",
       "      <td>0</td>\n",
       "      <td>97</td>\n",
       "      <td>NaN</td>\n",
       "      <td>NaN</td>\n",
       "      <td>NaN</td>\n",
       "      <td>NaN</td>\n",
       "      <td>NaN</td>\n",
       "      <td>NaN</td>\n",
       "      <td>NaN</td>\n",
       "      <td>NaN</td>\n",
       "      <td>NaN</td>\n",
       "      <td>NaN</td>\n",
       "      <td>NaN</td>\n",
       "      <td>NaN</td>\n",
       "      <td>NaN</td>\n",
       "      <td>NaN</td>\n",
       "    </tr>\n",
       "    <tr>\n",
       "      <th>2</th>\n",
       "      <td>FreeStyle LibreLink</td>\n",
       "      <td>006A3043-6E08-4C19-B3F1-B0D95C5737CA</td>\n",
       "      <td>18-02-2021 11:34</td>\n",
       "      <td>0</td>\n",
       "      <td>96</td>\n",
       "      <td>NaN</td>\n",
       "      <td>NaN</td>\n",
       "      <td>NaN</td>\n",
       "      <td>NaN</td>\n",
       "      <td>NaN</td>\n",
       "      <td>NaN</td>\n",
       "      <td>NaN</td>\n",
       "      <td>NaN</td>\n",
       "      <td>NaN</td>\n",
       "      <td>NaN</td>\n",
       "      <td>NaN</td>\n",
       "      <td>NaN</td>\n",
       "      <td>NaN</td>\n",
       "      <td>NaN</td>\n",
       "    </tr>\n",
       "    <tr>\n",
       "      <th>3</th>\n",
       "      <td>FreeStyle LibreLink</td>\n",
       "      <td>006A3043-6E08-4C19-B3F1-B0D95C5737CA</td>\n",
       "      <td>18-02-2021 11:49</td>\n",
       "      <td>0</td>\n",
       "      <td>96</td>\n",
       "      <td>NaN</td>\n",
       "      <td>NaN</td>\n",
       "      <td>NaN</td>\n",
       "      <td>NaN</td>\n",
       "      <td>NaN</td>\n",
       "      <td>NaN</td>\n",
       "      <td>NaN</td>\n",
       "      <td>NaN</td>\n",
       "      <td>NaN</td>\n",
       "      <td>NaN</td>\n",
       "      <td>NaN</td>\n",
       "      <td>NaN</td>\n",
       "      <td>NaN</td>\n",
       "      <td>NaN</td>\n",
       "    </tr>\n",
       "    <tr>\n",
       "      <th>4</th>\n",
       "      <td>FreeStyle LibreLink</td>\n",
       "      <td>006A3043-6E08-4C19-B3F1-B0D95C5737CA</td>\n",
       "      <td>18-02-2021 12:04</td>\n",
       "      <td>0</td>\n",
       "      <td>94</td>\n",
       "      <td>NaN</td>\n",
       "      <td>NaN</td>\n",
       "      <td>NaN</td>\n",
       "      <td>NaN</td>\n",
       "      <td>NaN</td>\n",
       "      <td>NaN</td>\n",
       "      <td>NaN</td>\n",
       "      <td>NaN</td>\n",
       "      <td>NaN</td>\n",
       "      <td>NaN</td>\n",
       "      <td>NaN</td>\n",
       "      <td>NaN</td>\n",
       "      <td>NaN</td>\n",
       "      <td>NaN</td>\n",
       "    </tr>\n",
       "  </tbody>\n",
       "</table>\n",
       "</div>"
      ],
      "text/plain": [
       "               level_0                               level_1  \\\n",
       "0                Gerät                          Seriennummer   \n",
       "1  FreeStyle LibreLink  006A3043-6E08-4C19-B3F1-B0D95C5737CA   \n",
       "2  FreeStyle LibreLink  006A3043-6E08-4C19-B3F1-B0D95C5737CA   \n",
       "3  FreeStyle LibreLink  006A3043-6E08-4C19-B3F1-B0D95C5737CA   \n",
       "4  FreeStyle LibreLink  006A3043-6E08-4C19-B3F1-B0D95C5737CA   \n",
       "\n",
       "             level_2           level_3                    level_4  \\\n",
       "0  Gerätezeitstempel  Aufzeichnungstyp  Glukosewert-Verlauf mg/dL   \n",
       "1   18-02-2021 11:19                 0                         97   \n",
       "2   18-02-2021 11:34                 0                         96   \n",
       "3   18-02-2021 11:49                 0                         96   \n",
       "4   18-02-2021 12:04                 0                         94   \n",
       "\n",
       "              level_5                                     level_6  \\\n",
       "0  Glukose-Scan mg/dL  Nicht numerisches schnellwirkendes Insulin   \n",
       "1                 NaN                                         NaN   \n",
       "2                 NaN                                         NaN   \n",
       "3                 NaN                                         NaN   \n",
       "4                 NaN                                         NaN   \n",
       "\n",
       "                                level_7                         level_8  \\\n",
       "0  Schnellwirkendes Insulin (Einheiten)  Nicht numerische Nahrungsdaten   \n",
       "1                                   NaN                             NaN   \n",
       "2                                   NaN                             NaN   \n",
       "3                                   NaN                             NaN   \n",
       "4                                   NaN                             NaN   \n",
       "\n",
       "                 level_9                   level_10  \\\n",
       "0  Kohlenhydrate (Gramm)  Kohlenhydrate (Portionen)   \n",
       "1                    NaN                        NaN   \n",
       "2                    NaN                        NaN   \n",
       "3                    NaN                        NaN   \n",
       "4                    NaN                        NaN   \n",
       "\n",
       "                         level_11                  level_12 level_13  \\\n",
       "0  Nicht numerisches Depotinsulin  Depotinsulin (Einheiten)  Notizen   \n",
       "1                             NaN                       NaN      NaN   \n",
       "2                             NaN                       NaN      NaN   \n",
       "3                             NaN                       NaN      NaN   \n",
       "4                             NaN                       NaN      NaN   \n",
       "\n",
       "                Glukose-Werte   Erstellt am           24-02-2021 12:12 UTC  \\\n",
       "0  Glukose-Teststreifen mg/dL  Keton mmol/L  Mahlzeiteninsulin (Einheiten)   \n",
       "1                         NaN           NaN                            NaN   \n",
       "2                         NaN           NaN                            NaN   \n",
       "3                         NaN           NaN                            NaN   \n",
       "4                         NaN           NaN                            NaN   \n",
       "\n",
       "                   Erstellt von                                          bbb  \n",
       "0  Korrekturinsulin (Einheiten)  Insulin-Änderung durch Anwender (Einheiten)  \n",
       "1                           NaN                                          NaN  \n",
       "2                           NaN                                          NaN  \n",
       "3                           NaN                                          NaN  \n",
       "4                           NaN                                          NaN  "
      ]
     },
     "execution_count": 10,
     "metadata": {},
     "output_type": "execute_result"
    }
   ],
   "source": [
    "df_1.head()"
   ]
  },
  {
   "cell_type": "code",
   "execution_count": 11,
   "metadata": {},
   "outputs": [],
   "source": [
    "header = df_1.iloc[0] \n",
    "df_1 = df_1[1:] \n",
    "df_1.columns = header"
   ]
  },
  {
   "cell_type": "code",
   "execution_count": 12,
   "metadata": {},
   "outputs": [
    {
     "data": {
      "text/html": [
       "<div>\n",
       "<style scoped>\n",
       "    .dataframe tbody tr th:only-of-type {\n",
       "        vertical-align: middle;\n",
       "    }\n",
       "\n",
       "    .dataframe tbody tr th {\n",
       "        vertical-align: top;\n",
       "    }\n",
       "\n",
       "    .dataframe thead th {\n",
       "        text-align: right;\n",
       "    }\n",
       "</style>\n",
       "<table border=\"1\" class=\"dataframe\">\n",
       "  <thead>\n",
       "    <tr style=\"text-align: right;\">\n",
       "      <th></th>\n",
       "      <th>Gerät</th>\n",
       "      <th>Seriennummer</th>\n",
       "      <th>Gerätezeitstempel</th>\n",
       "      <th>Aufzeichnungstyp</th>\n",
       "      <th>Glukosewert-Verlauf mg/dL</th>\n",
       "      <th>Glukose-Scan mg/dL</th>\n",
       "      <th>Nicht numerisches schnellwirkendes Insulin</th>\n",
       "      <th>Schnellwirkendes Insulin (Einheiten)</th>\n",
       "      <th>Nicht numerische Nahrungsdaten</th>\n",
       "      <th>Kohlenhydrate (Gramm)</th>\n",
       "      <th>Kohlenhydrate (Portionen)</th>\n",
       "      <th>Nicht numerisches Depotinsulin</th>\n",
       "      <th>Depotinsulin (Einheiten)</th>\n",
       "      <th>Notizen</th>\n",
       "      <th>Glukose-Teststreifen mg/dL</th>\n",
       "      <th>Keton mmol/L</th>\n",
       "      <th>Mahlzeiteninsulin (Einheiten)</th>\n",
       "      <th>Korrekturinsulin (Einheiten)</th>\n",
       "      <th>Insulin-Änderung durch Anwender (Einheiten)</th>\n",
       "    </tr>\n",
       "  </thead>\n",
       "  <tbody>\n",
       "    <tr>\n",
       "      <th>1</th>\n",
       "      <td>FreeStyle LibreLink</td>\n",
       "      <td>006A3043-6E08-4C19-B3F1-B0D95C5737CA</td>\n",
       "      <td>18-02-2021 11:19</td>\n",
       "      <td>0</td>\n",
       "      <td>97</td>\n",
       "      <td>NaN</td>\n",
       "      <td>NaN</td>\n",
       "      <td>NaN</td>\n",
       "      <td>NaN</td>\n",
       "      <td>NaN</td>\n",
       "      <td>NaN</td>\n",
       "      <td>NaN</td>\n",
       "      <td>NaN</td>\n",
       "      <td>NaN</td>\n",
       "      <td>NaN</td>\n",
       "      <td>NaN</td>\n",
       "      <td>NaN</td>\n",
       "      <td>NaN</td>\n",
       "      <td>NaN</td>\n",
       "    </tr>\n",
       "    <tr>\n",
       "      <th>2</th>\n",
       "      <td>FreeStyle LibreLink</td>\n",
       "      <td>006A3043-6E08-4C19-B3F1-B0D95C5737CA</td>\n",
       "      <td>18-02-2021 11:34</td>\n",
       "      <td>0</td>\n",
       "      <td>96</td>\n",
       "      <td>NaN</td>\n",
       "      <td>NaN</td>\n",
       "      <td>NaN</td>\n",
       "      <td>NaN</td>\n",
       "      <td>NaN</td>\n",
       "      <td>NaN</td>\n",
       "      <td>NaN</td>\n",
       "      <td>NaN</td>\n",
       "      <td>NaN</td>\n",
       "      <td>NaN</td>\n",
       "      <td>NaN</td>\n",
       "      <td>NaN</td>\n",
       "      <td>NaN</td>\n",
       "      <td>NaN</td>\n",
       "    </tr>\n",
       "    <tr>\n",
       "      <th>3</th>\n",
       "      <td>FreeStyle LibreLink</td>\n",
       "      <td>006A3043-6E08-4C19-B3F1-B0D95C5737CA</td>\n",
       "      <td>18-02-2021 11:49</td>\n",
       "      <td>0</td>\n",
       "      <td>96</td>\n",
       "      <td>NaN</td>\n",
       "      <td>NaN</td>\n",
       "      <td>NaN</td>\n",
       "      <td>NaN</td>\n",
       "      <td>NaN</td>\n",
       "      <td>NaN</td>\n",
       "      <td>NaN</td>\n",
       "      <td>NaN</td>\n",
       "      <td>NaN</td>\n",
       "      <td>NaN</td>\n",
       "      <td>NaN</td>\n",
       "      <td>NaN</td>\n",
       "      <td>NaN</td>\n",
       "      <td>NaN</td>\n",
       "    </tr>\n",
       "    <tr>\n",
       "      <th>4</th>\n",
       "      <td>FreeStyle LibreLink</td>\n",
       "      <td>006A3043-6E08-4C19-B3F1-B0D95C5737CA</td>\n",
       "      <td>18-02-2021 12:04</td>\n",
       "      <td>0</td>\n",
       "      <td>94</td>\n",
       "      <td>NaN</td>\n",
       "      <td>NaN</td>\n",
       "      <td>NaN</td>\n",
       "      <td>NaN</td>\n",
       "      <td>NaN</td>\n",
       "      <td>NaN</td>\n",
       "      <td>NaN</td>\n",
       "      <td>NaN</td>\n",
       "      <td>NaN</td>\n",
       "      <td>NaN</td>\n",
       "      <td>NaN</td>\n",
       "      <td>NaN</td>\n",
       "      <td>NaN</td>\n",
       "      <td>NaN</td>\n",
       "    </tr>\n",
       "    <tr>\n",
       "      <th>5</th>\n",
       "      <td>FreeStyle LibreLink</td>\n",
       "      <td>006A3043-6E08-4C19-B3F1-B0D95C5737CA</td>\n",
       "      <td>18-02-2021 12:19</td>\n",
       "      <td>0</td>\n",
       "      <td>90</td>\n",
       "      <td>NaN</td>\n",
       "      <td>NaN</td>\n",
       "      <td>NaN</td>\n",
       "      <td>NaN</td>\n",
       "      <td>NaN</td>\n",
       "      <td>NaN</td>\n",
       "      <td>NaN</td>\n",
       "      <td>NaN</td>\n",
       "      <td>NaN</td>\n",
       "      <td>NaN</td>\n",
       "      <td>NaN</td>\n",
       "      <td>NaN</td>\n",
       "      <td>NaN</td>\n",
       "      <td>NaN</td>\n",
       "    </tr>\n",
       "  </tbody>\n",
       "</table>\n",
       "</div>"
      ],
      "text/plain": [
       "0                Gerät                          Seriennummer  \\\n",
       "1  FreeStyle LibreLink  006A3043-6E08-4C19-B3F1-B0D95C5737CA   \n",
       "2  FreeStyle LibreLink  006A3043-6E08-4C19-B3F1-B0D95C5737CA   \n",
       "3  FreeStyle LibreLink  006A3043-6E08-4C19-B3F1-B0D95C5737CA   \n",
       "4  FreeStyle LibreLink  006A3043-6E08-4C19-B3F1-B0D95C5737CA   \n",
       "5  FreeStyle LibreLink  006A3043-6E08-4C19-B3F1-B0D95C5737CA   \n",
       "\n",
       "0 Gerätezeitstempel Aufzeichnungstyp Glukosewert-Verlauf mg/dL  \\\n",
       "1  18-02-2021 11:19                0                        97   \n",
       "2  18-02-2021 11:34                0                        96   \n",
       "3  18-02-2021 11:49                0                        96   \n",
       "4  18-02-2021 12:04                0                        94   \n",
       "5  18-02-2021 12:19                0                        90   \n",
       "\n",
       "0 Glukose-Scan mg/dL Nicht numerisches schnellwirkendes Insulin  \\\n",
       "1                NaN                                        NaN   \n",
       "2                NaN                                        NaN   \n",
       "3                NaN                                        NaN   \n",
       "4                NaN                                        NaN   \n",
       "5                NaN                                        NaN   \n",
       "\n",
       "0 Schnellwirkendes Insulin (Einheiten) Nicht numerische Nahrungsdaten  \\\n",
       "1                                  NaN                            NaN   \n",
       "2                                  NaN                            NaN   \n",
       "3                                  NaN                            NaN   \n",
       "4                                  NaN                            NaN   \n",
       "5                                  NaN                            NaN   \n",
       "\n",
       "0 Kohlenhydrate (Gramm) Kohlenhydrate (Portionen)  \\\n",
       "1                   NaN                       NaN   \n",
       "2                   NaN                       NaN   \n",
       "3                   NaN                       NaN   \n",
       "4                   NaN                       NaN   \n",
       "5                   NaN                       NaN   \n",
       "\n",
       "0 Nicht numerisches Depotinsulin Depotinsulin (Einheiten) Notizen  \\\n",
       "1                            NaN                      NaN     NaN   \n",
       "2                            NaN                      NaN     NaN   \n",
       "3                            NaN                      NaN     NaN   \n",
       "4                            NaN                      NaN     NaN   \n",
       "5                            NaN                      NaN     NaN   \n",
       "\n",
       "0 Glukose-Teststreifen mg/dL Keton mmol/L Mahlzeiteninsulin (Einheiten)  \\\n",
       "1                        NaN          NaN                           NaN   \n",
       "2                        NaN          NaN                           NaN   \n",
       "3                        NaN          NaN                           NaN   \n",
       "4                        NaN          NaN                           NaN   \n",
       "5                        NaN          NaN                           NaN   \n",
       "\n",
       "0 Korrekturinsulin (Einheiten) Insulin-Änderung durch Anwender (Einheiten)  \n",
       "1                          NaN                                         NaN  \n",
       "2                          NaN                                         NaN  \n",
       "3                          NaN                                         NaN  \n",
       "4                          NaN                                         NaN  \n",
       "5                          NaN                                         NaN  "
      ]
     },
     "execution_count": 12,
     "metadata": {},
     "output_type": "execute_result"
    }
   ],
   "source": [
    "df_1.head()"
   ]
  },
  {
   "cell_type": "code",
   "execution_count": 13,
   "metadata": {},
   "outputs": [
    {
     "data": {
      "text/plain": [
       "array(['006A3043-6E08-4C19-B3F1-B0D95C5737CA'], dtype=object)"
      ]
     },
     "execution_count": 13,
     "metadata": {},
     "output_type": "execute_result"
    }
   ],
   "source": [
    "df_1[\"Seriennummer\"].unique()"
   ]
  },
  {
   "cell_type": "code",
   "execution_count": 14,
   "metadata": {},
   "outputs": [
    {
     "data": {
      "text/plain": [
       "(1369, 19)"
      ]
     },
     "execution_count": 14,
     "metadata": {},
     "output_type": "execute_result"
    }
   ],
   "source": [
    "df_1.shape"
   ]
  },
  {
   "cell_type": "code",
   "execution_count": 15,
   "metadata": {},
   "outputs": [
    {
     "name": "stdout",
     "output_type": "stream",
     "text": [
      "<class 'pandas.core.frame.DataFrame'>\n",
      "RangeIndex: 1369 entries, 1 to 1369\n",
      "Data columns (total 19 columns):\n",
      " #   Column                                       Non-Null Count  Dtype \n",
      "---  ------                                       --------------  ----- \n",
      " 0   Gerät                                        1369 non-null   object\n",
      " 1   Seriennummer                                 1369 non-null   object\n",
      " 2   Gerätezeitstempel                            1369 non-null   object\n",
      " 3   Aufzeichnungstyp                             1369 non-null   object\n",
      " 4   Glukosewert-Verlauf mg/dL                    1255 non-null   object\n",
      " 5   Glukose-Scan mg/dL                           72 non-null     object\n",
      " 6   Nicht numerisches schnellwirkendes Insulin   0 non-null      object\n",
      " 7   Schnellwirkendes Insulin (Einheiten)         0 non-null      object\n",
      " 8   Nicht numerische Nahrungsdaten               1 non-null      object\n",
      " 9   Kohlenhydrate (Gramm)                        0 non-null      object\n",
      " 10  Kohlenhydrate (Portionen)                    0 non-null      object\n",
      " 11  Nicht numerisches Depotinsulin               0 non-null      object\n",
      " 12  Depotinsulin (Einheiten)                     0 non-null      object\n",
      " 13  Notizen                                      0 non-null      object\n",
      " 14  Glukose-Teststreifen mg/dL                   0 non-null      object\n",
      " 15  Keton mmol/L                                 0 non-null      object\n",
      " 16  Mahlzeiteninsulin (Einheiten)                0 non-null      object\n",
      " 17  Korrekturinsulin (Einheiten)                 0 non-null      object\n",
      " 18  Insulin-Änderung durch Anwender (Einheiten)  0 non-null      object\n",
      "dtypes: object(19)\n",
      "memory usage: 203.3+ KB\n"
     ]
    }
   ],
   "source": [
    "df_1.info()"
   ]
  },
  {
   "cell_type": "code",
   "execution_count": 16,
   "metadata": {},
   "outputs": [
    {
     "data": {
      "text/plain": [
       "0\n",
       "Gerät                                             0\n",
       "Seriennummer                                      0\n",
       "Gerätezeitstempel                                 0\n",
       "Aufzeichnungstyp                                  0\n",
       "Glukosewert-Verlauf mg/dL                       114\n",
       "Glukose-Scan mg/dL                             1297\n",
       "Nicht numerisches schnellwirkendes Insulin     1369\n",
       "Schnellwirkendes Insulin (Einheiten)           1369\n",
       "Nicht numerische Nahrungsdaten                 1368\n",
       "Kohlenhydrate (Gramm)                          1369\n",
       "Kohlenhydrate (Portionen)                      1369\n",
       "Nicht numerisches Depotinsulin                 1369\n",
       "Depotinsulin (Einheiten)                       1369\n",
       "Notizen                                        1369\n",
       "Glukose-Teststreifen mg/dL                     1369\n",
       "Keton mmol/L                                   1369\n",
       "Mahlzeiteninsulin (Einheiten)                  1369\n",
       "Korrekturinsulin (Einheiten)                   1369\n",
       "Insulin-Änderung durch Anwender (Einheiten)    1369\n",
       "dtype: int64"
      ]
     },
     "execution_count": 16,
     "metadata": {},
     "output_type": "execute_result"
    }
   ],
   "source": [
    "df_1.isna().sum()"
   ]
  },
  {
   "cell_type": "code",
   "execution_count": 17,
   "metadata": {},
   "outputs": [
    {
     "data": {
      "text/plain": [
       "Index(['Gerät', 'Seriennummer', 'Gerätezeitstempel', 'Aufzeichnungstyp',\n",
       "       'Glukosewert-Verlauf mg/dL', 'Glukose-Scan mg/dL',\n",
       "       'Nicht numerisches schnellwirkendes Insulin',\n",
       "       'Schnellwirkendes Insulin (Einheiten)',\n",
       "       'Nicht numerische Nahrungsdaten', 'Kohlenhydrate (Gramm)',\n",
       "       'Kohlenhydrate (Portionen)', 'Nicht numerisches Depotinsulin',\n",
       "       'Depotinsulin (Einheiten)', 'Notizen', 'Glukose-Teststreifen mg/dL',\n",
       "       'Keton mmol/L', 'Mahlzeiteninsulin (Einheiten)',\n",
       "       'Korrekturinsulin (Einheiten)',\n",
       "       'Insulin-Änderung durch Anwender (Einheiten)'],\n",
       "      dtype='object', name=0)"
      ]
     },
     "execution_count": 17,
     "metadata": {},
     "output_type": "execute_result"
    }
   ],
   "source": [
    "df_1.columns"
   ]
  },
  {
   "cell_type": "code",
   "execution_count": 18,
   "metadata": {},
   "outputs": [],
   "source": [
    "#creatinf a new dataframe from df_1"
   ]
  },
  {
   "cell_type": "code",
   "execution_count": 19,
   "metadata": {},
   "outputs": [],
   "source": [
    "df_11 = df_1[[\"Gerätezeitstempel\",\"Aufzeichnungstyp\",\"Glukosewert-Verlauf mg/dL\"]]"
   ]
  },
  {
   "cell_type": "code",
   "execution_count": 20,
   "metadata": {},
   "outputs": [
    {
     "data": {
      "text/html": [
       "<div>\n",
       "<style scoped>\n",
       "    .dataframe tbody tr th:only-of-type {\n",
       "        vertical-align: middle;\n",
       "    }\n",
       "\n",
       "    .dataframe tbody tr th {\n",
       "        vertical-align: top;\n",
       "    }\n",
       "\n",
       "    .dataframe thead th {\n",
       "        text-align: right;\n",
       "    }\n",
       "</style>\n",
       "<table border=\"1\" class=\"dataframe\">\n",
       "  <thead>\n",
       "    <tr style=\"text-align: right;\">\n",
       "      <th></th>\n",
       "      <th>Gerätezeitstempel</th>\n",
       "      <th>Aufzeichnungstyp</th>\n",
       "      <th>Glukosewert-Verlauf mg/dL</th>\n",
       "    </tr>\n",
       "  </thead>\n",
       "  <tbody>\n",
       "    <tr>\n",
       "      <th>1</th>\n",
       "      <td>18-02-2021 11:19</td>\n",
       "      <td>0</td>\n",
       "      <td>97</td>\n",
       "    </tr>\n",
       "    <tr>\n",
       "      <th>2</th>\n",
       "      <td>18-02-2021 11:34</td>\n",
       "      <td>0</td>\n",
       "      <td>96</td>\n",
       "    </tr>\n",
       "    <tr>\n",
       "      <th>3</th>\n",
       "      <td>18-02-2021 11:49</td>\n",
       "      <td>0</td>\n",
       "      <td>96</td>\n",
       "    </tr>\n",
       "    <tr>\n",
       "      <th>4</th>\n",
       "      <td>18-02-2021 12:04</td>\n",
       "      <td>0</td>\n",
       "      <td>94</td>\n",
       "    </tr>\n",
       "    <tr>\n",
       "      <th>5</th>\n",
       "      <td>18-02-2021 12:19</td>\n",
       "      <td>0</td>\n",
       "      <td>90</td>\n",
       "    </tr>\n",
       "  </tbody>\n",
       "</table>\n",
       "</div>"
      ],
      "text/plain": [
       "0 Gerätezeitstempel Aufzeichnungstyp Glukosewert-Verlauf mg/dL\n",
       "1  18-02-2021 11:19                0                        97\n",
       "2  18-02-2021 11:34                0                        96\n",
       "3  18-02-2021 11:49                0                        96\n",
       "4  18-02-2021 12:04                0                        94\n",
       "5  18-02-2021 12:19                0                        90"
      ]
     },
     "execution_count": 20,
     "metadata": {},
     "output_type": "execute_result"
    }
   ],
   "source": [
    "df_11.head()"
   ]
  },
  {
   "cell_type": "code",
   "execution_count": 21,
   "metadata": {},
   "outputs": [
    {
     "data": {
      "text/plain": [
       "array(['0', '1', '5', '6'], dtype=object)"
      ]
     },
     "execution_count": 21,
     "metadata": {},
     "output_type": "execute_result"
    }
   ],
   "source": [
    "df_11.Aufzeichnungstyp.unique()"
   ]
  },
  {
   "cell_type": "code",
   "execution_count": 22,
   "metadata": {},
   "outputs": [
    {
     "data": {
      "text/plain": [
       "0\n",
       "Gerätezeitstempel            object\n",
       "Aufzeichnungstyp             object\n",
       "Glukosewert-Verlauf mg/dL    object\n",
       "dtype: object"
      ]
     },
     "execution_count": 22,
     "metadata": {},
     "output_type": "execute_result"
    }
   ],
   "source": [
    "df_11.dtypes"
   ]
  },
  {
   "cell_type": "code",
   "execution_count": 23,
   "metadata": {},
   "outputs": [],
   "source": [
    "#converting datatype"
   ]
  },
  {
   "cell_type": "code",
   "execution_count": 24,
   "metadata": {},
   "outputs": [],
   "source": [
    "df_11['Aufzeichnungstyp'] = df_11['Aufzeichnungstyp'].astype(int)\n",
    "df_11['Glukosewert-Verlauf mg/dL'] = df_11['Glukosewert-Verlauf mg/dL'].astype(float)\n",
    "df_11['Gerätezeitstempel'] = pd.DatetimeIndex(df_11['Gerätezeitstempel']) "
   ]
  },
  {
   "cell_type": "code",
   "execution_count": 25,
   "metadata": {},
   "outputs": [
    {
     "data": {
      "text/plain": [
       "0\n",
       "Gerätezeitstempel            datetime64[ns]\n",
       "Aufzeichnungstyp                      int64\n",
       "Glukosewert-Verlauf mg/dL           float64\n",
       "dtype: object"
      ]
     },
     "execution_count": 25,
     "metadata": {},
     "output_type": "execute_result"
    }
   ],
   "source": [
    "df_11.dtypes"
   ]
  },
  {
   "cell_type": "code",
   "execution_count": 26,
   "metadata": {},
   "outputs": [],
   "source": [
    "#Statistical Analysis"
   ]
  },
  {
   "cell_type": "code",
   "execution_count": 27,
   "metadata": {},
   "outputs": [
    {
     "data": {
      "text/html": [
       "<div>\n",
       "<style scoped>\n",
       "    .dataframe tbody tr th:only-of-type {\n",
       "        vertical-align: middle;\n",
       "    }\n",
       "\n",
       "    .dataframe tbody tr th {\n",
       "        vertical-align: top;\n",
       "    }\n",
       "\n",
       "    .dataframe thead th {\n",
       "        text-align: right;\n",
       "    }\n",
       "</style>\n",
       "<table border=\"1\" class=\"dataframe\">\n",
       "  <thead>\n",
       "    <tr style=\"text-align: right;\">\n",
       "      <th></th>\n",
       "      <th>Aufzeichnungstyp</th>\n",
       "      <th>Glukosewert-Verlauf mg/dL</th>\n",
       "    </tr>\n",
       "  </thead>\n",
       "  <tbody>\n",
       "    <tr>\n",
       "      <th>count</th>\n",
       "      <td>1369.000000</td>\n",
       "      <td>1255.000000</td>\n",
       "    </tr>\n",
       "    <tr>\n",
       "      <th>mean</th>\n",
       "      <td>0.235939</td>\n",
       "      <td>122.262151</td>\n",
       "    </tr>\n",
       "    <tr>\n",
       "      <th>std</th>\n",
       "      <td>1.046014</td>\n",
       "      <td>22.332859</td>\n",
       "    </tr>\n",
       "    <tr>\n",
       "      <th>min</th>\n",
       "      <td>0.000000</td>\n",
       "      <td>75.000000</td>\n",
       "    </tr>\n",
       "    <tr>\n",
       "      <th>25%</th>\n",
       "      <td>0.000000</td>\n",
       "      <td>105.000000</td>\n",
       "    </tr>\n",
       "    <tr>\n",
       "      <th>50%</th>\n",
       "      <td>0.000000</td>\n",
       "      <td>119.000000</td>\n",
       "    </tr>\n",
       "    <tr>\n",
       "      <th>75%</th>\n",
       "      <td>0.000000</td>\n",
       "      <td>136.000000</td>\n",
       "    </tr>\n",
       "    <tr>\n",
       "      <th>max</th>\n",
       "      <td>6.000000</td>\n",
       "      <td>200.000000</td>\n",
       "    </tr>\n",
       "  </tbody>\n",
       "</table>\n",
       "</div>"
      ],
      "text/plain": [
       "0      Aufzeichnungstyp  Glukosewert-Verlauf mg/dL\n",
       "count       1369.000000                1255.000000\n",
       "mean           0.235939                 122.262151\n",
       "std            1.046014                  22.332859\n",
       "min            0.000000                  75.000000\n",
       "25%            0.000000                 105.000000\n",
       "50%            0.000000                 119.000000\n",
       "75%            0.000000                 136.000000\n",
       "max            6.000000                 200.000000"
      ]
     },
     "execution_count": 27,
     "metadata": {},
     "output_type": "execute_result"
    }
   ],
   "source": [
    "df_11.describe()"
   ]
  },
  {
   "cell_type": "code",
   "execution_count": 28,
   "metadata": {},
   "outputs": [
    {
     "data": {
      "text/plain": [
       "0    1255\n",
       "1      72\n",
       "6      41\n",
       "5       1\n",
       "Name: Aufzeichnungstyp, dtype: int64"
      ]
     },
     "execution_count": 28,
     "metadata": {},
     "output_type": "execute_result"
    }
   ],
   "source": [
    "df_11.Aufzeichnungstyp.value_counts()"
   ]
  },
  {
   "cell_type": "code",
   "execution_count": 29,
   "metadata": {},
   "outputs": [
    {
     "data": {
      "text/plain": [
       "<matplotlib.axes._subplots.AxesSubplot at 0x7fbeaebff220>"
      ]
     },
     "execution_count": 29,
     "metadata": {},
     "output_type": "execute_result"
    },
    {
     "data": {
      "image/png": "[encoded data removed]",
      "text/plain": [
       "<Figure size 432x288 with 1 Axes>"
      ]
     },
     "metadata": {
      "needs_background": "light"
     },
     "output_type": "display_data"
    }
   ],
   "source": [
    "df_11.Aufzeichnungstyp.value_counts().plot.bar()"
   ]
  },
  {
   "cell_type": "code",
   "execution_count": 30,
   "metadata": {},
   "outputs": [],
   "source": [
    "#removing the value of 5 and 6 from 'Aufzeichnungstyp'"
   ]
  },
  {
   "cell_type": "code",
   "execution_count": 31,
   "metadata": {},
   "outputs": [],
   "source": [
    "df_11.drop(df_11[df_11['Aufzeichnungstyp']==5].index, inplace = True)\n",
    "df_11.drop(df_11[df_11['Aufzeichnungstyp']==6].index, inplace = True)"
   ]
  },
  {
   "cell_type": "code",
   "execution_count": 32,
   "metadata": {},
   "outputs": [
    {
     "data": {
      "image/png": "[encoded data removed]",
      "text/plain": [
       "<Figure size 432x288 with 1 Axes>"
      ]
     },
     "metadata": {
      "needs_background": "light"
     },
     "output_type": "display_data"
    }
   ],
   "source": [
    "sns.countplot(\"Aufzeichnungstyp\", data=df_11)\n",
    "plt.show()"
   ]
  },
  {
   "cell_type": "code",
   "execution_count": 33,
   "metadata": {},
   "outputs": [],
   "source": [
    "#filling the mising \"Glukosewert-Verlauf mg/dL\" with median"
   ]
  },
  {
   "cell_type": "code",
   "execution_count": 34,
   "metadata": {},
   "outputs": [],
   "source": [
    "df_11[\"Glukosewert-Verlauf mg/dL\"] =df_11[\"Glukosewert-Verlauf mg/dL\"].fillna(df_11[\"Glukosewert-Verlauf mg/dL\"].median())"
   ]
  },
  {
   "cell_type": "code",
   "execution_count": 35,
   "metadata": {},
   "outputs": [],
   "source": [
    "df_11 = df_11.sort_values(by='Gerätezeitstempel', ascending=True)"
   ]
  },
  {
   "cell_type": "code",
   "execution_count": 36,
   "metadata": {},
   "outputs": [
    {
     "data": {
      "text/html": [
       "<div>\n",
       "<style scoped>\n",
       "    .dataframe tbody tr th:only-of-type {\n",
       "        vertical-align: middle;\n",
       "    }\n",
       "\n",
       "    .dataframe tbody tr th {\n",
       "        vertical-align: top;\n",
       "    }\n",
       "\n",
       "    .dataframe thead th {\n",
       "        text-align: right;\n",
       "    }\n",
       "</style>\n",
       "<table border=\"1\" class=\"dataframe\">\n",
       "  <thead>\n",
       "    <tr style=\"text-align: right;\">\n",
       "      <th></th>\n",
       "      <th>Aufzeichnungstyp</th>\n",
       "      <th>Glukosewert-Verlauf mg/dL</th>\n",
       "    </tr>\n",
       "    <tr>\n",
       "      <th>Gerätezeitstempel</th>\n",
       "      <th></th>\n",
       "      <th></th>\n",
       "    </tr>\n",
       "  </thead>\n",
       "  <tbody>\n",
       "    <tr>\n",
       "      <th>2021-02-13 00:10:00</th>\n",
       "      <td>0</td>\n",
       "      <td>104.0</td>\n",
       "    </tr>\n",
       "    <tr>\n",
       "      <th>2021-02-13 00:25:00</th>\n",
       "      <td>0</td>\n",
       "      <td>101.0</td>\n",
       "    </tr>\n",
       "    <tr>\n",
       "      <th>2021-02-13 00:40:00</th>\n",
       "      <td>0</td>\n",
       "      <td>109.0</td>\n",
       "    </tr>\n",
       "    <tr>\n",
       "      <th>2021-02-13 00:55:00</th>\n",
       "      <td>0</td>\n",
       "      <td>123.0</td>\n",
       "    </tr>\n",
       "    <tr>\n",
       "      <th>2021-02-13 01:12:00</th>\n",
       "      <td>0</td>\n",
       "      <td>133.0</td>\n",
       "    </tr>\n",
       "  </tbody>\n",
       "</table>\n",
       "</div>"
      ],
      "text/plain": [
       "0                    Aufzeichnungstyp  Glukosewert-Verlauf mg/dL\n",
       "Gerätezeitstempel                                               \n",
       "2021-02-13 00:10:00                 0                      104.0\n",
       "2021-02-13 00:25:00                 0                      101.0\n",
       "2021-02-13 00:40:00                 0                      109.0\n",
       "2021-02-13 00:55:00                 0                      123.0\n",
       "2021-02-13 01:12:00                 0                      133.0"
      ]
     },
     "execution_count": 36,
     "metadata": {},
     "output_type": "execute_result"
    }
   ],
   "source": [
    "df_11 = df_11.set_index('Gerätezeitstempel')\n",
    "df_11.head()"
   ]
  },
  {
   "cell_type": "code",
   "execution_count": 37,
   "metadata": {},
   "outputs": [],
   "source": [
    "#Time series analysis to see when the date that blood glucose level increase\n",
    "#with further breakdown"
   ]
  },
  {
   "cell_type": "code",
   "execution_count": 38,
   "metadata": {},
   "outputs": [
    {
     "data": {
      "text/plain": [
       "<matplotlib.axes._subplots.AxesSubplot at 0x7fbeaf3cb970>"
      ]
     },
     "execution_count": 38,
     "metadata": {},
     "output_type": "execute_result"
    },
    {
     "data": {
      "image/png": "[encoded data removed]",
      "text/plain": [
       "<Figure size 1080x720 with 1 Axes>"
      ]
     },
     "metadata": {
      "needs_background": "light"
     },
     "output_type": "display_data"
    }
   ],
   "source": [
    "matplotlib.rcParams['figure.figsize'] = [15.0,10.0]\n",
    "df_11.plot(grid=True)"
   ]
  },
  {
   "cell_type": "code",
   "execution_count": 39,
   "metadata": {},
   "outputs": [],
   "source": [
    "#checking the blood glucose level for the date between 2021-02-13 and 2021-3-30"
   ]
  },
  {
   "cell_type": "code",
   "execution_count": 40,
   "metadata": {},
   "outputs": [
    {
     "data": {
      "text/plain": [
       "<matplotlib.axes._subplots.AxesSubplot at 0x7fbeaf835100>"
      ]
     },
     "execution_count": 40,
     "metadata": {},
     "output_type": "execute_result"
    },
    {
     "data": {
      "image/png": "[encoded data removed]",
      "text/plain": [
       "<Figure size 864x576 with 1 Axes>"
      ]
     },
     "metadata": {
      "needs_background": "light"
     },
     "output_type": "display_data"
    }
   ],
   "source": [
    "matplotlib.rcParams['figure.figsize'] = [12.0,8.0]\n",
    "from datetime import datetime\n",
    "start_date = datetime(2021,2,13)\n",
    "end_date = datetime(2021,3,30)\n",
    "df_11[(start_date <=df_11.index) & (df_11.index <= end_date)].plot(grid=True)"
   ]
  },
  {
   "cell_type": "code",
   "execution_count": 41,
   "metadata": {},
   "outputs": [],
   "source": [
    "#checking the blood glucose level for the date between 2021-10-1 and 2022-1-30"
   ]
  },
  {
   "cell_type": "code",
   "execution_count": 42,
   "metadata": {},
   "outputs": [
    {
     "data": {
      "text/plain": [
       "<matplotlib.axes._subplots.AxesSubplot at 0x7fbeafba3eb0>"
      ]
     },
     "execution_count": 42,
     "metadata": {},
     "output_type": "execute_result"
    },
    {
     "data": {
      "image/png": "[encoded data removed]",
      "text/plain": [
       "<Figure size 864x576 with 1 Axes>"
      ]
     },
     "metadata": {
      "needs_background": "light"
     },
     "output_type": "display_data"
    }
   ],
   "source": [
    "matplotlib.rcParams['figure.figsize'] = [12.0,8.0]\n",
    "from datetime import datetime\n",
    "start_date = datetime(2021,10,1)\n",
    "end_date = datetime(2022,1,30)\n",
    "df_11[(start_date <=df_11.index) & (df_11.index <= end_date)].plot(grid=True)"
   ]
  },
  {
   "cell_type": "code",
   "execution_count": 43,
   "metadata": {},
   "outputs": [],
   "source": [
    "#checking the blood glucose level for the date between 2021-10-1 and 2021-10-9"
   ]
  },
  {
   "cell_type": "code",
   "execution_count": 44,
   "metadata": {},
   "outputs": [
    {
     "data": {
      "text/plain": [
       "<matplotlib.axes._subplots.AxesSubplot at 0x7fbeafdec160>"
      ]
     },
     "execution_count": 44,
     "metadata": {},
     "output_type": "execute_result"
    },
    {
     "data": {
      "image/png": "[encoded data removed]",
      "text/plain": [
       "<Figure size 864x576 with 1 Axes>"
      ]
     },
     "metadata": {
      "needs_background": "light"
     },
     "output_type": "display_data"
    }
   ],
   "source": [
    "matplotlib.rcParams['figure.figsize'] = [12.0,8.0]\n",
    "from datetime import datetime\n",
    "start_date = datetime(2021,10,1)\n",
    "end_date = datetime(2021,10,9)\n",
    "df_11[(start_date <=df_11.index) & (df_11.index <= end_date)].plot(grid=True)"
   ]
  },
  {
   "cell_type": "code",
   "execution_count": 45,
   "metadata": {},
   "outputs": [],
   "source": [
    "#checking the blood glucose level for the date between 2021-11-1 and 2021-11-9"
   ]
  },
  {
   "cell_type": "code",
   "execution_count": 46,
   "metadata": {},
   "outputs": [
    {
     "data": {
      "text/plain": [
       "<matplotlib.axes._subplots.AxesSubplot at 0x7fbeafe861f0>"
      ]
     },
     "execution_count": 46,
     "metadata": {},
     "output_type": "execute_result"
    },
    {
     "data": {
      "image/png": "[encoded data removed]",
      "text/plain": [
       "<Figure size 864x576 with 1 Axes>"
      ]
     },
     "metadata": {
      "needs_background": "light"
     },
     "output_type": "display_data"
    }
   ],
   "source": [
    "matplotlib.rcParams['figure.figsize'] = [12.0,8.0]\n",
    "from datetime import datetime\n",
    "start_date = datetime(2021,11,1)\n",
    "end_date = datetime(2021,11,9)\n",
    "df_11[(start_date <=df_11.index) & (df_11.index <= end_date)].plot(grid=True)"
   ]
  },
  {
   "cell_type": "code",
   "execution_count": 47,
   "metadata": {},
   "outputs": [],
   "source": [
    "#checking the blood glucose level for the date between 2021-12-1 and 2022-1-30"
   ]
  },
  {
   "cell_type": "code",
   "execution_count": 48,
   "metadata": {},
   "outputs": [
    {
     "data": {
      "text/plain": [
       "<matplotlib.axes._subplots.AxesSubplot at 0x7fbeaff0de20>"
      ]
     },
     "execution_count": 48,
     "metadata": {},
     "output_type": "execute_result"
    },
    {
     "data": {
      "image/png": "[encoded data removed]",
      "text/plain": [
       "<Figure size 864x576 with 1 Axes>"
      ]
     },
     "metadata": {
      "needs_background": "light"
     },
     "output_type": "display_data"
    }
   ],
   "source": [
    "matplotlib.rcParams['figure.figsize'] = [12.0,8.0]\n",
    "from datetime import datetime\n",
    "start_date = datetime(2021,12,1)\n",
    "end_date = datetime(2022,1,30)\n",
    "df_11[(start_date <=df_11.index) & (df_11.index <= end_date)].plot(grid=True)"
   ]
  },
  {
   "cell_type": "code",
   "execution_count": 49,
   "metadata": {},
   "outputs": [],
   "source": [
    "#creating a new dataframe"
   ]
  },
  {
   "cell_type": "code",
   "execution_count": 50,
   "metadata": {},
   "outputs": [],
   "source": [
    "df_2 = df_1[[\"Gerätezeitstempel\",\"Aufzeichnungstyp\",\"Glukosewert-Verlauf mg/dL\"]]"
   ]
  },
  {
   "cell_type": "code",
   "execution_count": 51,
   "metadata": {},
   "outputs": [
    {
     "data": {
      "text/plain": [
       "(1369, 3)"
      ]
     },
     "execution_count": 51,
     "metadata": {},
     "output_type": "execute_result"
    }
   ],
   "source": [
    "df_2.shape"
   ]
  },
  {
   "cell_type": "code",
   "execution_count": 52,
   "metadata": {},
   "outputs": [
    {
     "data": {
      "text/plain": [
       "0\n",
       "Gerätezeitstempel              0\n",
       "Aufzeichnungstyp               0\n",
       "Glukosewert-Verlauf mg/dL    114\n",
       "dtype: int64"
      ]
     },
     "execution_count": 52,
     "metadata": {},
     "output_type": "execute_result"
    }
   ],
   "source": [
    "df_2.isna().sum()"
   ]
  },
  {
   "cell_type": "code",
   "execution_count": 53,
   "metadata": {},
   "outputs": [],
   "source": [
    "df_2[\"Aufzeichnungstyp\"] = pd.to_numeric(df_2[\"Aufzeichnungstyp\"])\n",
    "df_2[\"Glukosewert-Verlauf mg/dL\"] = pd.to_numeric(df_2[\"Glukosewert-Verlauf mg/dL\"])\n",
    "df_2[\"Gerätezeitstempel\"] = pd.to_datetime(df_2[\"Gerätezeitstempel\"])"
   ]
  },
  {
   "cell_type": "code",
   "execution_count": 54,
   "metadata": {},
   "outputs": [],
   "source": [
    "df_2.drop(df_2[df_2['Aufzeichnungstyp']==5].index, inplace = True)\n",
    "df_2.drop(df_2[df_2['Aufzeichnungstyp']==6].index, inplace = True)"
   ]
  },
  {
   "cell_type": "code",
   "execution_count": 55,
   "metadata": {},
   "outputs": [],
   "source": [
    "#creating a cluster based on the time of meal of the patient for the day"
   ]
  },
  {
   "cell_type": "code",
   "execution_count": 56,
   "metadata": {},
   "outputs": [],
   "source": [
    "df_2['nmae'] = pd.cut(pd.to_datetime(df_2.Gerätezeitstempel).dt.hour,\n",
    "       bins=[0, 6, 12, 18, 24],\n",
    "       labels=['night', 'morning', 'afternoon', 'evening'],\n",
    "       right=False,\n",
    "       include_lowest=True)"
   ]
  },
  {
   "cell_type": "code",
   "execution_count": 57,
   "metadata": {},
   "outputs": [
    {
     "data": {
      "text/html": [
       "<div>\n",
       "<style scoped>\n",
       "    .dataframe tbody tr th:only-of-type {\n",
       "        vertical-align: middle;\n",
       "    }\n",
       "\n",
       "    .dataframe tbody tr th {\n",
       "        vertical-align: top;\n",
       "    }\n",
       "\n",
       "    .dataframe thead th {\n",
       "        text-align: right;\n",
       "    }\n",
       "</style>\n",
       "<table border=\"1\" class=\"dataframe\">\n",
       "  <thead>\n",
       "    <tr style=\"text-align: right;\">\n",
       "      <th></th>\n",
       "      <th>Gerätezeitstempel</th>\n",
       "      <th>Aufzeichnungstyp</th>\n",
       "      <th>Glukosewert-Verlauf mg/dL</th>\n",
       "      <th>nmae</th>\n",
       "    </tr>\n",
       "  </thead>\n",
       "  <tbody>\n",
       "    <tr>\n",
       "      <th>1</th>\n",
       "      <td>2021-02-18 11:19:00</td>\n",
       "      <td>0</td>\n",
       "      <td>97.0</td>\n",
       "      <td>morning</td>\n",
       "    </tr>\n",
       "    <tr>\n",
       "      <th>2</th>\n",
       "      <td>2021-02-18 11:34:00</td>\n",
       "      <td>0</td>\n",
       "      <td>96.0</td>\n",
       "      <td>morning</td>\n",
       "    </tr>\n",
       "    <tr>\n",
       "      <th>3</th>\n",
       "      <td>2021-02-18 11:49:00</td>\n",
       "      <td>0</td>\n",
       "      <td>96.0</td>\n",
       "      <td>morning</td>\n",
       "    </tr>\n",
       "    <tr>\n",
       "      <th>4</th>\n",
       "      <td>2021-02-18 12:04:00</td>\n",
       "      <td>0</td>\n",
       "      <td>94.0</td>\n",
       "      <td>afternoon</td>\n",
       "    </tr>\n",
       "    <tr>\n",
       "      <th>5</th>\n",
       "      <td>2021-02-18 12:19:00</td>\n",
       "      <td>0</td>\n",
       "      <td>90.0</td>\n",
       "      <td>afternoon</td>\n",
       "    </tr>\n",
       "  </tbody>\n",
       "</table>\n",
       "</div>"
      ],
      "text/plain": [
       "0   Gerätezeitstempel  Aufzeichnungstyp  Glukosewert-Verlauf mg/dL       nmae\n",
       "1 2021-02-18 11:19:00                 0                       97.0    morning\n",
       "2 2021-02-18 11:34:00                 0                       96.0    morning\n",
       "3 2021-02-18 11:49:00                 0                       96.0    morning\n",
       "4 2021-02-18 12:04:00                 0                       94.0  afternoon\n",
       "5 2021-02-18 12:19:00                 0                       90.0  afternoon"
      ]
     },
     "execution_count": 57,
     "metadata": {},
     "output_type": "execute_result"
    }
   ],
   "source": [
    "df_2.head()"
   ]
  },
  {
   "cell_type": "code",
   "execution_count": 58,
   "metadata": {},
   "outputs": [
    {
     "data": {
      "text/plain": [
       "0    1255\n",
       "1      72\n",
       "Name: Aufzeichnungstyp, dtype: int64"
      ]
     },
     "execution_count": 58,
     "metadata": {},
     "output_type": "execute_result"
    }
   ],
   "source": [
    "df_2[\"Aufzeichnungstyp\"].value_counts()"
   ]
  },
  {
   "cell_type": "code",
   "execution_count": 59,
   "metadata": {},
   "outputs": [],
   "source": [
    "#comparing the nmae with the Aufzeichnungstyp"
   ]
  },
  {
   "cell_type": "code",
   "execution_count": 60,
   "metadata": {},
   "outputs": [
    {
     "data": {
      "text/html": [
       "<div>\n",
       "<style scoped>\n",
       "    .dataframe tbody tr th:only-of-type {\n",
       "        vertical-align: middle;\n",
       "    }\n",
       "\n",
       "    .dataframe tbody tr th {\n",
       "        vertical-align: top;\n",
       "    }\n",
       "\n",
       "    .dataframe thead th {\n",
       "        text-align: right;\n",
       "    }\n",
       "</style>\n",
       "<table border=\"1\" class=\"dataframe\">\n",
       "  <thead>\n",
       "    <tr style=\"text-align: right;\">\n",
       "      <th>Aufzeichnungstyp</th>\n",
       "      <th>0</th>\n",
       "      <th>1</th>\n",
       "    </tr>\n",
       "    <tr>\n",
       "      <th>nmae</th>\n",
       "      <th></th>\n",
       "      <th></th>\n",
       "    </tr>\n",
       "  </thead>\n",
       "  <tbody>\n",
       "    <tr>\n",
       "      <th>night</th>\n",
       "      <td>332</td>\n",
       "      <td>15</td>\n",
       "    </tr>\n",
       "    <tr>\n",
       "      <th>morning</th>\n",
       "      <td>333</td>\n",
       "      <td>14</td>\n",
       "    </tr>\n",
       "    <tr>\n",
       "      <th>afternoon</th>\n",
       "      <td>311</td>\n",
       "      <td>24</td>\n",
       "    </tr>\n",
       "    <tr>\n",
       "      <th>evening</th>\n",
       "      <td>279</td>\n",
       "      <td>19</td>\n",
       "    </tr>\n",
       "  </tbody>\n",
       "</table>\n",
       "</div>"
      ],
      "text/plain": [
       "Aufzeichnungstyp    0   1\n",
       "nmae                     \n",
       "night             332  15\n",
       "morning           333  14\n",
       "afternoon         311  24\n",
       "evening           279  19"
      ]
     },
     "execution_count": 60,
     "metadata": {},
     "output_type": "execute_result"
    }
   ],
   "source": [
    "pd.crosstab(df_2.nmae,df_2.Aufzeichnungstyp)"
   ]
  },
  {
   "cell_type": "code",
   "execution_count": 61,
   "metadata": {},
   "outputs": [
    {
     "data": {
      "text/plain": [
       "<matplotlib.axes._subplots.AxesSubplot at 0x7fbeaffab490>"
      ]
     },
     "execution_count": 61,
     "metadata": {},
     "output_type": "execute_result"
    },
    {
     "data": {
      "image/png": "[encoded data removed]",
      "text/plain": [
       "<Figure size 864x576 with 1 Axes>"
      ]
     },
     "metadata": {
      "needs_background": "light"
     },
     "output_type": "display_data"
    }
   ],
   "source": [
    "pd.crosstab(df_2.nmae,df_2.Aufzeichnungstyp).plot.bar()"
   ]
  },
  {
   "cell_type": "code",
   "execution_count": 62,
   "metadata": {},
   "outputs": [],
   "source": [
    "#comparing the \"Glukosewert-Verlauf mg/dL\" with the \"Aufzeichnungstyp\""
   ]
  },
  {
   "cell_type": "code",
   "execution_count": 63,
   "metadata": {},
   "outputs": [
    {
     "data": {
      "text/html": [
       "<div>\n",
       "<style scoped>\n",
       "    .dataframe tbody tr th:only-of-type {\n",
       "        vertical-align: middle;\n",
       "    }\n",
       "\n",
       "    .dataframe tbody tr th {\n",
       "        vertical-align: top;\n",
       "    }\n",
       "\n",
       "    .dataframe thead th {\n",
       "        text-align: right;\n",
       "    }\n",
       "</style>\n",
       "<table border=\"1\" class=\"dataframe\">\n",
       "  <thead>\n",
       "    <tr style=\"text-align: right;\">\n",
       "      <th>Aufzeichnungstyp</th>\n",
       "      <th>0</th>\n",
       "    </tr>\n",
       "    <tr>\n",
       "      <th>Glukosewert-Verlauf mg/dL</th>\n",
       "      <th></th>\n",
       "    </tr>\n",
       "  </thead>\n",
       "  <tbody>\n",
       "    <tr>\n",
       "      <th>75.0</th>\n",
       "      <td>1</td>\n",
       "    </tr>\n",
       "    <tr>\n",
       "      <th>78.0</th>\n",
       "      <td>1</td>\n",
       "    </tr>\n",
       "    <tr>\n",
       "      <th>80.0</th>\n",
       "      <td>1</td>\n",
       "    </tr>\n",
       "    <tr>\n",
       "      <th>81.0</th>\n",
       "      <td>2</td>\n",
       "    </tr>\n",
       "    <tr>\n",
       "      <th>82.0</th>\n",
       "      <td>1</td>\n",
       "    </tr>\n",
       "    <tr>\n",
       "      <th>...</th>\n",
       "      <td>...</td>\n",
       "    </tr>\n",
       "    <tr>\n",
       "      <th>187.0</th>\n",
       "      <td>2</td>\n",
       "    </tr>\n",
       "    <tr>\n",
       "      <th>188.0</th>\n",
       "      <td>2</td>\n",
       "    </tr>\n",
       "    <tr>\n",
       "      <th>189.0</th>\n",
       "      <td>1</td>\n",
       "    </tr>\n",
       "    <tr>\n",
       "      <th>190.0</th>\n",
       "      <td>2</td>\n",
       "    </tr>\n",
       "    <tr>\n",
       "      <th>200.0</th>\n",
       "      <td>1</td>\n",
       "    </tr>\n",
       "  </tbody>\n",
       "</table>\n",
       "<p>108 rows × 1 columns</p>\n",
       "</div>"
      ],
      "text/plain": [
       "Aufzeichnungstyp           0\n",
       "Glukosewert-Verlauf mg/dL   \n",
       "75.0                       1\n",
       "78.0                       1\n",
       "80.0                       1\n",
       "81.0                       2\n",
       "82.0                       1\n",
       "...                       ..\n",
       "187.0                      2\n",
       "188.0                      2\n",
       "189.0                      1\n",
       "190.0                      2\n",
       "200.0                      1\n",
       "\n",
       "[108 rows x 1 columns]"
      ]
     },
     "execution_count": 63,
     "metadata": {},
     "output_type": "execute_result"
    }
   ],
   "source": [
    "pd.crosstab(df_2[\"Glukosewert-Verlauf mg/dL\"],df_2[\"Aufzeichnungstyp\"])"
   ]
  },
  {
   "cell_type": "code",
   "execution_count": 64,
   "metadata": {},
   "outputs": [
    {
     "data": {
      "text/plain": [
       "<matplotlib.axes._subplots.AxesSubplot at 0x7fbeb00465b0>"
      ]
     },
     "execution_count": 64,
     "metadata": {},
     "output_type": "execute_result"
    },
    {
     "data": {
      "image/png": "[encoded data removed]",
      "text/plain": [
       "<Figure size 864x576 with 1 Axes>"
      ]
     },
     "metadata": {
      "needs_background": "light"
     },
     "output_type": "display_data"
    }
   ],
   "source": [
    "pd.crosstab(df_2[\"Glukosewert-Verlauf mg/dL\"],df_2[\"Aufzeichnungstyp\"]).plot()"
   ]
  },
  {
   "cell_type": "code",
   "execution_count": 65,
   "metadata": {},
   "outputs": [
    {
     "data": {
      "text/plain": [
       "<seaborn.axisgrid.FacetGrid at 0x7fbeb0209280>"
      ]
     },
     "execution_count": 65,
     "metadata": {},
     "output_type": "execute_result"
    },
    {
     "data": {
      "image/png": "[encoded data removed]",
      "text/plain": [
       "<Figure size 360x360 with 1 Axes>"
      ]
     },
     "metadata": {
      "needs_background": "light"
     },
     "output_type": "display_data"
    }
   ],
   "source": [
    "sns.relplot(x= 'nmae', y = 'Glukosewert-Verlauf mg/dL', data=df_2, kind='scatter',sizes=(20, 100))"
   ]
  },
  {
   "cell_type": "markdown",
   "metadata": {},
   "source": [
    "The morning and night meal such \n",
    "2 Pott Kaffe +Zucker\n",
    "Gemsesuppe instant\n",
    "Gemsesuppe instant + Grner Tee ohne alles\n",
    "80 g asiatisches Geflgelfleisch, 1 scheibe Br...\n",
    "2 Scheiben Brot (100g) , Ltta 20g?, Salami 50, some among them are the cause of the increase in the blood glucose sugar level."
   ]
  },
  {
   "cell_type": "code",
   "execution_count": null,
   "metadata": {},
   "outputs": [],
   "source": []
  }
 ],
 "metadata": {
  "kernelspec": {
   "display_name": "Python 3",
   "language": "python",
   "name": "python3"
  },
  "language_info": {
   "codemirror_mode": {
    "name": "ipython",
    "version": 3
   },
   "file_extension": ".py",
   "mimetype": "text/x-python",
   "name": "python",
   "nbconvert_exporter": "python",
   "pygments_lexer": "ipython3",
   "version": "3.8.3"
  }
 },
 "nbformat": 4,
 "nbformat_minor": 4
}
