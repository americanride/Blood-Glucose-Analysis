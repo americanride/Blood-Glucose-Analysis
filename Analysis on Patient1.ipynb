{
 "cells": [
  {
   "cell_type": "markdown",
   "metadata": {},
   "source": [
    "# Una Health Task "
   ]
  },
  {
   "cell_type": "code",
   "execution_count": 1,
   "metadata": {},
   "outputs": [],
   "source": [
    "import pandas as pd \n",
    "import numpy as np\n",
    "import matplotlib.pyplot as plt\n",
    "import seaborn as sns\n",
    "import matplotlib\n",
    "import warnings\n",
    "warnings.filterwarnings('ignore')\n",
    "from datetime import datetime"
   ]
  },
  {
   "cell_type": "code",
   "execution_count": 2,
   "metadata": {},
   "outputs": [
    {
     "data": {
      "text/html": [
       "<div>\n",
       "<style scoped>\n",
       "    .dataframe tbody tr th:only-of-type {\n",
       "        vertical-align: middle;\n",
       "    }\n",
       "\n",
       "    .dataframe tbody tr th {\n",
       "        vertical-align: top;\n",
       "    }\n",
       "\n",
       "    .dataframe thead th {\n",
       "        text-align: right;\n",
       "    }\n",
       "</style>\n",
       "<table border=\"1\" class=\"dataframe\">\n",
       "  <thead>\n",
       "    <tr style=\"text-align: right;\">\n",
       "      <th></th>\n",
       "      <th>id</th>\n",
       "      <th>user_id</th>\n",
       "      <th>record_type</th>\n",
       "      <th>description</th>\n",
       "      <th>timestamp_start</th>\n",
       "      <th>timestamp_end</th>\n",
       "      <th>payload</th>\n",
       "      <th>created</th>\n",
       "      <th>last_modified</th>\n",
       "    </tr>\n",
       "  </thead>\n",
       "  <tbody>\n",
       "    <tr>\n",
       "      <th>0</th>\n",
       "      <td>aaaaaaaa-aaaa-aaaa-aaaa-aaaaaaaaaa00</td>\n",
       "      <td>aaaaaaaa-aaaa-aaaa-aaaa-aaaaaaaaaaaa</td>\n",
       "      <td>MEAL_BREAKFAST</td>\n",
       "      <td>40 g Haferflocken, 230 g Joghurt 0,3 %, 90 g B...</td>\n",
       "      <td>2021-02-15T08:30:00+01:00</td>\n",
       "      <td>NaN</td>\n",
       "      <td>NaN</td>\n",
       "      <td>NaN</td>\n",
       "      <td>NaN</td>\n",
       "    </tr>\n",
       "    <tr>\n",
       "      <th>1</th>\n",
       "      <td>aaaaaaaa-aaaa-aaaa-aaaa-aaaaaaaaaa01</td>\n",
       "      <td>aaaaaaaa-aaaa-aaaa-aaaa-aaaaaaaaaaaa</td>\n",
       "      <td>MEAL_LUNCH</td>\n",
       "      <td>98 g M�hren-Walnuss-VK-Brot, 87 g Gurke, 55 g ...</td>\n",
       "      <td>2021-02-15T12:45:00+01:00</td>\n",
       "      <td>NaN</td>\n",
       "      <td>NaN</td>\n",
       "      <td>NaN</td>\n",
       "      <td>NaN</td>\n",
       "    </tr>\n",
       "    <tr>\n",
       "      <th>2</th>\n",
       "      <td>aaaaaaaa-aaaa-aaaa-aaaa-aaaaaaaaaa02</td>\n",
       "      <td>aaaaaaaa-aaaa-aaaa-aaaa-aaaaaaaaaaaa</td>\n",
       "      <td>MEAL_SNACK</td>\n",
       "      <td>Mandarine, Teel�ffel Erdnussmu�</td>\n",
       "      <td>2021-02-15T16:15:00+01:00</td>\n",
       "      <td>NaN</td>\n",
       "      <td>NaN</td>\n",
       "      <td>NaN</td>\n",
       "      <td>NaN</td>\n",
       "    </tr>\n",
       "    <tr>\n",
       "      <th>3</th>\n",
       "      <td>aaaaaaaa-aaaa-aaaa-aaaa-aaaaaaaaaa03</td>\n",
       "      <td>aaaaaaaa-aaaa-aaaa-aaaa-aaaaaaaaaaaa</td>\n",
       "      <td>ACTVITY_EASY</td>\n",
       "      <td>spazieren</td>\n",
       "      <td>2021-02-15T17:00:00+01:00</td>\n",
       "      <td>2021-02-15T17:30:00+01:00</td>\n",
       "      <td>NaN</td>\n",
       "      <td>NaN</td>\n",
       "      <td>NaN</td>\n",
       "    </tr>\n",
       "    <tr>\n",
       "      <th>4</th>\n",
       "      <td>aaaaaaaa-aaaa-aaaa-aaaa-aaaaaaaaaa04</td>\n",
       "      <td>aaaaaaaa-aaaa-aaaa-aaaa-aaaaaaaaaaaa</td>\n",
       "      <td>MEAL_DINNER</td>\n",
       "      <td>50 g BasmatiVollkorn Reis, 20g Currypaste, 15 ...</td>\n",
       "      <td>2021-02-15T19:30:00+01:00</td>\n",
       "      <td>NaN</td>\n",
       "      <td>NaN</td>\n",
       "      <td>NaN</td>\n",
       "      <td>NaN</td>\n",
       "    </tr>\n",
       "    <tr>\n",
       "      <th>5</th>\n",
       "      <td>aaaaaaaa-aaaa-aaaa-aaaa-aaaaaaaaaa05</td>\n",
       "      <td>aaaaaaaa-aaaa-aaaa-aaaa-aaaaaaaaaaaa</td>\n",
       "      <td>MEAL_BREAKFAST</td>\n",
       "      <td>230 g Joghurt, 40g Haferflocken, 65 g Apfel</td>\n",
       "      <td>2021-02-17T08:15:00+01:00</td>\n",
       "      <td>NaN</td>\n",
       "      <td>NaN</td>\n",
       "      <td>NaN</td>\n",
       "      <td>NaN</td>\n",
       "    </tr>\n",
       "    <tr>\n",
       "      <th>6</th>\n",
       "      <td>aaaaaaaa-aaaa-aaaa-aaaa-aaaaaaaaaa06</td>\n",
       "      <td>aaaaaaaa-aaaa-aaaa-aaaa-aaaaaaaaaaaa</td>\n",
       "      <td>DRINK</td>\n",
       "      <td>Espresso &amp; Haferdrink (75 ml)</td>\n",
       "      <td>2021-02-17T08:30:00+01:00</td>\n",
       "      <td>NaN</td>\n",
       "      <td>NaN</td>\n",
       "      <td>NaN</td>\n",
       "      <td>NaN</td>\n",
       "    </tr>\n",
       "    <tr>\n",
       "      <th>7</th>\n",
       "      <td>aaaaaaaa-aaaa-aaaa-aaaa-aaaaaaaaaa07</td>\n",
       "      <td>aaaaaaaa-aaaa-aaaa-aaaa-aaaaaaaaaaaa</td>\n",
       "      <td>MEAL_LUNCH</td>\n",
       "      <td>220 g Kohlrabi, 2 Scheiben M�hren-Walnussbrot,...</td>\n",
       "      <td>2021-02-17T12:15:00+01:00</td>\n",
       "      <td>NaN</td>\n",
       "      <td>NaN</td>\n",
       "      <td>NaN</td>\n",
       "      <td>NaN</td>\n",
       "    </tr>\n",
       "    <tr>\n",
       "      <th>8</th>\n",
       "      <td>aaaaaaaa-aaaa-aaaa-aaaa-aaaaaaaaaa08</td>\n",
       "      <td>aaaaaaaa-aaaa-aaaa-aaaa-aaaaaaaaaaaa</td>\n",
       "      <td>ACTVITY_MODERATE</td>\n",
       "      <td>Ganzk�rper workout</td>\n",
       "      <td>2021-02-17T16:00:00+01:00</td>\n",
       "      <td>2021-02-17T16:20:00+01:00</td>\n",
       "      <td>NaN</td>\n",
       "      <td>NaN</td>\n",
       "      <td>NaN</td>\n",
       "    </tr>\n",
       "    <tr>\n",
       "      <th>9</th>\n",
       "      <td>aaaaaaaa-aaaa-aaaa-aaaa-aaaaaaaaaa09</td>\n",
       "      <td>aaaaaaaa-aaaa-aaaa-aaaa-aaaaaaaaaaaa</td>\n",
       "      <td>MEAL_DINNER</td>\n",
       "      <td>Vollkornwrap mit 75 g Halloumi, 40 g Gew�rzgur...</td>\n",
       "      <td>2021-02-17T19:30:00+01:00</td>\n",
       "      <td>NaN</td>\n",
       "      <td>NaN</td>\n",
       "      <td>NaN</td>\n",
       "      <td>NaN</td>\n",
       "    </tr>\n",
       "    <tr>\n",
       "      <th>10</th>\n",
       "      <td>aaaaaaaa-aaaa-aaaa-aaaa-aaaaaaaaaa10</td>\n",
       "      <td>aaaaaaaa-aaaa-aaaa-aaaa-aaaaaaaaaaaa</td>\n",
       "      <td>MEAL_BREAKFAST</td>\n",
       "      <td>100g Magerquark, 30 g Haferflocken</td>\n",
       "      <td>2021-02-19T08:30:00+01:00</td>\n",
       "      <td>NaN</td>\n",
       "      <td>NaN</td>\n",
       "      <td>NaN</td>\n",
       "      <td>NaN</td>\n",
       "    </tr>\n",
       "    <tr>\n",
       "      <th>11</th>\n",
       "      <td>aaaaaaaa-aaaa-aaaa-aaaa-aaaaaaaaaa11</td>\n",
       "      <td>aaaaaaaa-aaaa-aaaa-aaaa-aaaaaaaaaaaa</td>\n",
       "      <td>MEAL_LUNCH</td>\n",
       "      <td>3 Springrolls von gestern, ohne Garnelen</td>\n",
       "      <td>2021-02-19T12:00:00+01:00</td>\n",
       "      <td>NaN</td>\n",
       "      <td>NaN</td>\n",
       "      <td>NaN</td>\n",
       "      <td>NaN</td>\n",
       "    </tr>\n",
       "    <tr>\n",
       "      <th>12</th>\n",
       "      <td>aaaaaaaa-aaaa-aaaa-aaaa-aaaaaaaaaa12</td>\n",
       "      <td>aaaaaaaa-aaaa-aaaa-aaaa-aaaaaaaaaaaa</td>\n",
       "      <td>MEAL_SNACK</td>\n",
       "      <td>50g glutenfr. Nudeln, 1 EL Oliven�l, 1 Tomate,...</td>\n",
       "      <td>2021-02-19T15:45:00+01:00</td>\n",
       "      <td>NaN</td>\n",
       "      <td>NaN</td>\n",
       "      <td>NaN</td>\n",
       "      <td>NaN</td>\n",
       "    </tr>\n",
       "    <tr>\n",
       "      <th>13</th>\n",
       "      <td>aaaaaaaa-aaaa-aaaa-aaaa-aaaaaaaaaa13</td>\n",
       "      <td>aaaaaaaa-aaaa-aaaa-aaaa-aaaaaaaaaaaa</td>\n",
       "      <td>MEAL_DINNER</td>\n",
       "      <td>100g VK-Brot weizen goggen-vkbrot, Schokopuddi...</td>\n",
       "      <td>2021-02-19T19:00:00+01:00</td>\n",
       "      <td>NaN</td>\n",
       "      <td>NaN</td>\n",
       "      <td>NaN</td>\n",
       "      <td>NaN</td>\n",
       "    </tr>\n",
       "  </tbody>\n",
       "</table>\n",
       "</div>"
      ],
      "text/plain": [
       "                                      id  \\\n",
       "0   aaaaaaaa-aaaa-aaaa-aaaa-aaaaaaaaaa00   \n",
       "1   aaaaaaaa-aaaa-aaaa-aaaa-aaaaaaaaaa01   \n",
       "2   aaaaaaaa-aaaa-aaaa-aaaa-aaaaaaaaaa02   \n",
       "3   aaaaaaaa-aaaa-aaaa-aaaa-aaaaaaaaaa03   \n",
       "4   aaaaaaaa-aaaa-aaaa-aaaa-aaaaaaaaaa04   \n",
       "5   aaaaaaaa-aaaa-aaaa-aaaa-aaaaaaaaaa05   \n",
       "6   aaaaaaaa-aaaa-aaaa-aaaa-aaaaaaaaaa06   \n",
       "7   aaaaaaaa-aaaa-aaaa-aaaa-aaaaaaaaaa07   \n",
       "8   aaaaaaaa-aaaa-aaaa-aaaa-aaaaaaaaaa08   \n",
       "9   aaaaaaaa-aaaa-aaaa-aaaa-aaaaaaaaaa09   \n",
       "10  aaaaaaaa-aaaa-aaaa-aaaa-aaaaaaaaaa10   \n",
       "11  aaaaaaaa-aaaa-aaaa-aaaa-aaaaaaaaaa11   \n",
       "12  aaaaaaaa-aaaa-aaaa-aaaa-aaaaaaaaaa12   \n",
       "13  aaaaaaaa-aaaa-aaaa-aaaa-aaaaaaaaaa13   \n",
       "\n",
       "                                 user_id       record_type  \\\n",
       "0   aaaaaaaa-aaaa-aaaa-aaaa-aaaaaaaaaaaa    MEAL_BREAKFAST   \n",
       "1   aaaaaaaa-aaaa-aaaa-aaaa-aaaaaaaaaaaa        MEAL_LUNCH   \n",
       "2   aaaaaaaa-aaaa-aaaa-aaaa-aaaaaaaaaaaa        MEAL_SNACK   \n",
       "3   aaaaaaaa-aaaa-aaaa-aaaa-aaaaaaaaaaaa      ACTVITY_EASY   \n",
       "4   aaaaaaaa-aaaa-aaaa-aaaa-aaaaaaaaaaaa       MEAL_DINNER   \n",
       "5   aaaaaaaa-aaaa-aaaa-aaaa-aaaaaaaaaaaa    MEAL_BREAKFAST   \n",
       "6   aaaaaaaa-aaaa-aaaa-aaaa-aaaaaaaaaaaa             DRINK   \n",
       "7   aaaaaaaa-aaaa-aaaa-aaaa-aaaaaaaaaaaa        MEAL_LUNCH   \n",
       "8   aaaaaaaa-aaaa-aaaa-aaaa-aaaaaaaaaaaa  ACTVITY_MODERATE   \n",
       "9   aaaaaaaa-aaaa-aaaa-aaaa-aaaaaaaaaaaa       MEAL_DINNER   \n",
       "10  aaaaaaaa-aaaa-aaaa-aaaa-aaaaaaaaaaaa    MEAL_BREAKFAST   \n",
       "11  aaaaaaaa-aaaa-aaaa-aaaa-aaaaaaaaaaaa        MEAL_LUNCH   \n",
       "12  aaaaaaaa-aaaa-aaaa-aaaa-aaaaaaaaaaaa        MEAL_SNACK   \n",
       "13  aaaaaaaa-aaaa-aaaa-aaaa-aaaaaaaaaaaa       MEAL_DINNER   \n",
       "\n",
       "                                          description  \\\n",
       "0   40 g Haferflocken, 230 g Joghurt 0,3 %, 90 g B...   \n",
       "1   98 g M�hren-Walnuss-VK-Brot, 87 g Gurke, 55 g ...   \n",
       "2                     Mandarine, Teel�ffel Erdnussmu�   \n",
       "3                                           spazieren   \n",
       "4   50 g BasmatiVollkorn Reis, 20g Currypaste, 15 ...   \n",
       "5         230 g Joghurt, 40g Haferflocken, 65 g Apfel   \n",
       "6                       Espresso & Haferdrink (75 ml)   \n",
       "7   220 g Kohlrabi, 2 Scheiben M�hren-Walnussbrot,...   \n",
       "8                                  Ganzk�rper workout   \n",
       "9   Vollkornwrap mit 75 g Halloumi, 40 g Gew�rzgur...   \n",
       "10                 100g Magerquark, 30 g Haferflocken   \n",
       "11           3 Springrolls von gestern, ohne Garnelen   \n",
       "12  50g glutenfr. Nudeln, 1 EL Oliven�l, 1 Tomate,...   \n",
       "13  100g VK-Brot weizen goggen-vkbrot, Schokopuddi...   \n",
       "\n",
       "              timestamp_start              timestamp_end  payload  created  \\\n",
       "0   2021-02-15T08:30:00+01:00                        NaN      NaN      NaN   \n",
       "1   2021-02-15T12:45:00+01:00                        NaN      NaN      NaN   \n",
       "2   2021-02-15T16:15:00+01:00                        NaN      NaN      NaN   \n",
       "3   2021-02-15T17:00:00+01:00  2021-02-15T17:30:00+01:00      NaN      NaN   \n",
       "4   2021-02-15T19:30:00+01:00                        NaN      NaN      NaN   \n",
       "5   2021-02-17T08:15:00+01:00                        NaN      NaN      NaN   \n",
       "6   2021-02-17T08:30:00+01:00                        NaN      NaN      NaN   \n",
       "7   2021-02-17T12:15:00+01:00                        NaN      NaN      NaN   \n",
       "8   2021-02-17T16:00:00+01:00  2021-02-17T16:20:00+01:00      NaN      NaN   \n",
       "9   2021-02-17T19:30:00+01:00                        NaN      NaN      NaN   \n",
       "10  2021-02-19T08:30:00+01:00                        NaN      NaN      NaN   \n",
       "11  2021-02-19T12:00:00+01:00                        NaN      NaN      NaN   \n",
       "12  2021-02-19T15:45:00+01:00                        NaN      NaN      NaN   \n",
       "13  2021-02-19T19:00:00+01:00                        NaN      NaN      NaN   \n",
       "\n",
       "    last_modified  \n",
       "0             NaN  \n",
       "1             NaN  \n",
       "2             NaN  \n",
       "3             NaN  \n",
       "4             NaN  \n",
       "5             NaN  \n",
       "6             NaN  \n",
       "7             NaN  \n",
       "8             NaN  \n",
       "9             NaN  \n",
       "10            NaN  \n",
       "11            NaN  \n",
       "12            NaN  \n",
       "13            NaN  "
      ]
     },
     "execution_count": 2,
     "metadata": {},
     "output_type": "execute_result"
    }
   ],
   "source": [
    "#reading the activities\n",
    "df = pd.read_csv('/Users/ganiyuopeyemi/desktop/Una Health/a/activities_all.csv')\n",
    "df.head(14)"
   ]
  },
  {
   "cell_type": "code",
   "execution_count": 3,
   "metadata": {},
   "outputs": [
    {
     "data": {
      "text/plain": [
       "Index(['id', 'user_id', 'record_type', 'description', 'timestamp_start',\n",
       "       'timestamp_end', 'payload', 'created', 'last_modified'],\n",
       "      dtype='object')"
      ]
     },
     "execution_count": 3,
     "metadata": {},
     "output_type": "execute_result"
    }
   ],
   "source": [
    "df.columns"
   ]
  },
  {
   "cell_type": "code",
   "execution_count": 4,
   "metadata": {},
   "outputs": [
    {
     "name": "stdout",
     "output_type": "stream",
     "text": [
      "<class 'pandas.core.frame.DataFrame'>\n",
      "RangeIndex: 14 entries, 0 to 13\n",
      "Data columns (total 9 columns):\n",
      " #   Column           Non-Null Count  Dtype  \n",
      "---  ------           --------------  -----  \n",
      " 0   id               14 non-null     object \n",
      " 1   user_id          14 non-null     object \n",
      " 2   record_type      14 non-null     object \n",
      " 3   description      14 non-null     object \n",
      " 4   timestamp_start  14 non-null     object \n",
      " 5   timestamp_end    2 non-null      object \n",
      " 6   payload          0 non-null      float64\n",
      " 7   created          0 non-null      float64\n",
      " 8   last_modified    0 non-null      float64\n",
      "dtypes: float64(3), object(6)\n",
      "memory usage: 1.1+ KB\n"
     ]
    }
   ],
   "source": [
    "df.info()"
   ]
  },
  {
   "cell_type": "code",
   "execution_count": 5,
   "metadata": {},
   "outputs": [
    {
     "data": {
      "text/plain": [
       "(14, 9)"
      ]
     },
     "execution_count": 5,
     "metadata": {},
     "output_type": "execute_result"
    }
   ],
   "source": [
    "df.shape"
   ]
  },
  {
   "cell_type": "code",
   "execution_count": 6,
   "metadata": {},
   "outputs": [
    {
     "data": {
      "text/plain": [
       "id                  0\n",
       "user_id             0\n",
       "record_type         0\n",
       "description         0\n",
       "timestamp_start     0\n",
       "timestamp_end      12\n",
       "payload            14\n",
       "created            14\n",
       "last_modified      14\n",
       "dtype: int64"
      ]
     },
     "execution_count": 6,
     "metadata": {},
     "output_type": "execute_result"
    }
   ],
   "source": [
    "df.isna().sum()"
   ]
  },
  {
   "cell_type": "code",
   "execution_count": 7,
   "metadata": {},
   "outputs": [
    {
     "data": {
      "text/plain": [
       "id                  object\n",
       "user_id             object\n",
       "record_type         object\n",
       "description         object\n",
       "timestamp_start     object\n",
       "timestamp_end       object\n",
       "payload            float64\n",
       "created            float64\n",
       "last_modified      float64\n",
       "dtype: object"
      ]
     },
     "execution_count": 7,
     "metadata": {},
     "output_type": "execute_result"
    }
   ],
   "source": [
    "df.dtypes"
   ]
  },
  {
   "cell_type": "code",
   "execution_count": 8,
   "metadata": {},
   "outputs": [],
   "source": [
    "#Analysis on the first patient"
   ]
  },
  {
   "cell_type": "code",
   "execution_count": 9,
   "metadata": {},
   "outputs": [
    {
     "data": {
      "text/html": [
       "<div>\n",
       "<style scoped>\n",
       "    .dataframe tbody tr th:only-of-type {\n",
       "        vertical-align: middle;\n",
       "    }\n",
       "\n",
       "    .dataframe tbody tr th {\n",
       "        vertical-align: top;\n",
       "    }\n",
       "\n",
       "    .dataframe thead th {\n",
       "        text-align: right;\n",
       "    }\n",
       "</style>\n",
       "<table border=\"1\" class=\"dataframe\">\n",
       "  <thead>\n",
       "    <tr style=\"text-align: right;\">\n",
       "      <th></th>\n",
       "      <th></th>\n",
       "      <th></th>\n",
       "      <th></th>\n",
       "      <th></th>\n",
       "      <th></th>\n",
       "      <th></th>\n",
       "      <th></th>\n",
       "      <th></th>\n",
       "      <th></th>\n",
       "      <th></th>\n",
       "      <th></th>\n",
       "      <th></th>\n",
       "      <th></th>\n",
       "      <th>Glukose-Werte</th>\n",
       "      <th>Erstellt am</th>\n",
       "      <th>25-02-2021 17:28 UTC</th>\n",
       "      <th>Erstellt von</th>\n",
       "      <th>aaa</th>\n",
       "    </tr>\n",
       "  </thead>\n",
       "  <tbody>\n",
       "    <tr>\n",
       "      <th>Gerät</th>\n",
       "      <th>Seriennummer</th>\n",
       "      <th>Gerätezeitstempel</th>\n",
       "      <th>Aufzeichnungstyp</th>\n",
       "      <th>Glukosewert-Verlauf mg/dL</th>\n",
       "      <th>Glukose-Scan mg/dL</th>\n",
       "      <th>Nicht numerisches schnellwirkendes Insulin</th>\n",
       "      <th>Schnellwirkendes Insulin (Einheiten)</th>\n",
       "      <th>Nicht numerische Nahrungsdaten</th>\n",
       "      <th>Kohlenhydrate (Gramm)</th>\n",
       "      <th>Kohlenhydrate (Portionen)</th>\n",
       "      <th>Nicht numerisches Depotinsulin</th>\n",
       "      <th>Depotinsulin (Einheiten)</th>\n",
       "      <th>Notizen</th>\n",
       "      <td>Glukose-Teststreifen mg/dL</td>\n",
       "      <td>Keton mmol/L</td>\n",
       "      <td>Mahlzeiteninsulin (Einheiten)</td>\n",
       "      <td>Korrekturinsulin (Einheiten)</td>\n",
       "      <td>Insulin-Änderung durch Anwender (Einheiten)</td>\n",
       "    </tr>\n",
       "    <tr>\n",
       "      <th rowspan=\"4\" valign=\"top\">FreeStyle LibreLink</th>\n",
       "      <th rowspan=\"4\" valign=\"top\">1D48A10E-DDFB-4888-8158-026F08814832</th>\n",
       "      <th>18-02-2021 10:57</th>\n",
       "      <th>0</th>\n",
       "      <th>77</th>\n",
       "      <th>NaN</th>\n",
       "      <th>NaN</th>\n",
       "      <th>NaN</th>\n",
       "      <th>NaN</th>\n",
       "      <th>NaN</th>\n",
       "      <th>NaN</th>\n",
       "      <th>NaN</th>\n",
       "      <th>NaN</th>\n",
       "      <th>NaN</th>\n",
       "      <td>NaN</td>\n",
       "      <td>NaN</td>\n",
       "      <td>NaN</td>\n",
       "      <td>NaN</td>\n",
       "      <td>NaN</td>\n",
       "    </tr>\n",
       "    <tr>\n",
       "      <th>18-02-2021 11:12</th>\n",
       "      <th>0</th>\n",
       "      <th>78</th>\n",
       "      <th>NaN</th>\n",
       "      <th>NaN</th>\n",
       "      <th>NaN</th>\n",
       "      <th>NaN</th>\n",
       "      <th>NaN</th>\n",
       "      <th>NaN</th>\n",
       "      <th>NaN</th>\n",
       "      <th>NaN</th>\n",
       "      <th>NaN</th>\n",
       "      <td>NaN</td>\n",
       "      <td>NaN</td>\n",
       "      <td>NaN</td>\n",
       "      <td>NaN</td>\n",
       "      <td>NaN</td>\n",
       "    </tr>\n",
       "    <tr>\n",
       "      <th>18-02-2021 11:27</th>\n",
       "      <th>0</th>\n",
       "      <th>78</th>\n",
       "      <th>NaN</th>\n",
       "      <th>NaN</th>\n",
       "      <th>NaN</th>\n",
       "      <th>NaN</th>\n",
       "      <th>NaN</th>\n",
       "      <th>NaN</th>\n",
       "      <th>NaN</th>\n",
       "      <th>NaN</th>\n",
       "      <th>NaN</th>\n",
       "      <td>NaN</td>\n",
       "      <td>NaN</td>\n",
       "      <td>NaN</td>\n",
       "      <td>NaN</td>\n",
       "      <td>NaN</td>\n",
       "    </tr>\n",
       "    <tr>\n",
       "      <th>18-02-2021 11:42</th>\n",
       "      <th>0</th>\n",
       "      <th>76</th>\n",
       "      <th>NaN</th>\n",
       "      <th>NaN</th>\n",
       "      <th>NaN</th>\n",
       "      <th>NaN</th>\n",
       "      <th>NaN</th>\n",
       "      <th>NaN</th>\n",
       "      <th>NaN</th>\n",
       "      <th>NaN</th>\n",
       "      <th>NaN</th>\n",
       "      <td>NaN</td>\n",
       "      <td>NaN</td>\n",
       "      <td>NaN</td>\n",
       "      <td>NaN</td>\n",
       "      <td>NaN</td>\n",
       "    </tr>\n",
       "  </tbody>\n",
       "</table>\n",
       "</div>"
      ],
      "text/plain": [
       "                                                                                                                                                                                                                                                                                                                                                                                      Glukose-Werte  \\\n",
       "Gerät               Seriennummer                         Gerätezeitstempel Aufzeichnungstyp Glukosewert-Verlauf mg/dL Glukose-Scan mg/dL Nicht numerisches schnellwirkendes Insulin Schnellwirkendes Insulin (Einheiten) Nicht numerische Nahrungsdaten Kohlenhydrate (Gramm) Kohlenhydrate (Portionen) Nicht numerisches Depotinsulin Depotinsulin (Einheiten) Notizen  Glukose-Teststreifen mg/dL   \n",
       "FreeStyle LibreLink 1D48A10E-DDFB-4888-8158-026F08814832 18-02-2021 10:57  0                77                        NaN                NaN                                        NaN                                  NaN                            NaN                   NaN                       NaN                            NaN                      NaN                             NaN   \n",
       "                                                         18-02-2021 11:12  0                78                        NaN                NaN                                        NaN                                  NaN                            NaN                   NaN                       NaN                            NaN                      NaN                             NaN   \n",
       "                                                         18-02-2021 11:27  0                78                        NaN                NaN                                        NaN                                  NaN                            NaN                   NaN                       NaN                            NaN                      NaN                             NaN   \n",
       "                                                         18-02-2021 11:42  0                76                        NaN                NaN                                        NaN                                  NaN                            NaN                   NaN                       NaN                            NaN                      NaN                             NaN   \n",
       "\n",
       "                                                                                                                                                                                                                                                                                                                                                                          Erstellt am  \\\n",
       "Gerät               Seriennummer                         Gerätezeitstempel Aufzeichnungstyp Glukosewert-Verlauf mg/dL Glukose-Scan mg/dL Nicht numerisches schnellwirkendes Insulin Schnellwirkendes Insulin (Einheiten) Nicht numerische Nahrungsdaten Kohlenhydrate (Gramm) Kohlenhydrate (Portionen) Nicht numerisches Depotinsulin Depotinsulin (Einheiten) Notizen  Keton mmol/L   \n",
       "FreeStyle LibreLink 1D48A10E-DDFB-4888-8158-026F08814832 18-02-2021 10:57  0                77                        NaN                NaN                                        NaN                                  NaN                            NaN                   NaN                       NaN                            NaN                      NaN               NaN   \n",
       "                                                         18-02-2021 11:12  0                78                        NaN                NaN                                        NaN                                  NaN                            NaN                   NaN                       NaN                            NaN                      NaN               NaN   \n",
       "                                                         18-02-2021 11:27  0                78                        NaN                NaN                                        NaN                                  NaN                            NaN                   NaN                       NaN                            NaN                      NaN               NaN   \n",
       "                                                         18-02-2021 11:42  0                76                        NaN                NaN                                        NaN                                  NaN                            NaN                   NaN                       NaN                            NaN                      NaN               NaN   \n",
       "\n",
       "                                                                                                                                                                                                                                                                                                                                                                                  25-02-2021 17:28 UTC  \\\n",
       "Gerät               Seriennummer                         Gerätezeitstempel Aufzeichnungstyp Glukosewert-Verlauf mg/dL Glukose-Scan mg/dL Nicht numerisches schnellwirkendes Insulin Schnellwirkendes Insulin (Einheiten) Nicht numerische Nahrungsdaten Kohlenhydrate (Gramm) Kohlenhydrate (Portionen) Nicht numerisches Depotinsulin Depotinsulin (Einheiten) Notizen  Mahlzeiteninsulin (Einheiten)   \n",
       "FreeStyle LibreLink 1D48A10E-DDFB-4888-8158-026F08814832 18-02-2021 10:57  0                77                        NaN                NaN                                        NaN                                  NaN                            NaN                   NaN                       NaN                            NaN                      NaN                                NaN   \n",
       "                                                         18-02-2021 11:12  0                78                        NaN                NaN                                        NaN                                  NaN                            NaN                   NaN                       NaN                            NaN                      NaN                                NaN   \n",
       "                                                         18-02-2021 11:27  0                78                        NaN                NaN                                        NaN                                  NaN                            NaN                   NaN                       NaN                            NaN                      NaN                                NaN   \n",
       "                                                         18-02-2021 11:42  0                76                        NaN                NaN                                        NaN                                  NaN                            NaN                   NaN                       NaN                            NaN                      NaN                                NaN   \n",
       "\n",
       "                                                                                                                                                                                                                                                                                                                                                                                         Erstellt von  \\\n",
       "Gerät               Seriennummer                         Gerätezeitstempel Aufzeichnungstyp Glukosewert-Verlauf mg/dL Glukose-Scan mg/dL Nicht numerisches schnellwirkendes Insulin Schnellwirkendes Insulin (Einheiten) Nicht numerische Nahrungsdaten Kohlenhydrate (Gramm) Kohlenhydrate (Portionen) Nicht numerisches Depotinsulin Depotinsulin (Einheiten) Notizen  Korrekturinsulin (Einheiten)   \n",
       "FreeStyle LibreLink 1D48A10E-DDFB-4888-8158-026F08814832 18-02-2021 10:57  0                77                        NaN                NaN                                        NaN                                  NaN                            NaN                   NaN                       NaN                            NaN                      NaN                               NaN   \n",
       "                                                         18-02-2021 11:12  0                78                        NaN                NaN                                        NaN                                  NaN                            NaN                   NaN                       NaN                            NaN                      NaN                               NaN   \n",
       "                                                         18-02-2021 11:27  0                78                        NaN                NaN                                        NaN                                  NaN                            NaN                   NaN                       NaN                            NaN                      NaN                               NaN   \n",
       "                                                         18-02-2021 11:42  0                76                        NaN                NaN                                        NaN                                  NaN                            NaN                   NaN                       NaN                            NaN                      NaN                               NaN   \n",
       "\n",
       "                                                                                                                                                                                                                                                                                                                                                                                                                 aaa  \n",
       "Gerät               Seriennummer                         Gerätezeitstempel Aufzeichnungstyp Glukosewert-Verlauf mg/dL Glukose-Scan mg/dL Nicht numerisches schnellwirkendes Insulin Schnellwirkendes Insulin (Einheiten) Nicht numerische Nahrungsdaten Kohlenhydrate (Gramm) Kohlenhydrate (Portionen) Nicht numerisches Depotinsulin Depotinsulin (Einheiten) Notizen  Insulin-Änderung durch Anwender (Einheiten)  \n",
       "FreeStyle LibreLink 1D48A10E-DDFB-4888-8158-026F08814832 18-02-2021 10:57  0                77                        NaN                NaN                                        NaN                                  NaN                            NaN                   NaN                       NaN                            NaN                      NaN                                              NaN  \n",
       "                                                         18-02-2021 11:12  0                78                        NaN                NaN                                        NaN                                  NaN                            NaN                   NaN                       NaN                            NaN                      NaN                                              NaN  \n",
       "                                                         18-02-2021 11:27  0                78                        NaN                NaN                                        NaN                                  NaN                            NaN                   NaN                       NaN                            NaN                      NaN                                              NaN  \n",
       "                                                         18-02-2021 11:42  0                76                        NaN                NaN                                        NaN                                  NaN                            NaN                   NaN                       NaN                            NaN                      NaN                                              NaN  "
      ]
     },
     "execution_count": 9,
     "metadata": {},
     "output_type": "execute_result"
    }
   ],
   "source": [
    "#read levels_all\n",
    "df_1 = pd.read_csv('/Users/ganiyuopeyemi/desktop/Una Health/a/levels_all.csv')\n",
    "df_1.head()"
   ]
  },
  {
   "cell_type": "code",
   "execution_count": 10,
   "metadata": {},
   "outputs": [],
   "source": [
    "#change multiindex to single index pandas"
   ]
  },
  {
   "cell_type": "code",
   "execution_count": 11,
   "metadata": {},
   "outputs": [],
   "source": [
    "df_2 = df_1.reset_index()"
   ]
  },
  {
   "cell_type": "code",
   "execution_count": 12,
   "metadata": {},
   "outputs": [
    {
     "data": {
      "text/html": [
       "<div>\n",
       "<style scoped>\n",
       "    .dataframe tbody tr th:only-of-type {\n",
       "        vertical-align: middle;\n",
       "    }\n",
       "\n",
       "    .dataframe tbody tr th {\n",
       "        vertical-align: top;\n",
       "    }\n",
       "\n",
       "    .dataframe thead th {\n",
       "        text-align: right;\n",
       "    }\n",
       "</style>\n",
       "<table border=\"1\" class=\"dataframe\">\n",
       "  <thead>\n",
       "    <tr style=\"text-align: right;\">\n",
       "      <th></th>\n",
       "      <th>level_0</th>\n",
       "      <th>level_1</th>\n",
       "      <th>level_2</th>\n",
       "      <th>level_3</th>\n",
       "      <th>level_4</th>\n",
       "      <th>level_5</th>\n",
       "      <th>level_6</th>\n",
       "      <th>level_7</th>\n",
       "      <th>level_8</th>\n",
       "      <th>level_9</th>\n",
       "      <th>level_10</th>\n",
       "      <th>level_11</th>\n",
       "      <th>level_12</th>\n",
       "      <th>level_13</th>\n",
       "      <th>Glukose-Werte</th>\n",
       "      <th>Erstellt am</th>\n",
       "      <th>25-02-2021 17:28 UTC</th>\n",
       "      <th>Erstellt von</th>\n",
       "      <th>aaa</th>\n",
       "    </tr>\n",
       "  </thead>\n",
       "  <tbody>\n",
       "    <tr>\n",
       "      <th>0</th>\n",
       "      <td>Gerät</td>\n",
       "      <td>Seriennummer</td>\n",
       "      <td>Gerätezeitstempel</td>\n",
       "      <td>Aufzeichnungstyp</td>\n",
       "      <td>Glukosewert-Verlauf mg/dL</td>\n",
       "      <td>Glukose-Scan mg/dL</td>\n",
       "      <td>Nicht numerisches schnellwirkendes Insulin</td>\n",
       "      <td>Schnellwirkendes Insulin (Einheiten)</td>\n",
       "      <td>Nicht numerische Nahrungsdaten</td>\n",
       "      <td>Kohlenhydrate (Gramm)</td>\n",
       "      <td>Kohlenhydrate (Portionen)</td>\n",
       "      <td>Nicht numerisches Depotinsulin</td>\n",
       "      <td>Depotinsulin (Einheiten)</td>\n",
       "      <td>Notizen</td>\n",
       "      <td>Glukose-Teststreifen mg/dL</td>\n",
       "      <td>Keton mmol/L</td>\n",
       "      <td>Mahlzeiteninsulin (Einheiten)</td>\n",
       "      <td>Korrekturinsulin (Einheiten)</td>\n",
       "      <td>Insulin-Änderung durch Anwender (Einheiten)</td>\n",
       "    </tr>\n",
       "    <tr>\n",
       "      <th>1</th>\n",
       "      <td>FreeStyle LibreLink</td>\n",
       "      <td>1D48A10E-DDFB-4888-8158-026F08814832</td>\n",
       "      <td>18-02-2021 10:57</td>\n",
       "      <td>0</td>\n",
       "      <td>77</td>\n",
       "      <td>NaN</td>\n",
       "      <td>NaN</td>\n",
       "      <td>NaN</td>\n",
       "      <td>NaN</td>\n",
       "      <td>NaN</td>\n",
       "      <td>NaN</td>\n",
       "      <td>NaN</td>\n",
       "      <td>NaN</td>\n",
       "      <td>NaN</td>\n",
       "      <td>NaN</td>\n",
       "      <td>NaN</td>\n",
       "      <td>NaN</td>\n",
       "      <td>NaN</td>\n",
       "      <td>NaN</td>\n",
       "    </tr>\n",
       "    <tr>\n",
       "      <th>2</th>\n",
       "      <td>FreeStyle LibreLink</td>\n",
       "      <td>1D48A10E-DDFB-4888-8158-026F08814832</td>\n",
       "      <td>18-02-2021 11:12</td>\n",
       "      <td>0</td>\n",
       "      <td>78</td>\n",
       "      <td>NaN</td>\n",
       "      <td>NaN</td>\n",
       "      <td>NaN</td>\n",
       "      <td>NaN</td>\n",
       "      <td>NaN</td>\n",
       "      <td>NaN</td>\n",
       "      <td>NaN</td>\n",
       "      <td>NaN</td>\n",
       "      <td>NaN</td>\n",
       "      <td>NaN</td>\n",
       "      <td>NaN</td>\n",
       "      <td>NaN</td>\n",
       "      <td>NaN</td>\n",
       "      <td>NaN</td>\n",
       "    </tr>\n",
       "    <tr>\n",
       "      <th>3</th>\n",
       "      <td>FreeStyle LibreLink</td>\n",
       "      <td>1D48A10E-DDFB-4888-8158-026F08814832</td>\n",
       "      <td>18-02-2021 11:27</td>\n",
       "      <td>0</td>\n",
       "      <td>78</td>\n",
       "      <td>NaN</td>\n",
       "      <td>NaN</td>\n",
       "      <td>NaN</td>\n",
       "      <td>NaN</td>\n",
       "      <td>NaN</td>\n",
       "      <td>NaN</td>\n",
       "      <td>NaN</td>\n",
       "      <td>NaN</td>\n",
       "      <td>NaN</td>\n",
       "      <td>NaN</td>\n",
       "      <td>NaN</td>\n",
       "      <td>NaN</td>\n",
       "      <td>NaN</td>\n",
       "      <td>NaN</td>\n",
       "    </tr>\n",
       "    <tr>\n",
       "      <th>4</th>\n",
       "      <td>FreeStyle LibreLink</td>\n",
       "      <td>1D48A10E-DDFB-4888-8158-026F08814832</td>\n",
       "      <td>18-02-2021 11:42</td>\n",
       "      <td>0</td>\n",
       "      <td>76</td>\n",
       "      <td>NaN</td>\n",
       "      <td>NaN</td>\n",
       "      <td>NaN</td>\n",
       "      <td>NaN</td>\n",
       "      <td>NaN</td>\n",
       "      <td>NaN</td>\n",
       "      <td>NaN</td>\n",
       "      <td>NaN</td>\n",
       "      <td>NaN</td>\n",
       "      <td>NaN</td>\n",
       "      <td>NaN</td>\n",
       "      <td>NaN</td>\n",
       "      <td>NaN</td>\n",
       "      <td>NaN</td>\n",
       "    </tr>\n",
       "  </tbody>\n",
       "</table>\n",
       "</div>"
      ],
      "text/plain": [
       "               level_0                               level_1  \\\n",
       "0                Gerät                          Seriennummer   \n",
       "1  FreeStyle LibreLink  1D48A10E-DDFB-4888-8158-026F08814832   \n",
       "2  FreeStyle LibreLink  1D48A10E-DDFB-4888-8158-026F08814832   \n",
       "3  FreeStyle LibreLink  1D48A10E-DDFB-4888-8158-026F08814832   \n",
       "4  FreeStyle LibreLink  1D48A10E-DDFB-4888-8158-026F08814832   \n",
       "\n",
       "             level_2           level_3                    level_4  \\\n",
       "0  Gerätezeitstempel  Aufzeichnungstyp  Glukosewert-Verlauf mg/dL   \n",
       "1   18-02-2021 10:57                 0                         77   \n",
       "2   18-02-2021 11:12                 0                         78   \n",
       "3   18-02-2021 11:27                 0                         78   \n",
       "4   18-02-2021 11:42                 0                         76   \n",
       "\n",
       "              level_5                                     level_6  \\\n",
       "0  Glukose-Scan mg/dL  Nicht numerisches schnellwirkendes Insulin   \n",
       "1                 NaN                                         NaN   \n",
       "2                 NaN                                         NaN   \n",
       "3                 NaN                                         NaN   \n",
       "4                 NaN                                         NaN   \n",
       "\n",
       "                                level_7                         level_8  \\\n",
       "0  Schnellwirkendes Insulin (Einheiten)  Nicht numerische Nahrungsdaten   \n",
       "1                                   NaN                             NaN   \n",
       "2                                   NaN                             NaN   \n",
       "3                                   NaN                             NaN   \n",
       "4                                   NaN                             NaN   \n",
       "\n",
       "                 level_9                   level_10  \\\n",
       "0  Kohlenhydrate (Gramm)  Kohlenhydrate (Portionen)   \n",
       "1                    NaN                        NaN   \n",
       "2                    NaN                        NaN   \n",
       "3                    NaN                        NaN   \n",
       "4                    NaN                        NaN   \n",
       "\n",
       "                         level_11                  level_12 level_13  \\\n",
       "0  Nicht numerisches Depotinsulin  Depotinsulin (Einheiten)  Notizen   \n",
       "1                             NaN                       NaN      NaN   \n",
       "2                             NaN                       NaN      NaN   \n",
       "3                             NaN                       NaN      NaN   \n",
       "4                             NaN                       NaN      NaN   \n",
       "\n",
       "                Glukose-Werte   Erstellt am           25-02-2021 17:28 UTC  \\\n",
       "0  Glukose-Teststreifen mg/dL  Keton mmol/L  Mahlzeiteninsulin (Einheiten)   \n",
       "1                         NaN           NaN                            NaN   \n",
       "2                         NaN           NaN                            NaN   \n",
       "3                         NaN           NaN                            NaN   \n",
       "4                         NaN           NaN                            NaN   \n",
       "\n",
       "                   Erstellt von                                          aaa  \n",
       "0  Korrekturinsulin (Einheiten)  Insulin-Änderung durch Anwender (Einheiten)  \n",
       "1                           NaN                                          NaN  \n",
       "2                           NaN                                          NaN  \n",
       "3                           NaN                                          NaN  \n",
       "4                           NaN                                          NaN  "
      ]
     },
     "execution_count": 12,
     "metadata": {},
     "output_type": "execute_result"
    }
   ],
   "source": [
    "df_2.head()"
   ]
  },
  {
   "cell_type": "code",
   "execution_count": 13,
   "metadata": {},
   "outputs": [],
   "source": [
    "header = df_2.iloc[0] \n",
    "df_2 = df_2[1:] \n",
    "df_2.columns = header "
   ]
  },
  {
   "cell_type": "code",
   "execution_count": 14,
   "metadata": {},
   "outputs": [
    {
     "data": {
      "text/html": [
       "<div>\n",
       "<style scoped>\n",
       "    .dataframe tbody tr th:only-of-type {\n",
       "        vertical-align: middle;\n",
       "    }\n",
       "\n",
       "    .dataframe tbody tr th {\n",
       "        vertical-align: top;\n",
       "    }\n",
       "\n",
       "    .dataframe thead th {\n",
       "        text-align: right;\n",
       "    }\n",
       "</style>\n",
       "<table border=\"1\" class=\"dataframe\">\n",
       "  <thead>\n",
       "    <tr style=\"text-align: right;\">\n",
       "      <th></th>\n",
       "      <th>Gerät</th>\n",
       "      <th>Seriennummer</th>\n",
       "      <th>Gerätezeitstempel</th>\n",
       "      <th>Aufzeichnungstyp</th>\n",
       "      <th>Glukosewert-Verlauf mg/dL</th>\n",
       "      <th>Glukose-Scan mg/dL</th>\n",
       "      <th>Nicht numerisches schnellwirkendes Insulin</th>\n",
       "      <th>Schnellwirkendes Insulin (Einheiten)</th>\n",
       "      <th>Nicht numerische Nahrungsdaten</th>\n",
       "      <th>Kohlenhydrate (Gramm)</th>\n",
       "      <th>Kohlenhydrate (Portionen)</th>\n",
       "      <th>Nicht numerisches Depotinsulin</th>\n",
       "      <th>Depotinsulin (Einheiten)</th>\n",
       "      <th>Notizen</th>\n",
       "      <th>Glukose-Teststreifen mg/dL</th>\n",
       "      <th>Keton mmol/L</th>\n",
       "      <th>Mahlzeiteninsulin (Einheiten)</th>\n",
       "      <th>Korrekturinsulin (Einheiten)</th>\n",
       "      <th>Insulin-Änderung durch Anwender (Einheiten)</th>\n",
       "    </tr>\n",
       "  </thead>\n",
       "  <tbody>\n",
       "    <tr>\n",
       "      <th>1</th>\n",
       "      <td>FreeStyle LibreLink</td>\n",
       "      <td>1D48A10E-DDFB-4888-8158-026F08814832</td>\n",
       "      <td>18-02-2021 10:57</td>\n",
       "      <td>0</td>\n",
       "      <td>77</td>\n",
       "      <td>NaN</td>\n",
       "      <td>NaN</td>\n",
       "      <td>NaN</td>\n",
       "      <td>NaN</td>\n",
       "      <td>NaN</td>\n",
       "      <td>NaN</td>\n",
       "      <td>NaN</td>\n",
       "      <td>NaN</td>\n",
       "      <td>NaN</td>\n",
       "      <td>NaN</td>\n",
       "      <td>NaN</td>\n",
       "      <td>NaN</td>\n",
       "      <td>NaN</td>\n",
       "      <td>NaN</td>\n",
       "    </tr>\n",
       "    <tr>\n",
       "      <th>2</th>\n",
       "      <td>FreeStyle LibreLink</td>\n",
       "      <td>1D48A10E-DDFB-4888-8158-026F08814832</td>\n",
       "      <td>18-02-2021 11:12</td>\n",
       "      <td>0</td>\n",
       "      <td>78</td>\n",
       "      <td>NaN</td>\n",
       "      <td>NaN</td>\n",
       "      <td>NaN</td>\n",
       "      <td>NaN</td>\n",
       "      <td>NaN</td>\n",
       "      <td>NaN</td>\n",
       "      <td>NaN</td>\n",
       "      <td>NaN</td>\n",
       "      <td>NaN</td>\n",
       "      <td>NaN</td>\n",
       "      <td>NaN</td>\n",
       "      <td>NaN</td>\n",
       "      <td>NaN</td>\n",
       "      <td>NaN</td>\n",
       "    </tr>\n",
       "    <tr>\n",
       "      <th>3</th>\n",
       "      <td>FreeStyle LibreLink</td>\n",
       "      <td>1D48A10E-DDFB-4888-8158-026F08814832</td>\n",
       "      <td>18-02-2021 11:27</td>\n",
       "      <td>0</td>\n",
       "      <td>78</td>\n",
       "      <td>NaN</td>\n",
       "      <td>NaN</td>\n",
       "      <td>NaN</td>\n",
       "      <td>NaN</td>\n",
       "      <td>NaN</td>\n",
       "      <td>NaN</td>\n",
       "      <td>NaN</td>\n",
       "      <td>NaN</td>\n",
       "      <td>NaN</td>\n",
       "      <td>NaN</td>\n",
       "      <td>NaN</td>\n",
       "      <td>NaN</td>\n",
       "      <td>NaN</td>\n",
       "      <td>NaN</td>\n",
       "    </tr>\n",
       "    <tr>\n",
       "      <th>4</th>\n",
       "      <td>FreeStyle LibreLink</td>\n",
       "      <td>1D48A10E-DDFB-4888-8158-026F08814832</td>\n",
       "      <td>18-02-2021 11:42</td>\n",
       "      <td>0</td>\n",
       "      <td>76</td>\n",
       "      <td>NaN</td>\n",
       "      <td>NaN</td>\n",
       "      <td>NaN</td>\n",
       "      <td>NaN</td>\n",
       "      <td>NaN</td>\n",
       "      <td>NaN</td>\n",
       "      <td>NaN</td>\n",
       "      <td>NaN</td>\n",
       "      <td>NaN</td>\n",
       "      <td>NaN</td>\n",
       "      <td>NaN</td>\n",
       "      <td>NaN</td>\n",
       "      <td>NaN</td>\n",
       "      <td>NaN</td>\n",
       "    </tr>\n",
       "    <tr>\n",
       "      <th>5</th>\n",
       "      <td>FreeStyle LibreLink</td>\n",
       "      <td>1D48A10E-DDFB-4888-8158-026F08814832</td>\n",
       "      <td>18-02-2021 11:57</td>\n",
       "      <td>0</td>\n",
       "      <td>75</td>\n",
       "      <td>NaN</td>\n",
       "      <td>NaN</td>\n",
       "      <td>NaN</td>\n",
       "      <td>NaN</td>\n",
       "      <td>NaN</td>\n",
       "      <td>NaN</td>\n",
       "      <td>NaN</td>\n",
       "      <td>NaN</td>\n",
       "      <td>NaN</td>\n",
       "      <td>NaN</td>\n",
       "      <td>NaN</td>\n",
       "      <td>NaN</td>\n",
       "      <td>NaN</td>\n",
       "      <td>NaN</td>\n",
       "    </tr>\n",
       "  </tbody>\n",
       "</table>\n",
       "</div>"
      ],
      "text/plain": [
       "0                Gerät                          Seriennummer  \\\n",
       "1  FreeStyle LibreLink  1D48A10E-DDFB-4888-8158-026F08814832   \n",
       "2  FreeStyle LibreLink  1D48A10E-DDFB-4888-8158-026F08814832   \n",
       "3  FreeStyle LibreLink  1D48A10E-DDFB-4888-8158-026F08814832   \n",
       "4  FreeStyle LibreLink  1D48A10E-DDFB-4888-8158-026F08814832   \n",
       "5  FreeStyle LibreLink  1D48A10E-DDFB-4888-8158-026F08814832   \n",
       "\n",
       "0 Gerätezeitstempel Aufzeichnungstyp Glukosewert-Verlauf mg/dL  \\\n",
       "1  18-02-2021 10:57                0                        77   \n",
       "2  18-02-2021 11:12                0                        78   \n",
       "3  18-02-2021 11:27                0                        78   \n",
       "4  18-02-2021 11:42                0                        76   \n",
       "5  18-02-2021 11:57                0                        75   \n",
       "\n",
       "0 Glukose-Scan mg/dL Nicht numerisches schnellwirkendes Insulin  \\\n",
       "1                NaN                                        NaN   \n",
       "2                NaN                                        NaN   \n",
       "3                NaN                                        NaN   \n",
       "4                NaN                                        NaN   \n",
       "5                NaN                                        NaN   \n",
       "\n",
       "0 Schnellwirkendes Insulin (Einheiten) Nicht numerische Nahrungsdaten  \\\n",
       "1                                  NaN                            NaN   \n",
       "2                                  NaN                            NaN   \n",
       "3                                  NaN                            NaN   \n",
       "4                                  NaN                            NaN   \n",
       "5                                  NaN                            NaN   \n",
       "\n",
       "0 Kohlenhydrate (Gramm) Kohlenhydrate (Portionen)  \\\n",
       "1                   NaN                       NaN   \n",
       "2                   NaN                       NaN   \n",
       "3                   NaN                       NaN   \n",
       "4                   NaN                       NaN   \n",
       "5                   NaN                       NaN   \n",
       "\n",
       "0 Nicht numerisches Depotinsulin Depotinsulin (Einheiten) Notizen  \\\n",
       "1                            NaN                      NaN     NaN   \n",
       "2                            NaN                      NaN     NaN   \n",
       "3                            NaN                      NaN     NaN   \n",
       "4                            NaN                      NaN     NaN   \n",
       "5                            NaN                      NaN     NaN   \n",
       "\n",
       "0 Glukose-Teststreifen mg/dL Keton mmol/L Mahlzeiteninsulin (Einheiten)  \\\n",
       "1                        NaN          NaN                           NaN   \n",
       "2                        NaN          NaN                           NaN   \n",
       "3                        NaN          NaN                           NaN   \n",
       "4                        NaN          NaN                           NaN   \n",
       "5                        NaN          NaN                           NaN   \n",
       "\n",
       "0 Korrekturinsulin (Einheiten) Insulin-Änderung durch Anwender (Einheiten)  \n",
       "1                          NaN                                         NaN  \n",
       "2                          NaN                                         NaN  \n",
       "3                          NaN                                         NaN  \n",
       "4                          NaN                                         NaN  \n",
       "5                          NaN                                         NaN  "
      ]
     },
     "execution_count": 14,
     "metadata": {},
     "output_type": "execute_result"
    }
   ],
   "source": [
    "df_2.head()"
   ]
  },
  {
   "cell_type": "code",
   "execution_count": 15,
   "metadata": {},
   "outputs": [
    {
     "data": {
      "text/plain": [
       "(1199, 19)"
      ]
     },
     "execution_count": 15,
     "metadata": {},
     "output_type": "execute_result"
    }
   ],
   "source": [
    "df_2.shape"
   ]
  },
  {
   "cell_type": "code",
   "execution_count": 16,
   "metadata": {},
   "outputs": [
    {
     "name": "stdout",
     "output_type": "stream",
     "text": [
      "<class 'pandas.core.frame.DataFrame'>\n",
      "RangeIndex: 1199 entries, 1 to 1199\n",
      "Data columns (total 19 columns):\n",
      " #   Column                                       Non-Null Count  Dtype \n",
      "---  ------                                       --------------  ----- \n",
      " 0   Gerät                                        1199 non-null   object\n",
      " 1   Seriennummer                                 1199 non-null   object\n",
      " 2   Gerätezeitstempel                            1199 non-null   object\n",
      " 3   Aufzeichnungstyp                             1199 non-null   object\n",
      " 4   Glukosewert-Verlauf mg/dL                    1022 non-null   object\n",
      " 5   Glukose-Scan mg/dL                           163 non-null    object\n",
      " 6   Nicht numerisches schnellwirkendes Insulin   0 non-null      object\n",
      " 7   Schnellwirkendes Insulin (Einheiten)         0 non-null      object\n",
      " 8   Nicht numerische Nahrungsdaten               0 non-null      object\n",
      " 9   Kohlenhydrate (Gramm)                        0 non-null      object\n",
      " 10  Kohlenhydrate (Portionen)                    0 non-null      object\n",
      " 11  Nicht numerisches Depotinsulin               0 non-null      object\n",
      " 12  Depotinsulin (Einheiten)                     0 non-null      object\n",
      " 13  Notizen                                      0 non-null      object\n",
      " 14  Glukose-Teststreifen mg/dL                   0 non-null      object\n",
      " 15  Keton mmol/L                                 0 non-null      object\n",
      " 16  Mahlzeiteninsulin (Einheiten)                0 non-null      object\n",
      " 17  Korrekturinsulin (Einheiten)                 0 non-null      object\n",
      " 18  Insulin-Änderung durch Anwender (Einheiten)  0 non-null      object\n",
      "dtypes: object(19)\n",
      "memory usage: 178.1+ KB\n"
     ]
    }
   ],
   "source": [
    "df_2.info()"
   ]
  },
  {
   "cell_type": "code",
   "execution_count": 17,
   "metadata": {},
   "outputs": [
    {
     "data": {
      "text/plain": [
       "0\n",
       "Gerät                                             0\n",
       "Seriennummer                                      0\n",
       "Gerätezeitstempel                                 0\n",
       "Aufzeichnungstyp                                  0\n",
       "Glukosewert-Verlauf mg/dL                       177\n",
       "Glukose-Scan mg/dL                             1036\n",
       "Nicht numerisches schnellwirkendes Insulin     1199\n",
       "Schnellwirkendes Insulin (Einheiten)           1199\n",
       "Nicht numerische Nahrungsdaten                 1199\n",
       "Kohlenhydrate (Gramm)                          1199\n",
       "Kohlenhydrate (Portionen)                      1199\n",
       "Nicht numerisches Depotinsulin                 1199\n",
       "Depotinsulin (Einheiten)                       1199\n",
       "Notizen                                        1199\n",
       "Glukose-Teststreifen mg/dL                     1199\n",
       "Keton mmol/L                                   1199\n",
       "Mahlzeiteninsulin (Einheiten)                  1199\n",
       "Korrekturinsulin (Einheiten)                   1199\n",
       "Insulin-Änderung durch Anwender (Einheiten)    1199\n",
       "dtype: int64"
      ]
     },
     "execution_count": 17,
     "metadata": {},
     "output_type": "execute_result"
    }
   ],
   "source": [
    "df_2.isna().sum()"
   ]
  },
  {
   "cell_type": "code",
   "execution_count": 18,
   "metadata": {},
   "outputs": [
    {
     "data": {
      "text/plain": [
       "Index(['Gerät', 'Seriennummer', 'Gerätezeitstempel', 'Aufzeichnungstyp',\n",
       "       'Glukosewert-Verlauf mg/dL', 'Glukose-Scan mg/dL',\n",
       "       'Nicht numerisches schnellwirkendes Insulin',\n",
       "       'Schnellwirkendes Insulin (Einheiten)',\n",
       "       'Nicht numerische Nahrungsdaten', 'Kohlenhydrate (Gramm)',\n",
       "       'Kohlenhydrate (Portionen)', 'Nicht numerisches Depotinsulin',\n",
       "       'Depotinsulin (Einheiten)', 'Notizen', 'Glukose-Teststreifen mg/dL',\n",
       "       'Keton mmol/L', 'Mahlzeiteninsulin (Einheiten)',\n",
       "       'Korrekturinsulin (Einheiten)',\n",
       "       'Insulin-Änderung durch Anwender (Einheiten)'],\n",
       "      dtype='object', name=0)"
      ]
     },
     "execution_count": 18,
     "metadata": {},
     "output_type": "execute_result"
    }
   ],
   "source": [
    "df_2.columns"
   ]
  },
  {
   "cell_type": "code",
   "execution_count": 19,
   "metadata": {},
   "outputs": [],
   "source": [
    "#creating a new dataframe out of df_2"
   ]
  },
  {
   "cell_type": "code",
   "execution_count": 20,
   "metadata": {},
   "outputs": [],
   "source": [
    "df_3 = df_2[[\"Gerätezeitstempel\",\"Aufzeichnungstyp\",\"Glukosewert-Verlauf mg/dL\"]]"
   ]
  },
  {
   "cell_type": "code",
   "execution_count": 21,
   "metadata": {},
   "outputs": [
    {
     "data": {
      "text/html": [
       "<div>\n",
       "<style scoped>\n",
       "    .dataframe tbody tr th:only-of-type {\n",
       "        vertical-align: middle;\n",
       "    }\n",
       "\n",
       "    .dataframe tbody tr th {\n",
       "        vertical-align: top;\n",
       "    }\n",
       "\n",
       "    .dataframe thead th {\n",
       "        text-align: right;\n",
       "    }\n",
       "</style>\n",
       "<table border=\"1\" class=\"dataframe\">\n",
       "  <thead>\n",
       "    <tr style=\"text-align: right;\">\n",
       "      <th></th>\n",
       "      <th>Gerätezeitstempel</th>\n",
       "      <th>Aufzeichnungstyp</th>\n",
       "      <th>Glukosewert-Verlauf mg/dL</th>\n",
       "    </tr>\n",
       "  </thead>\n",
       "  <tbody>\n",
       "    <tr>\n",
       "      <th>1</th>\n",
       "      <td>18-02-2021 10:57</td>\n",
       "      <td>0</td>\n",
       "      <td>77</td>\n",
       "    </tr>\n",
       "    <tr>\n",
       "      <th>2</th>\n",
       "      <td>18-02-2021 11:12</td>\n",
       "      <td>0</td>\n",
       "      <td>78</td>\n",
       "    </tr>\n",
       "    <tr>\n",
       "      <th>3</th>\n",
       "      <td>18-02-2021 11:27</td>\n",
       "      <td>0</td>\n",
       "      <td>78</td>\n",
       "    </tr>\n",
       "    <tr>\n",
       "      <th>4</th>\n",
       "      <td>18-02-2021 11:42</td>\n",
       "      <td>0</td>\n",
       "      <td>76</td>\n",
       "    </tr>\n",
       "    <tr>\n",
       "      <th>5</th>\n",
       "      <td>18-02-2021 11:57</td>\n",
       "      <td>0</td>\n",
       "      <td>75</td>\n",
       "    </tr>\n",
       "    <tr>\n",
       "      <th>6</th>\n",
       "      <td>18-02-2021 12:12</td>\n",
       "      <td>0</td>\n",
       "      <td>74</td>\n",
       "    </tr>\n",
       "    <tr>\n",
       "      <th>7</th>\n",
       "      <td>18-02-2021 12:27</td>\n",
       "      <td>0</td>\n",
       "      <td>74</td>\n",
       "    </tr>\n",
       "    <tr>\n",
       "      <th>8</th>\n",
       "      <td>18-02-2021 12:42</td>\n",
       "      <td>0</td>\n",
       "      <td>75</td>\n",
       "    </tr>\n",
       "    <tr>\n",
       "      <th>9</th>\n",
       "      <td>18-02-2021 12:57</td>\n",
       "      <td>0</td>\n",
       "      <td>82</td>\n",
       "    </tr>\n",
       "    <tr>\n",
       "      <th>10</th>\n",
       "      <td>18-02-2021 13:12</td>\n",
       "      <td>0</td>\n",
       "      <td>106</td>\n",
       "    </tr>\n",
       "  </tbody>\n",
       "</table>\n",
       "</div>"
      ],
      "text/plain": [
       "0  Gerätezeitstempel Aufzeichnungstyp Glukosewert-Verlauf mg/dL\n",
       "1   18-02-2021 10:57                0                        77\n",
       "2   18-02-2021 11:12                0                        78\n",
       "3   18-02-2021 11:27                0                        78\n",
       "4   18-02-2021 11:42                0                        76\n",
       "5   18-02-2021 11:57                0                        75\n",
       "6   18-02-2021 12:12                0                        74\n",
       "7   18-02-2021 12:27                0                        74\n",
       "8   18-02-2021 12:42                0                        75\n",
       "9   18-02-2021 12:57                0                        82\n",
       "10  18-02-2021 13:12                0                       106"
      ]
     },
     "execution_count": 21,
     "metadata": {},
     "output_type": "execute_result"
    }
   ],
   "source": [
    "df_3.head(10)"
   ]
  },
  {
   "cell_type": "code",
   "execution_count": 22,
   "metadata": {},
   "outputs": [
    {
     "data": {
      "text/plain": [
       "array(['0', '1', '6'], dtype=object)"
      ]
     },
     "execution_count": 22,
     "metadata": {},
     "output_type": "execute_result"
    }
   ],
   "source": [
    "df_3.Aufzeichnungstyp.unique()"
   ]
  },
  {
   "cell_type": "code",
   "execution_count": 23,
   "metadata": {},
   "outputs": [
    {
     "data": {
      "text/plain": [
       "0\n",
       "Gerätezeitstempel            object\n",
       "Aufzeichnungstyp             object\n",
       "Glukosewert-Verlauf mg/dL    object\n",
       "dtype: object"
      ]
     },
     "execution_count": 23,
     "metadata": {},
     "output_type": "execute_result"
    }
   ],
   "source": [
    "df_3.dtypes"
   ]
  },
  {
   "cell_type": "code",
   "execution_count": 24,
   "metadata": {},
   "outputs": [],
   "source": [
    "#converting datatype"
   ]
  },
  {
   "cell_type": "code",
   "execution_count": 25,
   "metadata": {},
   "outputs": [],
   "source": [
    "df_3['Aufzeichnungstyp'] = df_3['Aufzeichnungstyp'].astype(int)"
   ]
  },
  {
   "cell_type": "code",
   "execution_count": 26,
   "metadata": {},
   "outputs": [],
   "source": [
    "df_3['Glukosewert-Verlauf mg/dL'] = df_3['Glukosewert-Verlauf mg/dL'].astype(float)"
   ]
  },
  {
   "cell_type": "code",
   "execution_count": 27,
   "metadata": {},
   "outputs": [
    {
     "data": {
      "text/plain": [
       "0\n",
       "Gerätezeitstempel             object\n",
       "Aufzeichnungstyp               int64\n",
       "Glukosewert-Verlauf mg/dL    float64\n",
       "dtype: object"
      ]
     },
     "execution_count": 27,
     "metadata": {},
     "output_type": "execute_result"
    }
   ],
   "source": [
    "df_3.dtypes"
   ]
  },
  {
   "cell_type": "code",
   "execution_count": 28,
   "metadata": {},
   "outputs": [
    {
     "data": {
      "text/html": [
       "<div>\n",
       "<style scoped>\n",
       "    .dataframe tbody tr th:only-of-type {\n",
       "        vertical-align: middle;\n",
       "    }\n",
       "\n",
       "    .dataframe tbody tr th {\n",
       "        vertical-align: top;\n",
       "    }\n",
       "\n",
       "    .dataframe thead th {\n",
       "        text-align: right;\n",
       "    }\n",
       "</style>\n",
       "<table border=\"1\" class=\"dataframe\">\n",
       "  <thead>\n",
       "    <tr style=\"text-align: right;\">\n",
       "      <th></th>\n",
       "      <th>Gerätezeitstempel</th>\n",
       "      <th>Aufzeichnungstyp</th>\n",
       "      <th>Glukosewert-Verlauf mg/dL</th>\n",
       "    </tr>\n",
       "  </thead>\n",
       "  <tbody>\n",
       "    <tr>\n",
       "      <th>1</th>\n",
       "      <td>18-02-2021 10:57</td>\n",
       "      <td>0</td>\n",
       "      <td>77.0</td>\n",
       "    </tr>\n",
       "    <tr>\n",
       "      <th>2</th>\n",
       "      <td>18-02-2021 11:12</td>\n",
       "      <td>0</td>\n",
       "      <td>78.0</td>\n",
       "    </tr>\n",
       "    <tr>\n",
       "      <th>3</th>\n",
       "      <td>18-02-2021 11:27</td>\n",
       "      <td>0</td>\n",
       "      <td>78.0</td>\n",
       "    </tr>\n",
       "    <tr>\n",
       "      <th>4</th>\n",
       "      <td>18-02-2021 11:42</td>\n",
       "      <td>0</td>\n",
       "      <td>76.0</td>\n",
       "    </tr>\n",
       "    <tr>\n",
       "      <th>5</th>\n",
       "      <td>18-02-2021 11:57</td>\n",
       "      <td>0</td>\n",
       "      <td>75.0</td>\n",
       "    </tr>\n",
       "  </tbody>\n",
       "</table>\n",
       "</div>"
      ],
      "text/plain": [
       "0 Gerätezeitstempel  Aufzeichnungstyp  Glukosewert-Verlauf mg/dL\n",
       "1  18-02-2021 10:57                 0                       77.0\n",
       "2  18-02-2021 11:12                 0                       78.0\n",
       "3  18-02-2021 11:27                 0                       78.0\n",
       "4  18-02-2021 11:42                 0                       76.0\n",
       "5  18-02-2021 11:57                 0                       75.0"
      ]
     },
     "execution_count": 28,
     "metadata": {},
     "output_type": "execute_result"
    }
   ],
   "source": [
    "df_3.head()"
   ]
  },
  {
   "cell_type": "code",
   "execution_count": 29,
   "metadata": {},
   "outputs": [
    {
     "data": {
      "text/plain": [
       "0\n",
       "Gerätezeitstempel             object\n",
       "Aufzeichnungstyp               int64\n",
       "Glukosewert-Verlauf mg/dL    float64\n",
       "dtype: object"
      ]
     },
     "execution_count": 29,
     "metadata": {},
     "output_type": "execute_result"
    }
   ],
   "source": [
    "df_3.dtypes"
   ]
  },
  {
   "cell_type": "code",
   "execution_count": 30,
   "metadata": {},
   "outputs": [
    {
     "data": {
      "text/plain": [
       "0\n",
       "Gerätezeitstempel              0\n",
       "Aufzeichnungstyp               0\n",
       "Glukosewert-Verlauf mg/dL    177\n",
       "dtype: int64"
      ]
     },
     "execution_count": 30,
     "metadata": {},
     "output_type": "execute_result"
    }
   ],
   "source": [
    "df_3.isna().sum()"
   ]
  },
  {
   "cell_type": "code",
   "execution_count": 31,
   "metadata": {},
   "outputs": [],
   "source": [
    "#filling missing value in \"Glukosewert-Verlauf mg/dL\" with median"
   ]
  },
  {
   "cell_type": "code",
   "execution_count": 32,
   "metadata": {},
   "outputs": [],
   "source": [
    "df_3[\"Glukosewert-Verlauf mg/dL\"] =df_3[\"Glukosewert-Verlauf mg/dL\"].fillna(df_3[\"Glukosewert-Verlauf mg/dL\"].median())"
   ]
  },
  {
   "cell_type": "code",
   "execution_count": 33,
   "metadata": {},
   "outputs": [
    {
     "data": {
      "text/plain": [
       "0\n",
       "Gerätezeitstempel            0\n",
       "Aufzeichnungstyp             0\n",
       "Glukosewert-Verlauf mg/dL    0\n",
       "dtype: int64"
      ]
     },
     "execution_count": 33,
     "metadata": {},
     "output_type": "execute_result"
    }
   ],
   "source": [
    "df_3.isna().sum()"
   ]
  },
  {
   "cell_type": "code",
   "execution_count": 34,
   "metadata": {},
   "outputs": [],
   "source": [
    "#Statistical Analysis"
   ]
  },
  {
   "cell_type": "code",
   "execution_count": 35,
   "metadata": {},
   "outputs": [
    {
     "data": {
      "text/html": [
       "<div>\n",
       "<style scoped>\n",
       "    .dataframe tbody tr th:only-of-type {\n",
       "        vertical-align: middle;\n",
       "    }\n",
       "\n",
       "    .dataframe tbody tr th {\n",
       "        vertical-align: top;\n",
       "    }\n",
       "\n",
       "    .dataframe thead th {\n",
       "        text-align: right;\n",
       "    }\n",
       "</style>\n",
       "<table border=\"1\" class=\"dataframe\">\n",
       "  <thead>\n",
       "    <tr style=\"text-align: right;\">\n",
       "      <th></th>\n",
       "      <th>Aufzeichnungstyp</th>\n",
       "      <th>Glukosewert-Verlauf mg/dL</th>\n",
       "    </tr>\n",
       "  </thead>\n",
       "  <tbody>\n",
       "    <tr>\n",
       "      <th>count</th>\n",
       "      <td>1199.000000</td>\n",
       "      <td>1199.000000</td>\n",
       "    </tr>\n",
       "    <tr>\n",
       "      <th>mean</th>\n",
       "      <td>0.206005</td>\n",
       "      <td>86.005004</td>\n",
       "    </tr>\n",
       "    <tr>\n",
       "      <th>std</th>\n",
       "      <td>0.717139</td>\n",
       "      <td>11.239091</td>\n",
       "    </tr>\n",
       "    <tr>\n",
       "      <th>min</th>\n",
       "      <td>0.000000</td>\n",
       "      <td>56.000000</td>\n",
       "    </tr>\n",
       "    <tr>\n",
       "      <th>25%</th>\n",
       "      <td>0.000000</td>\n",
       "      <td>79.000000</td>\n",
       "    </tr>\n",
       "    <tr>\n",
       "      <th>50%</th>\n",
       "      <td>0.000000</td>\n",
       "      <td>84.000000</td>\n",
       "    </tr>\n",
       "    <tr>\n",
       "      <th>75%</th>\n",
       "      <td>0.000000</td>\n",
       "      <td>90.000000</td>\n",
       "    </tr>\n",
       "    <tr>\n",
       "      <th>max</th>\n",
       "      <td>6.000000</td>\n",
       "      <td>162.000000</td>\n",
       "    </tr>\n",
       "  </tbody>\n",
       "</table>\n",
       "</div>"
      ],
      "text/plain": [
       "0      Aufzeichnungstyp  Glukosewert-Verlauf mg/dL\n",
       "count       1199.000000                1199.000000\n",
       "mean           0.206005                  86.005004\n",
       "std            0.717139                  11.239091\n",
       "min            0.000000                  56.000000\n",
       "25%            0.000000                  79.000000\n",
       "50%            0.000000                  84.000000\n",
       "75%            0.000000                  90.000000\n",
       "max            6.000000                 162.000000"
      ]
     },
     "execution_count": 35,
     "metadata": {},
     "output_type": "execute_result"
    }
   ],
   "source": [
    "df_3.describe()"
   ]
  },
  {
   "cell_type": "code",
   "execution_count": 36,
   "metadata": {},
   "outputs": [
    {
     "data": {
      "text/plain": [
       "0    1022\n",
       "1     163\n",
       "6      14\n",
       "Name: Aufzeichnungstyp, dtype: int64"
      ]
     },
     "execution_count": 36,
     "metadata": {},
     "output_type": "execute_result"
    }
   ],
   "source": [
    "df_3.Aufzeichnungstyp.value_counts()"
   ]
  },
  {
   "cell_type": "code",
   "execution_count": 37,
   "metadata": {},
   "outputs": [
    {
     "data": {
      "image/png": "[encoded data removed]",
      "text/plain": [
       "<Figure size 432x288 with 1 Axes>"
      ]
     },
     "metadata": {
      "needs_background": "light"
     },
     "output_type": "display_data"
    }
   ],
   "source": [
    "sns.countplot(\"Aufzeichnungstyp\", data=df_3)\n",
    "plt.show()"
   ]
  },
  {
   "cell_type": "code",
   "execution_count": 38,
   "metadata": {},
   "outputs": [
    {
     "data": {
      "text/plain": [
       "84.0     214\n",
       "81.0      59\n",
       "77.0      49\n",
       "78.0      47\n",
       "86.0      44\n",
       "        ... \n",
       "132.0      1\n",
       "64.0       1\n",
       "60.0       1\n",
       "56.0       1\n",
       "157.0      1\n",
       "Name: Glukosewert-Verlauf mg/dL, Length: 69, dtype: int64"
      ]
     },
     "execution_count": 38,
     "metadata": {},
     "output_type": "execute_result"
    }
   ],
   "source": [
    "df_3[\"Glukosewert-Verlauf mg/dL\"].value_counts()"
   ]
  },
  {
   "cell_type": "code",
   "execution_count": 39,
   "metadata": {},
   "outputs": [],
   "source": [
    "#converting 'Gerätezeitstempel' to datetime"
   ]
  },
  {
   "cell_type": "code",
   "execution_count": 40,
   "metadata": {},
   "outputs": [
    {
     "data": {
      "text/html": [
       "<div>\n",
       "<style scoped>\n",
       "    .dataframe tbody tr th:only-of-type {\n",
       "        vertical-align: middle;\n",
       "    }\n",
       "\n",
       "    .dataframe tbody tr th {\n",
       "        vertical-align: top;\n",
       "    }\n",
       "\n",
       "    .dataframe thead th {\n",
       "        text-align: right;\n",
       "    }\n",
       "</style>\n",
       "<table border=\"1\" class=\"dataframe\">\n",
       "  <thead>\n",
       "    <tr style=\"text-align: right;\">\n",
       "      <th></th>\n",
       "      <th>Gerätezeitstempel</th>\n",
       "      <th>Aufzeichnungstyp</th>\n",
       "      <th>Glukosewert-Verlauf mg/dL</th>\n",
       "    </tr>\n",
       "  </thead>\n",
       "  <tbody>\n",
       "    <tr>\n",
       "      <th>1</th>\n",
       "      <td>2021-02-18 10:57:00</td>\n",
       "      <td>0</td>\n",
       "      <td>77.0</td>\n",
       "    </tr>\n",
       "    <tr>\n",
       "      <th>2</th>\n",
       "      <td>2021-02-18 11:12:00</td>\n",
       "      <td>0</td>\n",
       "      <td>78.0</td>\n",
       "    </tr>\n",
       "    <tr>\n",
       "      <th>3</th>\n",
       "      <td>2021-02-18 11:27:00</td>\n",
       "      <td>0</td>\n",
       "      <td>78.0</td>\n",
       "    </tr>\n",
       "    <tr>\n",
       "      <th>4</th>\n",
       "      <td>2021-02-18 11:42:00</td>\n",
       "      <td>0</td>\n",
       "      <td>76.0</td>\n",
       "    </tr>\n",
       "    <tr>\n",
       "      <th>5</th>\n",
       "      <td>2021-02-18 11:57:00</td>\n",
       "      <td>0</td>\n",
       "      <td>75.0</td>\n",
       "    </tr>\n",
       "  </tbody>\n",
       "</table>\n",
       "</div>"
      ],
      "text/plain": [
       "0   Gerätezeitstempel  Aufzeichnungstyp  Glukosewert-Verlauf mg/dL\n",
       "1 2021-02-18 10:57:00                 0                       77.0\n",
       "2 2021-02-18 11:12:00                 0                       78.0\n",
       "3 2021-02-18 11:27:00                 0                       78.0\n",
       "4 2021-02-18 11:42:00                 0                       76.0\n",
       "5 2021-02-18 11:57:00                 0                       75.0"
      ]
     },
     "execution_count": 40,
     "metadata": {},
     "output_type": "execute_result"
    }
   ],
   "source": [
    "df_3['Gerätezeitstempel'] = pd.DatetimeIndex(df_3['Gerätezeitstempel']) \n",
    "df_3.head()"
   ]
  },
  {
   "cell_type": "code",
   "execution_count": 41,
   "metadata": {},
   "outputs": [],
   "source": [
    "df_3 = df_3.sort_values(by='Gerätezeitstempel', ascending=True)"
   ]
  },
  {
   "cell_type": "code",
   "execution_count": 42,
   "metadata": {},
   "outputs": [
    {
     "data": {
      "text/html": [
       "<div>\n",
       "<style scoped>\n",
       "    .dataframe tbody tr th:only-of-type {\n",
       "        vertical-align: middle;\n",
       "    }\n",
       "\n",
       "    .dataframe tbody tr th {\n",
       "        vertical-align: top;\n",
       "    }\n",
       "\n",
       "    .dataframe thead th {\n",
       "        text-align: right;\n",
       "    }\n",
       "</style>\n",
       "<table border=\"1\" class=\"dataframe\">\n",
       "  <thead>\n",
       "    <tr style=\"text-align: right;\">\n",
       "      <th></th>\n",
       "      <th>Aufzeichnungstyp</th>\n",
       "      <th>Glukosewert-Verlauf mg/dL</th>\n",
       "    </tr>\n",
       "    <tr>\n",
       "      <th>Gerätezeitstempel</th>\n",
       "      <th></th>\n",
       "      <th></th>\n",
       "    </tr>\n",
       "  </thead>\n",
       "  <tbody>\n",
       "    <tr>\n",
       "      <th>2021-02-14 15:50:00</th>\n",
       "      <td>6</td>\n",
       "      <td>84.0</td>\n",
       "    </tr>\n",
       "    <tr>\n",
       "      <th>2021-02-14 16:50:00</th>\n",
       "      <td>1</td>\n",
       "      <td>84.0</td>\n",
       "    </tr>\n",
       "    <tr>\n",
       "      <th>2021-02-14 16:50:00</th>\n",
       "      <td>6</td>\n",
       "      <td>84.0</td>\n",
       "    </tr>\n",
       "    <tr>\n",
       "      <th>2021-02-14 16:52:00</th>\n",
       "      <td>0</td>\n",
       "      <td>68.0</td>\n",
       "    </tr>\n",
       "    <tr>\n",
       "      <th>2021-02-14 16:57:00</th>\n",
       "      <td>1</td>\n",
       "      <td>84.0</td>\n",
       "    </tr>\n",
       "  </tbody>\n",
       "</table>\n",
       "</div>"
      ],
      "text/plain": [
       "0                    Aufzeichnungstyp  Glukosewert-Verlauf mg/dL\n",
       "Gerätezeitstempel                                               \n",
       "2021-02-14 15:50:00                 6                       84.0\n",
       "2021-02-14 16:50:00                 1                       84.0\n",
       "2021-02-14 16:50:00                 6                       84.0\n",
       "2021-02-14 16:52:00                 0                       68.0\n",
       "2021-02-14 16:57:00                 1                       84.0"
      ]
     },
     "execution_count": 42,
     "metadata": {},
     "output_type": "execute_result"
    }
   ],
   "source": [
    "df_3 = df_3.set_index('Gerätezeitstempel')\n",
    "df_3.head()"
   ]
  },
  {
   "cell_type": "code",
   "execution_count": 43,
   "metadata": {},
   "outputs": [
    {
     "data": {
      "text/plain": [
       "(1199, 2)"
      ]
     },
     "execution_count": 43,
     "metadata": {},
     "output_type": "execute_result"
    }
   ],
   "source": [
    "df_3.shape"
   ]
  },
  {
   "cell_type": "code",
   "execution_count": 44,
   "metadata": {},
   "outputs": [],
   "source": [
    "#Time series analysis of blood glucose level and blood glucose level after meal"
   ]
  },
  {
   "cell_type": "code",
   "execution_count": 45,
   "metadata": {},
   "outputs": [
    {
     "data": {
      "text/plain": [
       "<matplotlib.axes._subplots.AxesSubplot at 0x7fadeeb658e0>"
      ]
     },
     "execution_count": 45,
     "metadata": {},
     "output_type": "execute_result"
    },
    {
     "data": {
      "image/png": "[encoded data removed]",
      "text/plain": [
       "<Figure size 1080x720 with 1 Axes>"
      ]
     },
     "metadata": {
      "needs_background": "light"
     },
     "output_type": "display_data"
    }
   ],
   "source": [
    "matplotlib.rcParams['figure.figsize'] = [15.0,10.0]\n",
    "df_3.plot(grid=True)"
   ]
  },
  {
   "cell_type": "code",
   "execution_count": 46,
   "metadata": {},
   "outputs": [],
   "source": [
    "#removing the value of 6 from 'Aufzeichnungstyp'"
   ]
  },
  {
   "cell_type": "code",
   "execution_count": 47,
   "metadata": {},
   "outputs": [],
   "source": [
    "df_3.drop(df_3[df_3['Aufzeichnungstyp']==6].index, inplace = True)"
   ]
  },
  {
   "cell_type": "markdown",
   "metadata": {},
   "source": [
    "Time series analysis of blood glucose level and blood glucose level after meal after removing the value of 6 from \n",
    "'Aufzeichnungstyp' and this indicate that the blood glucose level of this patient really hit the high numbers in \n",
    "the month of February 2021. \n"
   ]
  },
  {
   "cell_type": "code",
   "execution_count": 48,
   "metadata": {},
   "outputs": [
    {
     "data": {
      "text/plain": [
       "<matplotlib.axes._subplots.AxesSubplot at 0x7fadeec06610>"
      ]
     },
     "execution_count": 48,
     "metadata": {},
     "output_type": "execute_result"
    },
    {
     "data": {
      "image/png": "[encoded data removed]",
      "text/plain": [
       "<Figure size 1080x720 with 1 Axes>"
      ]
     },
     "metadata": {
      "needs_background": "light"
     },
     "output_type": "display_data"
    }
   ],
   "source": [
    "matplotlib.rcParams['figure.figsize'] = [15.0,10.0]\n",
    "df_3.plot(grid=True)"
   ]
  },
  {
   "cell_type": "code",
   "execution_count": 49,
   "metadata": {},
   "outputs": [],
   "source": [
    "#creating a new dataframe"
   ]
  },
  {
   "cell_type": "code",
   "execution_count": 50,
   "metadata": {},
   "outputs": [],
   "source": [
    "df_4 = df_2[[\"Gerätezeitstempel\",\"Aufzeichnungstyp\",\"Glukosewert-Verlauf mg/dL\"]]"
   ]
  },
  {
   "cell_type": "code",
   "execution_count": 51,
   "metadata": {},
   "outputs": [
    {
     "data": {
      "text/html": [
       "<div>\n",
       "<style scoped>\n",
       "    .dataframe tbody tr th:only-of-type {\n",
       "        vertical-align: middle;\n",
       "    }\n",
       "\n",
       "    .dataframe tbody tr th {\n",
       "        vertical-align: top;\n",
       "    }\n",
       "\n",
       "    .dataframe thead th {\n",
       "        text-align: right;\n",
       "    }\n",
       "</style>\n",
       "<table border=\"1\" class=\"dataframe\">\n",
       "  <thead>\n",
       "    <tr style=\"text-align: right;\">\n",
       "      <th></th>\n",
       "      <th>Gerätezeitstempel</th>\n",
       "      <th>Aufzeichnungstyp</th>\n",
       "      <th>Glukosewert-Verlauf mg/dL</th>\n",
       "    </tr>\n",
       "  </thead>\n",
       "  <tbody>\n",
       "    <tr>\n",
       "      <th>1</th>\n",
       "      <td>18-02-2021 10:57</td>\n",
       "      <td>0</td>\n",
       "      <td>77</td>\n",
       "    </tr>\n",
       "    <tr>\n",
       "      <th>2</th>\n",
       "      <td>18-02-2021 11:12</td>\n",
       "      <td>0</td>\n",
       "      <td>78</td>\n",
       "    </tr>\n",
       "    <tr>\n",
       "      <th>3</th>\n",
       "      <td>18-02-2021 11:27</td>\n",
       "      <td>0</td>\n",
       "      <td>78</td>\n",
       "    </tr>\n",
       "    <tr>\n",
       "      <th>4</th>\n",
       "      <td>18-02-2021 11:42</td>\n",
       "      <td>0</td>\n",
       "      <td>76</td>\n",
       "    </tr>\n",
       "    <tr>\n",
       "      <th>5</th>\n",
       "      <td>18-02-2021 11:57</td>\n",
       "      <td>0</td>\n",
       "      <td>75</td>\n",
       "    </tr>\n",
       "  </tbody>\n",
       "</table>\n",
       "</div>"
      ],
      "text/plain": [
       "0 Gerätezeitstempel Aufzeichnungstyp Glukosewert-Verlauf mg/dL\n",
       "1  18-02-2021 10:57                0                        77\n",
       "2  18-02-2021 11:12                0                        78\n",
       "3  18-02-2021 11:27                0                        78\n",
       "4  18-02-2021 11:42                0                        76\n",
       "5  18-02-2021 11:57                0                        75"
      ]
     },
     "execution_count": 51,
     "metadata": {},
     "output_type": "execute_result"
    }
   ],
   "source": [
    "df_4.head()"
   ]
  },
  {
   "cell_type": "code",
   "execution_count": 52,
   "metadata": {},
   "outputs": [
    {
     "data": {
      "text/plain": [
       "(1199, 3)"
      ]
     },
     "execution_count": 52,
     "metadata": {},
     "output_type": "execute_result"
    }
   ],
   "source": [
    "df_4.shape"
   ]
  },
  {
   "cell_type": "code",
   "execution_count": 53,
   "metadata": {},
   "outputs": [
    {
     "data": {
      "text/plain": [
       "0\n",
       "Gerätezeitstempel              0\n",
       "Aufzeichnungstyp               0\n",
       "Glukosewert-Verlauf mg/dL    177\n",
       "dtype: int64"
      ]
     },
     "execution_count": 53,
     "metadata": {},
     "output_type": "execute_result"
    }
   ],
   "source": [
    "df_4.isna().sum()"
   ]
  },
  {
   "cell_type": "code",
   "execution_count": 54,
   "metadata": {},
   "outputs": [],
   "source": [
    "df_4[\"Aufzeichnungstyp\"] = pd.to_numeric(df_4[\"Aufzeichnungstyp\"])\n",
    "df_4[\"Glukosewert-Verlauf mg/dL\"] = pd.to_numeric(df_4[\"Glukosewert-Verlauf mg/dL\"])\n",
    "df_4[\"Gerätezeitstempel\"] = pd.to_datetime(df_4[\"Gerätezeitstempel\"])"
   ]
  },
  {
   "cell_type": "code",
   "execution_count": 55,
   "metadata": {},
   "outputs": [],
   "source": [
    "df_4[\"Glukosewert-Verlauf mg/dL\"] =df_4[\"Glukosewert-Verlauf mg/dL\"].fillna(df_4[\"Glukosewert-Verlauf mg/dL\"].median())"
   ]
  },
  {
   "cell_type": "code",
   "execution_count": 56,
   "metadata": {},
   "outputs": [],
   "source": [
    "df_4.drop(df_4[df_4['Aufzeichnungstyp']==6].index, inplace = True)"
   ]
  },
  {
   "cell_type": "code",
   "execution_count": 57,
   "metadata": {},
   "outputs": [
    {
     "data": {
      "text/html": [
       "<div>\n",
       "<style scoped>\n",
       "    .dataframe tbody tr th:only-of-type {\n",
       "        vertical-align: middle;\n",
       "    }\n",
       "\n",
       "    .dataframe tbody tr th {\n",
       "        vertical-align: top;\n",
       "    }\n",
       "\n",
       "    .dataframe thead th {\n",
       "        text-align: right;\n",
       "    }\n",
       "</style>\n",
       "<table border=\"1\" class=\"dataframe\">\n",
       "  <thead>\n",
       "    <tr style=\"text-align: right;\">\n",
       "      <th></th>\n",
       "      <th>Gerätezeitstempel</th>\n",
       "      <th>Aufzeichnungstyp</th>\n",
       "      <th>Glukosewert-Verlauf mg/dL</th>\n",
       "    </tr>\n",
       "  </thead>\n",
       "  <tbody>\n",
       "    <tr>\n",
       "      <th>1</th>\n",
       "      <td>2021-02-18 10:57:00</td>\n",
       "      <td>0</td>\n",
       "      <td>77.0</td>\n",
       "    </tr>\n",
       "    <tr>\n",
       "      <th>2</th>\n",
       "      <td>2021-02-18 11:12:00</td>\n",
       "      <td>0</td>\n",
       "      <td>78.0</td>\n",
       "    </tr>\n",
       "    <tr>\n",
       "      <th>3</th>\n",
       "      <td>2021-02-18 11:27:00</td>\n",
       "      <td>0</td>\n",
       "      <td>78.0</td>\n",
       "    </tr>\n",
       "    <tr>\n",
       "      <th>4</th>\n",
       "      <td>2021-02-18 11:42:00</td>\n",
       "      <td>0</td>\n",
       "      <td>76.0</td>\n",
       "    </tr>\n",
       "    <tr>\n",
       "      <th>5</th>\n",
       "      <td>2021-02-18 11:57:00</td>\n",
       "      <td>0</td>\n",
       "      <td>75.0</td>\n",
       "    </tr>\n",
       "  </tbody>\n",
       "</table>\n",
       "</div>"
      ],
      "text/plain": [
       "0   Gerätezeitstempel  Aufzeichnungstyp  Glukosewert-Verlauf mg/dL\n",
       "1 2021-02-18 10:57:00                 0                       77.0\n",
       "2 2021-02-18 11:12:00                 0                       78.0\n",
       "3 2021-02-18 11:27:00                 0                       78.0\n",
       "4 2021-02-18 11:42:00                 0                       76.0\n",
       "5 2021-02-18 11:57:00                 0                       75.0"
      ]
     },
     "execution_count": 57,
     "metadata": {},
     "output_type": "execute_result"
    }
   ],
   "source": [
    "df_4.head()"
   ]
  },
  {
   "cell_type": "code",
   "execution_count": 58,
   "metadata": {},
   "outputs": [],
   "source": [
    "#creating a cluster based on the time of meal of the patient for the day"
   ]
  },
  {
   "cell_type": "code",
   "execution_count": 59,
   "metadata": {},
   "outputs": [],
   "source": [
    "df_4['nmae'] = pd.cut(pd.to_datetime(df_4.Gerätezeitstempel).dt.hour,\n",
    "       bins=[0, 6, 12, 18, 24],\n",
    "       labels=['night', 'morning', 'afternoon', 'evening'],\n",
    "       right=False,\n",
    "       include_lowest=True)"
   ]
  },
  {
   "cell_type": "code",
   "execution_count": 60,
   "metadata": {},
   "outputs": [
    {
     "data": {
      "text/html": [
       "<div>\n",
       "<style scoped>\n",
       "    .dataframe tbody tr th:only-of-type {\n",
       "        vertical-align: middle;\n",
       "    }\n",
       "\n",
       "    .dataframe tbody tr th {\n",
       "        vertical-align: top;\n",
       "    }\n",
       "\n",
       "    .dataframe thead th {\n",
       "        text-align: right;\n",
       "    }\n",
       "</style>\n",
       "<table border=\"1\" class=\"dataframe\">\n",
       "  <thead>\n",
       "    <tr style=\"text-align: right;\">\n",
       "      <th></th>\n",
       "      <th>Gerätezeitstempel</th>\n",
       "      <th>Aufzeichnungstyp</th>\n",
       "      <th>Glukosewert-Verlauf mg/dL</th>\n",
       "      <th>nmae</th>\n",
       "    </tr>\n",
       "  </thead>\n",
       "  <tbody>\n",
       "    <tr>\n",
       "      <th>1</th>\n",
       "      <td>2021-02-18 10:57:00</td>\n",
       "      <td>0</td>\n",
       "      <td>77.0</td>\n",
       "      <td>morning</td>\n",
       "    </tr>\n",
       "    <tr>\n",
       "      <th>2</th>\n",
       "      <td>2021-02-18 11:12:00</td>\n",
       "      <td>0</td>\n",
       "      <td>78.0</td>\n",
       "      <td>morning</td>\n",
       "    </tr>\n",
       "    <tr>\n",
       "      <th>3</th>\n",
       "      <td>2021-02-18 11:27:00</td>\n",
       "      <td>0</td>\n",
       "      <td>78.0</td>\n",
       "      <td>morning</td>\n",
       "    </tr>\n",
       "    <tr>\n",
       "      <th>4</th>\n",
       "      <td>2021-02-18 11:42:00</td>\n",
       "      <td>0</td>\n",
       "      <td>76.0</td>\n",
       "      <td>morning</td>\n",
       "    </tr>\n",
       "    <tr>\n",
       "      <th>5</th>\n",
       "      <td>2021-02-18 11:57:00</td>\n",
       "      <td>0</td>\n",
       "      <td>75.0</td>\n",
       "      <td>morning</td>\n",
       "    </tr>\n",
       "  </tbody>\n",
       "</table>\n",
       "</div>"
      ],
      "text/plain": [
       "0   Gerätezeitstempel  Aufzeichnungstyp  Glukosewert-Verlauf mg/dL     nmae\n",
       "1 2021-02-18 10:57:00                 0                       77.0  morning\n",
       "2 2021-02-18 11:12:00                 0                       78.0  morning\n",
       "3 2021-02-18 11:27:00                 0                       78.0  morning\n",
       "4 2021-02-18 11:42:00                 0                       76.0  morning\n",
       "5 2021-02-18 11:57:00                 0                       75.0  morning"
      ]
     },
     "execution_count": 60,
     "metadata": {},
     "output_type": "execute_result"
    }
   ],
   "source": [
    "df_4.head()"
   ]
  },
  {
   "cell_type": "code",
   "execution_count": 61,
   "metadata": {},
   "outputs": [
    {
     "data": {
      "text/html": [
       "<div>\n",
       "<style scoped>\n",
       "    .dataframe tbody tr th:only-of-type {\n",
       "        vertical-align: middle;\n",
       "    }\n",
       "\n",
       "    .dataframe tbody tr th {\n",
       "        vertical-align: top;\n",
       "    }\n",
       "\n",
       "    .dataframe thead th {\n",
       "        text-align: right;\n",
       "    }\n",
       "</style>\n",
       "<table border=\"1\" class=\"dataframe\">\n",
       "  <thead>\n",
       "    <tr style=\"text-align: right;\">\n",
       "      <th>Aufzeichnungstyp</th>\n",
       "      <th>0</th>\n",
       "      <th>1</th>\n",
       "    </tr>\n",
       "    <tr>\n",
       "      <th>Glukosewert-Verlauf mg/dL</th>\n",
       "      <th></th>\n",
       "      <th></th>\n",
       "    </tr>\n",
       "  </thead>\n",
       "  <tbody>\n",
       "    <tr>\n",
       "      <th>56.0</th>\n",
       "      <td>1</td>\n",
       "      <td>0</td>\n",
       "    </tr>\n",
       "    <tr>\n",
       "      <th>60.0</th>\n",
       "      <td>1</td>\n",
       "      <td>0</td>\n",
       "    </tr>\n",
       "    <tr>\n",
       "      <th>64.0</th>\n",
       "      <td>1</td>\n",
       "      <td>0</td>\n",
       "    </tr>\n",
       "    <tr>\n",
       "      <th>65.0</th>\n",
       "      <td>1</td>\n",
       "      <td>0</td>\n",
       "    </tr>\n",
       "    <tr>\n",
       "      <th>66.0</th>\n",
       "      <td>5</td>\n",
       "      <td>0</td>\n",
       "    </tr>\n",
       "    <tr>\n",
       "      <th>...</th>\n",
       "      <td>...</td>\n",
       "      <td>...</td>\n",
       "    </tr>\n",
       "    <tr>\n",
       "      <th>141.0</th>\n",
       "      <td>1</td>\n",
       "      <td>0</td>\n",
       "    </tr>\n",
       "    <tr>\n",
       "      <th>143.0</th>\n",
       "      <td>1</td>\n",
       "      <td>0</td>\n",
       "    </tr>\n",
       "    <tr>\n",
       "      <th>157.0</th>\n",
       "      <td>1</td>\n",
       "      <td>0</td>\n",
       "    </tr>\n",
       "    <tr>\n",
       "      <th>159.0</th>\n",
       "      <td>1</td>\n",
       "      <td>0</td>\n",
       "    </tr>\n",
       "    <tr>\n",
       "      <th>162.0</th>\n",
       "      <td>1</td>\n",
       "      <td>0</td>\n",
       "    </tr>\n",
       "  </tbody>\n",
       "</table>\n",
       "<p>69 rows × 2 columns</p>\n",
       "</div>"
      ],
      "text/plain": [
       "Aufzeichnungstyp           0  1\n",
       "Glukosewert-Verlauf mg/dL      \n",
       "56.0                       1  0\n",
       "60.0                       1  0\n",
       "64.0                       1  0\n",
       "65.0                       1  0\n",
       "66.0                       5  0\n",
       "...                       .. ..\n",
       "141.0                      1  0\n",
       "143.0                      1  0\n",
       "157.0                      1  0\n",
       "159.0                      1  0\n",
       "162.0                      1  0\n",
       "\n",
       "[69 rows x 2 columns]"
      ]
     },
     "execution_count": 61,
     "metadata": {},
     "output_type": "execute_result"
    }
   ],
   "source": [
    "pd.crosstab(df_4[\"Glukosewert-Verlauf mg/dL\"],df_4.Aufzeichnungstyp)"
   ]
  },
  {
   "cell_type": "code",
   "execution_count": 62,
   "metadata": {},
   "outputs": [
    {
     "data": {
      "text/plain": [
       "<matplotlib.axes._subplots.AxesSubplot at 0x7fadea60ea90>"
      ]
     },
     "execution_count": 62,
     "metadata": {},
     "output_type": "execute_result"
    },
    {
     "data": {
      "image/png": "[encoded data removed]",
      "text/plain": [
       "<Figure size 1080x720 with 1 Axes>"
      ]
     },
     "metadata": {
      "needs_background": "light"
     },
     "output_type": "display_data"
    }
   ],
   "source": [
    "pd.crosstab(df_4[\"Glukosewert-Verlauf mg/dL\"],df_4.Aufzeichnungstyp).plot.bar()"
   ]
  },
  {
   "cell_type": "code",
   "execution_count": 63,
   "metadata": {},
   "outputs": [
    {
     "data": {
      "text/html": [
       "<div>\n",
       "<style scoped>\n",
       "    .dataframe tbody tr th:only-of-type {\n",
       "        vertical-align: middle;\n",
       "    }\n",
       "\n",
       "    .dataframe tbody tr th {\n",
       "        vertical-align: top;\n",
       "    }\n",
       "\n",
       "    .dataframe thead th {\n",
       "        text-align: right;\n",
       "    }\n",
       "</style>\n",
       "<table border=\"1\" class=\"dataframe\">\n",
       "  <thead>\n",
       "    <tr style=\"text-align: right;\">\n",
       "      <th>Aufzeichnungstyp</th>\n",
       "      <th>0</th>\n",
       "      <th>1</th>\n",
       "    </tr>\n",
       "    <tr>\n",
       "      <th>nmae</th>\n",
       "      <th></th>\n",
       "      <th></th>\n",
       "    </tr>\n",
       "  </thead>\n",
       "  <tbody>\n",
       "    <tr>\n",
       "      <th>night</th>\n",
       "      <td>264</td>\n",
       "      <td>4</td>\n",
       "    </tr>\n",
       "    <tr>\n",
       "      <th>morning</th>\n",
       "      <td>264</td>\n",
       "      <td>46</td>\n",
       "    </tr>\n",
       "    <tr>\n",
       "      <th>afternoon</th>\n",
       "      <td>264</td>\n",
       "      <td>61</td>\n",
       "    </tr>\n",
       "    <tr>\n",
       "      <th>evening</th>\n",
       "      <td>230</td>\n",
       "      <td>52</td>\n",
       "    </tr>\n",
       "  </tbody>\n",
       "</table>\n",
       "</div>"
      ],
      "text/plain": [
       "Aufzeichnungstyp    0   1\n",
       "nmae                     \n",
       "night             264   4\n",
       "morning           264  46\n",
       "afternoon         264  61\n",
       "evening           230  52"
      ]
     },
     "execution_count": 63,
     "metadata": {},
     "output_type": "execute_result"
    }
   ],
   "source": [
    "pd.crosstab(df_4.nmae,df_4.Aufzeichnungstyp)"
   ]
  },
  {
   "cell_type": "code",
   "execution_count": 64,
   "metadata": {},
   "outputs": [
    {
     "data": {
      "text/plain": [
       "<matplotlib.axes._subplots.AxesSubplot at 0x7fadee578820>"
      ]
     },
     "execution_count": 64,
     "metadata": {},
     "output_type": "execute_result"
    },
    {
     "data": {
      "image/png": "[encoded data removed]",
      "text/plain": [
       "<Figure size 1080x720 with 1 Axes>"
      ]
     },
     "metadata": {
      "needs_background": "light"
     },
     "output_type": "display_data"
    }
   ],
   "source": [
    "pd.crosstab(df_4.nmae,df_4.Aufzeichnungstyp).plot.bar()"
   ]
  },
  {
   "cell_type": "code",
   "execution_count": 65,
   "metadata": {},
   "outputs": [
    {
     "data": {
      "text/html": [
       "<div>\n",
       "<style scoped>\n",
       "    .dataframe tbody tr th:only-of-type {\n",
       "        vertical-align: middle;\n",
       "    }\n",
       "\n",
       "    .dataframe tbody tr th {\n",
       "        vertical-align: top;\n",
       "    }\n",
       "\n",
       "    .dataframe thead th {\n",
       "        text-align: right;\n",
       "    }\n",
       "</style>\n",
       "<table border=\"1\" class=\"dataframe\">\n",
       "  <thead>\n",
       "    <tr style=\"text-align: right;\">\n",
       "      <th></th>\n",
       "      <th>Gerätezeitstempel</th>\n",
       "      <th>Aufzeichnungstyp</th>\n",
       "      <th>Glukosewert-Verlauf mg/dL</th>\n",
       "      <th>nmae</th>\n",
       "    </tr>\n",
       "  </thead>\n",
       "  <tbody>\n",
       "    <tr>\n",
       "      <th>1</th>\n",
       "      <td>2021-02-18 10:57:00</td>\n",
       "      <td>0</td>\n",
       "      <td>77.0</td>\n",
       "      <td>morning</td>\n",
       "    </tr>\n",
       "    <tr>\n",
       "      <th>2</th>\n",
       "      <td>2021-02-18 11:12:00</td>\n",
       "      <td>0</td>\n",
       "      <td>78.0</td>\n",
       "      <td>morning</td>\n",
       "    </tr>\n",
       "    <tr>\n",
       "      <th>3</th>\n",
       "      <td>2021-02-18 11:27:00</td>\n",
       "      <td>0</td>\n",
       "      <td>78.0</td>\n",
       "      <td>morning</td>\n",
       "    </tr>\n",
       "    <tr>\n",
       "      <th>4</th>\n",
       "      <td>2021-02-18 11:42:00</td>\n",
       "      <td>0</td>\n",
       "      <td>76.0</td>\n",
       "      <td>morning</td>\n",
       "    </tr>\n",
       "    <tr>\n",
       "      <th>5</th>\n",
       "      <td>2021-02-18 11:57:00</td>\n",
       "      <td>0</td>\n",
       "      <td>75.0</td>\n",
       "      <td>morning</td>\n",
       "    </tr>\n",
       "  </tbody>\n",
       "</table>\n",
       "</div>"
      ],
      "text/plain": [
       "0   Gerätezeitstempel  Aufzeichnungstyp  Glukosewert-Verlauf mg/dL     nmae\n",
       "1 2021-02-18 10:57:00                 0                       77.0  morning\n",
       "2 2021-02-18 11:12:00                 0                       78.0  morning\n",
       "3 2021-02-18 11:27:00                 0                       78.0  morning\n",
       "4 2021-02-18 11:42:00                 0                       76.0  morning\n",
       "5 2021-02-18 11:57:00                 0                       75.0  morning"
      ]
     },
     "execution_count": 65,
     "metadata": {},
     "output_type": "execute_result"
    }
   ],
   "source": [
    "df_4.head()"
   ]
  },
  {
   "cell_type": "code",
   "execution_count": 66,
   "metadata": {},
   "outputs": [
    {
     "data": {
      "text/plain": [
       "<seaborn.axisgrid.FacetGrid at 0x7fadef92a340>"
      ]
     },
     "execution_count": 66,
     "metadata": {},
     "output_type": "execute_result"
    },
    {
     "data": {
      "image/png": "[encoded data removed]",
      "text/plain": [
       "<Figure size 360x360 with 1 Axes>"
      ]
     },
     "metadata": {
      "needs_background": "light"
     },
     "output_type": "display_data"
    }
   ],
   "source": [
    "sns.relplot(x= 'nmae', y = 'Glukosewert-Verlauf mg/dL', data=df_4, kind='scatter',sizes=(20, 100))"
   ]
  },
  {
   "cell_type": "markdown",
   "metadata": {},
   "source": [
    "The evening meal such as 100g VK-Brot weizen goggen-vkbrot, Schokopuddi,50 g BasmatiVollkorn Reis, 20g Currypaste, 15 ...Vollkornwrap mit 75 g Halloumi, 40 g Gewrzgur..,some among them might are the cause of the increase blood glucose sugar level. "
   ]
  },
  {
   "cell_type": "code",
   "execution_count": null,
   "metadata": {},
   "outputs": [],
   "source": []
  }
 ],
 "metadata": {
  "kernelspec": {
   "display_name": "Python 3",
   "language": "python",
   "name": "python3"
  },
  "language_info": {
   "codemirror_mode": {
    "name": "ipython",
    "version": 3
   },
   "file_extension": ".py",
   "mimetype": "text/x-python",
   "name": "python",
   "nbconvert_exporter": "python",
   "pygments_lexer": "ipython3",
   "version": "3.8.3"
  }
 },
 "nbformat": 4,
 "nbformat_minor": 4
}
